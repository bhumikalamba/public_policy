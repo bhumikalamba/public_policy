{
 "cells": [
  {
   "cell_type": "code",
   "execution_count": 93,
   "metadata": {},
   "outputs": [],
   "source": [
    "import requests\n",
    "import json\n",
    "\n",
    "import pyarrow\n",
    "\n",
    "import pandas as pd\n",
    "import seaborn as sns\n",
    "import matplotlib.pyplot as plt\n",
    "\n",
    "import plotly.express as px"
   ]
  },
  {
   "cell_type": "markdown",
   "metadata": {},
   "source": [
    "### Read data from public API and concatenate all the years of data."
   ]
  },
  {
   "cell_type": "markdown",
   "metadata": {},
   "source": [
    "Can we have the API without limit ? \n",
    "https://stackoverflow.com/questions/40745338/whats-the-pattern-to-request-for-all-records-using-restful-app"
   ]
  },
  {
   "cell_type": "code",
   "execution_count": 95,
   "metadata": {},
   "outputs": [
    {
     "name": "stdout",
     "output_type": "stream",
     "text": [
      "https://data.gov.sg/api/action/datastore_search?resource_id=adbbddd3-30e2-445f-a123-29bee150a6fe&limit=10000000\n",
      "https://data.gov.sg/api/action/datastore_search?resource_id=8c00bf08-9124-479e-aeca-7cc411d884c4&limit=10000000\n",
      "https://data.gov.sg/api/action/datastore_search?resource_id=83b2fc37-ce8c-4df4-968b-370fd818138b&limit=10000000\n",
      "https://data.gov.sg/api/action/datastore_search?resource_id=1b702208-44bf-4829-b620-4615ee19b57c&limit=10000000\n",
      "https://data.gov.sg/api/action/datastore_search?resource_id=f1765b54-a209-4718-8d38-a39237f502b3&limit=10000000\n"
     ]
    }
   ],
   "source": [
    "# The default limit is 100 rows. \n",
    "# how to know the upper limit \n",
    "# code it such that all the rows are extracted. &limit=50000\n",
    "max_limit = 10000000\n",
    "url_1990_1999 = 'https://data.gov.sg/api/action/datastore_search?resource_id=adbbddd3-30e2-445f-a123-29bee150a6fe&limit={}'.format(max_limit)\n",
    "url_2000_2012 = 'https://data.gov.sg/api/action/datastore_search?resource_id=8c00bf08-9124-479e-aeca-7cc411d884c4&limit={}'.format(max_limit)\n",
    "url_2012_2014 = 'https://data.gov.sg/api/action/datastore_search?resource_id=83b2fc37-ce8c-4df4-968b-370fd818138b&limit={}'.format(max_limit)\n",
    "url_2015_2016 = 'https://data.gov.sg/api/action/datastore_search?resource_id=1b702208-44bf-4829-b620-4615ee19b57c&limit={}'.format(max_limit)\n",
    "url_2017_present = 'https://data.gov.sg/api/action/datastore_search?resource_id=f1765b54-a209-4718-8d38-a39237f502b3&limit={}'.format(max_limit)\n",
    "\n",
    "\n",
    "url_list = [url_1990_1999, url_2000_2012, url_2012_2014, url_2015_2016, url_2017_present]\n",
    "\n",
    "initial_df = pd.DataFrame({'month':[],\n",
    "                            'town':[],\n",
    "                            'flat_type': [], \n",
    "                            'block': [], \n",
    "                            'street_name': [], \n",
    "                            'storey_range': [], \n",
    "                            'floor_area_sqm':[], \n",
    "                            'flat_model': [], \n",
    "                            'lease_commence_date':[], \n",
    "                            'remaining_lease':[], \n",
    "                            'resale_price':[]})\n",
    "\n",
    "for url in url_list: \n",
    "    print(url)\n",
    "    data = requests.get(url).text\n",
    "    final = json.loads(data)['result']['records']\n",
    "    df = pd.DataFrame(final)\n",
    "    initial_df = pd.concat((initial_df,df), axis=0)\n",
    "    # concat the dataframes along the rows. \n",
    "\n",
    "\n",
    "    # Next task is to combine the block number and the street number to get the lat/long coordinates. \n",
    "\n"
   ]
  },
  {
   "cell_type": "code",
   "execution_count": 96,
   "metadata": {},
   "outputs": [
    {
     "data": {
      "text/html": [
       "<div>\n",
       "<style scoped>\n",
       "    .dataframe tbody tr th:only-of-type {\n",
       "        vertical-align: middle;\n",
       "    }\n",
       "\n",
       "    .dataframe tbody tr th {\n",
       "        vertical-align: top;\n",
       "    }\n",
       "\n",
       "    .dataframe thead th {\n",
       "        text-align: right;\n",
       "    }\n",
       "</style>\n",
       "<table border=\"1\" class=\"dataframe\">\n",
       "  <thead>\n",
       "    <tr style=\"text-align: right;\">\n",
       "      <th></th>\n",
       "      <th>month</th>\n",
       "      <th>town</th>\n",
       "      <th>flat_type</th>\n",
       "      <th>block</th>\n",
       "      <th>street_name</th>\n",
       "      <th>storey_range</th>\n",
       "      <th>floor_area_sqm</th>\n",
       "      <th>flat_model</th>\n",
       "      <th>lease_commence_date</th>\n",
       "      <th>remaining_lease</th>\n",
       "      <th>resale_price</th>\n",
       "      <th>_id</th>\n",
       "    </tr>\n",
       "  </thead>\n",
       "  <tbody>\n",
       "    <tr>\n",
       "      <th>132543</th>\n",
       "      <td>2022-08</td>\n",
       "      <td>YISHUN</td>\n",
       "      <td>5 ROOM</td>\n",
       "      <td>357</td>\n",
       "      <td>YISHUN RING RD</td>\n",
       "      <td>04 TO 06</td>\n",
       "      <td>122</td>\n",
       "      <td>Improved</td>\n",
       "      <td>1988</td>\n",
       "      <td>65 years 01 month</td>\n",
       "      <td>545000</td>\n",
       "      <td>132544.0</td>\n",
       "    </tr>\n",
       "    <tr>\n",
       "      <th>132544</th>\n",
       "      <td>2022-08</td>\n",
       "      <td>YISHUN</td>\n",
       "      <td>5 ROOM</td>\n",
       "      <td>299</td>\n",
       "      <td>YISHUN ST 20</td>\n",
       "      <td>07 TO 09</td>\n",
       "      <td>111</td>\n",
       "      <td>Improved</td>\n",
       "      <td>2000</td>\n",
       "      <td>77 years 04 months</td>\n",
       "      <td>580000</td>\n",
       "      <td>132545.0</td>\n",
       "    </tr>\n",
       "    <tr>\n",
       "      <th>132545</th>\n",
       "      <td>2022-08</td>\n",
       "      <td>YISHUN</td>\n",
       "      <td>5 ROOM</td>\n",
       "      <td>334C</td>\n",
       "      <td>YISHUN ST 31</td>\n",
       "      <td>01 TO 03</td>\n",
       "      <td>112</td>\n",
       "      <td>Improved</td>\n",
       "      <td>2015</td>\n",
       "      <td>92 years 04 months</td>\n",
       "      <td>560000</td>\n",
       "      <td>132546.0</td>\n",
       "    </tr>\n",
       "    <tr>\n",
       "      <th>132546</th>\n",
       "      <td>2022-08</td>\n",
       "      <td>YISHUN</td>\n",
       "      <td>5 ROOM</td>\n",
       "      <td>333A</td>\n",
       "      <td>YISHUN ST 31</td>\n",
       "      <td>10 TO 12</td>\n",
       "      <td>112</td>\n",
       "      <td>Improved</td>\n",
       "      <td>2015</td>\n",
       "      <td>92 years 04 months</td>\n",
       "      <td>578000</td>\n",
       "      <td>132547.0</td>\n",
       "    </tr>\n",
       "    <tr>\n",
       "      <th>132547</th>\n",
       "      <td>2022-08</td>\n",
       "      <td>YISHUN</td>\n",
       "      <td>5 ROOM</td>\n",
       "      <td>760</td>\n",
       "      <td>YISHUN ST 72</td>\n",
       "      <td>07 TO 09</td>\n",
       "      <td>122</td>\n",
       "      <td>Improved</td>\n",
       "      <td>1987</td>\n",
       "      <td>63 years 08 months</td>\n",
       "      <td>608000</td>\n",
       "      <td>132548.0</td>\n",
       "    </tr>\n",
       "  </tbody>\n",
       "</table>\n",
       "</div>"
      ],
      "text/plain": [
       "          month    town flat_type block     street_name storey_range  \\\n",
       "132543  2022-08  YISHUN    5 ROOM   357  YISHUN RING RD     04 TO 06   \n",
       "132544  2022-08  YISHUN    5 ROOM   299    YISHUN ST 20     07 TO 09   \n",
       "132545  2022-08  YISHUN    5 ROOM  334C    YISHUN ST 31     01 TO 03   \n",
       "132546  2022-08  YISHUN    5 ROOM  333A    YISHUN ST 31     10 TO 12   \n",
       "132547  2022-08  YISHUN    5 ROOM   760    YISHUN ST 72     07 TO 09   \n",
       "\n",
       "       floor_area_sqm flat_model lease_commence_date     remaining_lease  \\\n",
       "132543            122   Improved                1988   65 years 01 month   \n",
       "132544            111   Improved                2000  77 years 04 months   \n",
       "132545            112   Improved                2015  92 years 04 months   \n",
       "132546            112   Improved                2015  92 years 04 months   \n",
       "132547            122   Improved                1987  63 years 08 months   \n",
       "\n",
       "       resale_price       _id  \n",
       "132543       545000  132544.0  \n",
       "132544       580000  132545.0  \n",
       "132545       560000  132546.0  \n",
       "132546       578000  132547.0  \n",
       "132547       608000  132548.0  "
      ]
     },
     "execution_count": 96,
     "metadata": {},
     "output_type": "execute_result"
    }
   ],
   "source": [
    "initial_df.head()\n",
    "initial_df.tail()"
   ]
  },
  {
   "cell_type": "markdown",
   "metadata": {},
   "source": [
    "Get metadata on the columns here https://data.gov.sg/dataset/resale-flat-prices?resource_id=1b702208-44bf-4829-b620-4615ee19b57c"
   ]
  },
  {
   "cell_type": "markdown",
   "metadata": {},
   "source": [
    "### Convert the CSV into Parquet"
   ]
  },
  {
   "cell_type": "code",
   "execution_count": 97,
   "metadata": {},
   "outputs": [],
   "source": [
    "initial_df.to_parquet('./initial_df.parquet')"
   ]
  },
  {
   "cell_type": "code",
   "execution_count": 98,
   "metadata": {},
   "outputs": [],
   "source": [
    "initial_parquet = pd.read_parquet('./initial_df.parquet')"
   ]
  },
  {
   "cell_type": "code",
   "execution_count": 99,
   "metadata": {},
   "outputs": [
    {
     "data": {
      "text/html": [
       "<div>\n",
       "<style scoped>\n",
       "    .dataframe tbody tr th:only-of-type {\n",
       "        vertical-align: middle;\n",
       "    }\n",
       "\n",
       "    .dataframe tbody tr th {\n",
       "        vertical-align: top;\n",
       "    }\n",
       "\n",
       "    .dataframe thead th {\n",
       "        text-align: right;\n",
       "    }\n",
       "</style>\n",
       "<table border=\"1\" class=\"dataframe\">\n",
       "  <thead>\n",
       "    <tr style=\"text-align: right;\">\n",
       "      <th></th>\n",
       "      <th>month</th>\n",
       "      <th>town</th>\n",
       "      <th>flat_type</th>\n",
       "      <th>block</th>\n",
       "      <th>street_name</th>\n",
       "      <th>storey_range</th>\n",
       "      <th>floor_area_sqm</th>\n",
       "      <th>flat_model</th>\n",
       "      <th>lease_commence_date</th>\n",
       "      <th>remaining_lease</th>\n",
       "      <th>resale_price</th>\n",
       "      <th>_id</th>\n",
       "    </tr>\n",
       "  </thead>\n",
       "  <tbody>\n",
       "    <tr>\n",
       "      <th>132543</th>\n",
       "      <td>2022-08</td>\n",
       "      <td>YISHUN</td>\n",
       "      <td>5 ROOM</td>\n",
       "      <td>357</td>\n",
       "      <td>YISHUN RING RD</td>\n",
       "      <td>04 TO 06</td>\n",
       "      <td>122</td>\n",
       "      <td>Improved</td>\n",
       "      <td>1988</td>\n",
       "      <td>65 years 01 month</td>\n",
       "      <td>545000</td>\n",
       "      <td>132544.0</td>\n",
       "    </tr>\n",
       "    <tr>\n",
       "      <th>132544</th>\n",
       "      <td>2022-08</td>\n",
       "      <td>YISHUN</td>\n",
       "      <td>5 ROOM</td>\n",
       "      <td>299</td>\n",
       "      <td>YISHUN ST 20</td>\n",
       "      <td>07 TO 09</td>\n",
       "      <td>111</td>\n",
       "      <td>Improved</td>\n",
       "      <td>2000</td>\n",
       "      <td>77 years 04 months</td>\n",
       "      <td>580000</td>\n",
       "      <td>132545.0</td>\n",
       "    </tr>\n",
       "    <tr>\n",
       "      <th>132545</th>\n",
       "      <td>2022-08</td>\n",
       "      <td>YISHUN</td>\n",
       "      <td>5 ROOM</td>\n",
       "      <td>334C</td>\n",
       "      <td>YISHUN ST 31</td>\n",
       "      <td>01 TO 03</td>\n",
       "      <td>112</td>\n",
       "      <td>Improved</td>\n",
       "      <td>2015</td>\n",
       "      <td>92 years 04 months</td>\n",
       "      <td>560000</td>\n",
       "      <td>132546.0</td>\n",
       "    </tr>\n",
       "    <tr>\n",
       "      <th>132546</th>\n",
       "      <td>2022-08</td>\n",
       "      <td>YISHUN</td>\n",
       "      <td>5 ROOM</td>\n",
       "      <td>333A</td>\n",
       "      <td>YISHUN ST 31</td>\n",
       "      <td>10 TO 12</td>\n",
       "      <td>112</td>\n",
       "      <td>Improved</td>\n",
       "      <td>2015</td>\n",
       "      <td>92 years 04 months</td>\n",
       "      <td>578000</td>\n",
       "      <td>132547.0</td>\n",
       "    </tr>\n",
       "    <tr>\n",
       "      <th>132547</th>\n",
       "      <td>2022-08</td>\n",
       "      <td>YISHUN</td>\n",
       "      <td>5 ROOM</td>\n",
       "      <td>760</td>\n",
       "      <td>YISHUN ST 72</td>\n",
       "      <td>07 TO 09</td>\n",
       "      <td>122</td>\n",
       "      <td>Improved</td>\n",
       "      <td>1987</td>\n",
       "      <td>63 years 08 months</td>\n",
       "      <td>608000</td>\n",
       "      <td>132548.0</td>\n",
       "    </tr>\n",
       "  </tbody>\n",
       "</table>\n",
       "</div>"
      ],
      "text/plain": [
       "          month    town flat_type block     street_name storey_range  \\\n",
       "132543  2022-08  YISHUN    5 ROOM   357  YISHUN RING RD     04 TO 06   \n",
       "132544  2022-08  YISHUN    5 ROOM   299    YISHUN ST 20     07 TO 09   \n",
       "132545  2022-08  YISHUN    5 ROOM  334C    YISHUN ST 31     01 TO 03   \n",
       "132546  2022-08  YISHUN    5 ROOM  333A    YISHUN ST 31     10 TO 12   \n",
       "132547  2022-08  YISHUN    5 ROOM   760    YISHUN ST 72     07 TO 09   \n",
       "\n",
       "       floor_area_sqm flat_model lease_commence_date     remaining_lease  \\\n",
       "132543            122   Improved                1988   65 years 01 month   \n",
       "132544            111   Improved                2000  77 years 04 months   \n",
       "132545            112   Improved                2015  92 years 04 months   \n",
       "132546            112   Improved                2015  92 years 04 months   \n",
       "132547            122   Improved                1987  63 years 08 months   \n",
       "\n",
       "       resale_price       _id  \n",
       "132543       545000  132544.0  \n",
       "132544       580000  132545.0  \n",
       "132545       560000  132546.0  \n",
       "132546       578000  132547.0  \n",
       "132547       608000  132548.0  "
      ]
     },
     "execution_count": 99,
     "metadata": {},
     "output_type": "execute_result"
    }
   ],
   "source": [
    "initial_parquet.tail()"
   ]
  },
  {
   "cell_type": "code",
   "execution_count": 100,
   "metadata": {},
   "outputs": [
    {
     "name": "stdout",
     "output_type": "stream",
     "text": [
      "<class 'pandas.core.frame.DataFrame'>\n",
      "Int64Index: 878751 entries, 0 to 132547\n",
      "Data columns (total 12 columns):\n",
      " #   Column               Non-Null Count   Dtype  \n",
      "---  ------               --------------   -----  \n",
      " 0   month                878751 non-null  object \n",
      " 1   town                 878751 non-null  object \n",
      " 2   flat_type            878751 non-null  object \n",
      " 3   block                878751 non-null  object \n",
      " 4   street_name          878751 non-null  object \n",
      " 5   storey_range         878751 non-null  object \n",
      " 6   floor_area_sqm       878751 non-null  object \n",
      " 7   flat_model           878751 non-null  object \n",
      " 8   lease_commence_date  878751 non-null  object \n",
      " 9   remaining_lease      169701 non-null  object \n",
      " 10  resale_price         878751 non-null  object \n",
      " 11  _id                  878751 non-null  float64\n",
      "dtypes: float64(1), object(11)\n",
      "memory usage: 87.2+ MB\n"
     ]
    }
   ],
   "source": [
    "initial_parquet.info()\n",
    "# check unique values for town and clean up any consistency errors. \n",
    "# check unique values for story range "
   ]
  },
  {
   "cell_type": "code",
   "execution_count": 101,
   "metadata": {},
   "outputs": [],
   "source": [
    "initial_parquet_copy = initial_parquet.copy()"
   ]
  },
  {
   "cell_type": "code",
   "execution_count": 102,
   "metadata": {},
   "outputs": [
    {
     "name": "stdout",
     "output_type": "stream",
     "text": [
      "['ANG MO KIO', 'BEDOK', 'BISHAN', 'BUKIT BATOK', 'GEYLANG', 'BUKIT MERAH', 'BUKIT TIMAH', 'CENTRAL AREA', 'CHOA CHU KANG', 'CLEMENTI', 'HOUGANG', 'JURONG EAST', 'JURONG WEST', 'KALLANG/WHAMPOA', 'MARINE PARADE', 'QUEENSTOWN', 'SENGKANG', 'SERANGOON', 'TAMPINES', 'TOA PAYOH', 'WOODLANDS', 'YISHUN', 'LIM CHU KANG', 'SEMBAWANG', 'BUKIT PANJANG', 'PASIR RIS', 'PUNGGOL']\n",
      "['1 ROOM', '3 ROOM', '4 ROOM', '5 ROOM', '2 ROOM', 'EXECUTIVE', 'MULTI-GENERATION']\n",
      "['10 TO 12', '04 TO 06', '07 TO 09', '01 TO 03', '13 TO 15', '19 TO 21', '16 TO 18', '25 TO 27', '22 TO 24', '28 TO 30', '31 TO 33', '40 TO 42', '37 TO 39', '34 TO 36', '06 TO 10', '01 TO 05', '11 TO 15', '16 TO 20', '21 TO 25', '26 TO 30', '36 TO 40', '31 TO 35', '46 TO 48', '43 TO 45', '49 TO 51']\n",
      "['IMPROVED', 'NEW GENERATION', 'MODEL A', 'STANDARD', 'SIMPLIFIED', 'MODEL A-MAISONETTE', 'APARTMENT', 'MAISONETTE', 'TERRACE', '2-ROOM', 'IMPROVED-MAISONETTE', 'MULTI-GENERATION', 'PREMIUM APARTMENT', 'ADJOINED FLAT', 'PREMIUM MAISONETTE', 'MODEL A2', 'DBSS', 'TYPE S1', 'TYPE S2', 'PREMIUM APARTMENT LOFT', '3GEN']\n"
     ]
    }
   ],
   "source": [
    "# Convert the month column into datetime\n",
    "initial_parquet_copy['month_year']= pd.to_datetime(initial_parquet_copy['month'], format = '%Y-%m')\n",
    "\n",
    "# Parse month_year into resale year and resale month. \n",
    "initial_parquet_copy['resale_year'] = initial_parquet_copy['month_year'].dt.year\n",
    "initial_parquet_copy['resale_month'] = initial_parquet_copy['month_year'].dt.month\n",
    "\n",
    "# change the data format type\n",
    "initial_parquet_copy['floor_area_sqm'] = initial_parquet_copy['floor_area_sqm'].astype('float')\n",
    "initial_parquet_copy['resale_price'] = initial_parquet_copy['resale_price'].astype('float')\n",
    "# initial_parquet_copy.drop(['_id'], inplace=True)\n",
    "\n",
    "# type of columns \n",
    "float_columns = ['floor_area_sqm', 'resale_price']\n",
    "object_columns = ['town', 'flat_type', 'storey_range', 'flat_model']\n",
    "\n",
    "for col in object_columns: \n",
    "    initial_parquet_copy[col] = initial_parquet_copy[col].astype('category')\n",
    "\n",
    "# in flat_type, replace multi generation with multi-generation. \n",
    "replace_map_flat_type = {'flat_type':{'MULTI GENERATION': 'MULTI-GENERATION'}}\n",
    "initial_parquet_copy.replace(replace_map_flat_type, inplace=True)\n",
    "\n",
    "\n",
    "initial_parquet_copy['flat_model'] = initial_parquet_copy['flat_model'].str.upper()\n",
    "replace_map_flat_model = {'flat_model':{'MULTI GENERATION': 'MULTI-GENERATION'}}\n",
    "initial_parquet_copy.replace(replace_map_flat_model, inplace=True)\n",
    "\n",
    "for col in object_columns: \n",
    "    print(list(initial_parquet_copy[col].unique()))\n",
    "\n",
    "\n",
    "# Have to encode the storey ranges. \n",
    "# \n"
   ]
  },
  {
   "cell_type": "code",
   "execution_count": 103,
   "metadata": {},
   "outputs": [
    {
     "data": {
      "text/html": [
       "<div>\n",
       "<style scoped>\n",
       "    .dataframe tbody tr th:only-of-type {\n",
       "        vertical-align: middle;\n",
       "    }\n",
       "\n",
       "    .dataframe tbody tr th {\n",
       "        vertical-align: top;\n",
       "    }\n",
       "\n",
       "    .dataframe thead th {\n",
       "        text-align: right;\n",
       "    }\n",
       "</style>\n",
       "<table border=\"1\" class=\"dataframe\">\n",
       "  <thead>\n",
       "    <tr style=\"text-align: right;\">\n",
       "      <th></th>\n",
       "      <th>count</th>\n",
       "      <th>unique</th>\n",
       "      <th>top</th>\n",
       "      <th>freq</th>\n",
       "    </tr>\n",
       "  </thead>\n",
       "  <tbody>\n",
       "    <tr>\n",
       "      <th>town</th>\n",
       "      <td>878751</td>\n",
       "      <td>27</td>\n",
       "      <td>TAMPINES</td>\n",
       "      <td>76783</td>\n",
       "    </tr>\n",
       "    <tr>\n",
       "      <th>flat_type</th>\n",
       "      <td>878751</td>\n",
       "      <td>7</td>\n",
       "      <td>4 ROOM</td>\n",
       "      <td>331333</td>\n",
       "    </tr>\n",
       "    <tr>\n",
       "      <th>storey_range</th>\n",
       "      <td>878751</td>\n",
       "      <td>25</td>\n",
       "      <td>04 TO 06</td>\n",
       "      <td>221538</td>\n",
       "    </tr>\n",
       "  </tbody>\n",
       "</table>\n",
       "</div>"
      ],
      "text/plain": [
       "               count unique       top    freq\n",
       "town          878751     27  TAMPINES   76783\n",
       "flat_type     878751      7    4 ROOM  331333\n",
       "storey_range  878751     25  04 TO 06  221538"
      ]
     },
     "execution_count": 103,
     "metadata": {},
     "output_type": "execute_result"
    }
   ],
   "source": [
    "initial_parquet_copy.describe(include='category').transpose()"
   ]
  },
  {
   "cell_type": "code",
   "execution_count": 104,
   "metadata": {},
   "outputs": [
    {
     "data": {
      "text/plain": [
       "<AxesSubplot:>"
      ]
     },
     "execution_count": 104,
     "metadata": {},
     "output_type": "execute_result"
    },
    {
     "data": {
      "image/png": "[encoded data removed]",
      "text/plain": [
       "<Figure size 432x288 with 1 Axes>"
      ]
     },
     "metadata": {
      "needs_background": "light"
     },
     "output_type": "display_data"
    }
   ],
   "source": [
    "sns.heatmap(initial_parquet_copy.isna(), yticklabels=False, cbar=False,cmap = 'tab20c_r')"
   ]
  },
  {
   "cell_type": "markdown",
   "metadata": {},
   "source": [
    "### Q1. Flat sizes have gone smaller over the years. Verify the claim with the use of data."
   ]
  },
  {
   "cell_type": "code",
   "execution_count": 105,
   "metadata": {},
   "outputs": [
    {
     "data": {
      "text/html": [
       "<div>\n",
       "<style scoped>\n",
       "    .dataframe tbody tr th:only-of-type {\n",
       "        vertical-align: middle;\n",
       "    }\n",
       "\n",
       "    .dataframe tbody tr th {\n",
       "        vertical-align: top;\n",
       "    }\n",
       "\n",
       "    .dataframe thead th {\n",
       "        text-align: right;\n",
       "    }\n",
       "</style>\n",
       "<table border=\"1\" class=\"dataframe\">\n",
       "  <thead>\n",
       "    <tr style=\"text-align: right;\">\n",
       "      <th></th>\n",
       "      <th>lease_commence_date</th>\n",
       "      <th>flat_type</th>\n",
       "      <th>floor_area_sqm</th>\n",
       "    </tr>\n",
       "  </thead>\n",
       "  <tbody>\n",
       "    <tr>\n",
       "      <th>0</th>\n",
       "      <td>1966</td>\n",
       "      <td>1 ROOM</td>\n",
       "      <td>NaN</td>\n",
       "    </tr>\n",
       "    <tr>\n",
       "      <th>1</th>\n",
       "      <td>1966</td>\n",
       "      <td>2 ROOM</td>\n",
       "      <td>NaN</td>\n",
       "    </tr>\n",
       "    <tr>\n",
       "      <th>2</th>\n",
       "      <td>1966</td>\n",
       "      <td>3 ROOM</td>\n",
       "      <td>67.53</td>\n",
       "    </tr>\n",
       "    <tr>\n",
       "      <th>3</th>\n",
       "      <td>1966</td>\n",
       "      <td>4 ROOM</td>\n",
       "      <td>NaN</td>\n",
       "    </tr>\n",
       "    <tr>\n",
       "      <th>4</th>\n",
       "      <td>1966</td>\n",
       "      <td>5 ROOM</td>\n",
       "      <td>NaN</td>\n",
       "    </tr>\n",
       "    <tr>\n",
       "      <th>...</th>\n",
       "      <td>...</td>\n",
       "      <td>...</td>\n",
       "      <td>...</td>\n",
       "    </tr>\n",
       "    <tr>\n",
       "      <th>373</th>\n",
       "      <td>2019</td>\n",
       "      <td>3 ROOM</td>\n",
       "      <td>67.92</td>\n",
       "    </tr>\n",
       "    <tr>\n",
       "      <th>374</th>\n",
       "      <td>2019</td>\n",
       "      <td>4 ROOM</td>\n",
       "      <td>91.18</td>\n",
       "    </tr>\n",
       "    <tr>\n",
       "      <th>375</th>\n",
       "      <td>2019</td>\n",
       "      <td>5 ROOM</td>\n",
       "      <td>113.00</td>\n",
       "    </tr>\n",
       "    <tr>\n",
       "      <th>376</th>\n",
       "      <td>2019</td>\n",
       "      <td>EXECUTIVE</td>\n",
       "      <td>NaN</td>\n",
       "    </tr>\n",
       "    <tr>\n",
       "      <th>377</th>\n",
       "      <td>2019</td>\n",
       "      <td>MULTI-GENERATION</td>\n",
       "      <td>NaN</td>\n",
       "    </tr>\n",
       "  </tbody>\n",
       "</table>\n",
       "<p>378 rows × 3 columns</p>\n",
       "</div>"
      ],
      "text/plain": [
       "    lease_commence_date         flat_type  floor_area_sqm\n",
       "0                  1966            1 ROOM             NaN\n",
       "1                  1966            2 ROOM             NaN\n",
       "2                  1966            3 ROOM           67.53\n",
       "3                  1966            4 ROOM             NaN\n",
       "4                  1966            5 ROOM             NaN\n",
       "..                  ...               ...             ...\n",
       "373                2019            3 ROOM           67.92\n",
       "374                2019            4 ROOM           91.18\n",
       "375                2019            5 ROOM          113.00\n",
       "376                2019         EXECUTIVE             NaN\n",
       "377                2019  MULTI-GENERATION             NaN\n",
       "\n",
       "[378 rows x 3 columns]"
      ]
     },
     "execution_count": 105,
     "metadata": {},
     "output_type": "execute_result"
    }
   ],
   "source": [
    "# Plot the distribution for all the flat types, over the years. \n",
    "# check if the mean of the flatsize for each of the flat size has been decreasing ? \n",
    "\n",
    "# group by flat type and for the particular year. \n",
    "initial_parquet_grouped = round(initial_parquet_copy.groupby(['lease_commence_date', 'flat_type'], as_index=False)['floor_area_sqm'].mean(),2)\n",
    "initial_parquet_grouped\n"
   ]
  },
  {
   "cell_type": "code",
   "execution_count": 106,
   "metadata": {},
   "outputs": [
    {
     "data": {
      "application/vnd.plotly.v1+json": {
       "config": {
        "plotlyServerURL": "https://plot.ly"
       },
       "data": [
        {
         "hovertemplate": "Flat Type=1 ROOM<br>Lease Commence Date=%{x}<br>Flat Size=%{y}<extra></extra>",
         "legendgroup": "1 ROOM",
         "line": {
          "color": "#636efa",
          "dash": "solid"
         },
         "marker": {
          "symbol": "circle"
         },
         "mode": "lines+markers",
         "name": "1 ROOM",
         "orientation": "v",
         "showlegend": true,
         "type": "scatter",
         "x": [
          "1966",
          "1967",
          "1968",
          "1969",
          "1970",
          "1971",
          "1972",
          "1973",
          "1974",
          "1975",
          "1976",
          "1977",
          "1978",
          "1979",
          "1980",
          "1981",
          "1982",
          "1983",
          "1984",
          "1985",
          "1986",
          "1987",
          "1988",
          "1989",
          "1990",
          "1991",
          "1992",
          "1993",
          "1994",
          "1995",
          "1996",
          "1997",
          "1998",
          "1999",
          "2000",
          "2001",
          "2002",
          "2003",
          "2004",
          "2005",
          "2006",
          "2007",
          "2008",
          "2009",
          "2010",
          "2011",
          "2012",
          "2013",
          "2014",
          "2015",
          "2016",
          "2017",
          "2018",
          "2019"
         ],
         "xaxis": "x",
         "y": [
          null,
          null,
          null,
          28.93,
          null,
          null,
          null,
          null,
          null,
          31,
          null,
          31,
          null,
          null,
          null,
          null,
          null,
          null,
          null,
          null,
          null,
          null,
          null,
          null,
          null,
          null,
          null,
          null,
          null,
          null,
          null,
          null,
          null,
          null,
          null,
          null,
          null,
          null,
          null,
          null,
          null,
          null,
          null,
          null,
          null,
          null,
          null,
          null,
          null,
          null,
          null,
          null,
          null,
          null
         ],
         "yaxis": "y"
        },
        {
         "hovertemplate": "Flat Type=2 ROOM<br>Lease Commence Date=%{x}<br>Flat Size=%{y}<extra></extra>",
         "legendgroup": "2 ROOM",
         "line": {
          "color": "#EF553B",
          "dash": "solid"
         },
         "marker": {
          "symbol": "circle"
         },
         "mode": "lines+markers",
         "name": "2 ROOM",
         "orientation": "v",
         "showlegend": true,
         "type": "scatter",
         "x": [
          "1966",
          "1967",
          "1968",
          "1969",
          "1970",
          "1971",
          "1972",
          "1973",
          "1974",
          "1975",
          "1976",
          "1977",
          "1978",
          "1979",
          "1980",
          "1981",
          "1982",
          "1983",
          "1984",
          "1985",
          "1986",
          "1987",
          "1988",
          "1989",
          "1990",
          "1991",
          "1992",
          "1993",
          "1994",
          "1995",
          "1996",
          "1997",
          "1998",
          "1999",
          "2000",
          "2001",
          "2002",
          "2003",
          "2004",
          "2005",
          "2006",
          "2007",
          "2008",
          "2009",
          "2010",
          "2011",
          "2012",
          "2013",
          "2014",
          "2015",
          "2016",
          "2017",
          "2018",
          "2019"
         ],
         "xaxis": "x",
         "y": [
          null,
          45.76,
          44.95,
          43.27,
          46.87,
          44.97,
          40.61,
          46.5,
          39.55,
          42.3,
          45.27,
          44.46,
          44.16,
          44.18,
          44,
          44,
          54.6,
          47.1,
          45,
          45,
          45.18,
          null,
          null,
          null,
          null,
          null,
          null,
          null,
          55.36,
          null,
          null,
          null,
          null,
          null,
          40,
          null,
          null,
          null,
          null,
          null,
          null,
          44.4,
          51.76,
          null,
          null,
          43.3,
          47.91,
          47.61,
          46,
          46.6,
          47,
          47,
          43.29,
          47
         ],
         "yaxis": "y"
        },
        {
         "hovertemplate": "Flat Type=3 ROOM<br>Lease Commence Date=%{x}<br>Flat Size=%{y}<extra></extra>",
         "legendgroup": "3 ROOM",
         "line": {
          "color": "#00cc96",
          "dash": "solid"
         },
         "marker": {
          "symbol": "circle"
         },
         "mode": "lines+markers",
         "name": "3 ROOM",
         "orientation": "v",
         "showlegend": true,
         "type": "scatter",
         "x": [
          "1966",
          "1967",
          "1968",
          "1969",
          "1970",
          "1971",
          "1972",
          "1973",
          "1974",
          "1975",
          "1976",
          "1977",
          "1978",
          "1979",
          "1980",
          "1981",
          "1982",
          "1983",
          "1984",
          "1985",
          "1986",
          "1987",
          "1988",
          "1989",
          "1990",
          "1991",
          "1992",
          "1993",
          "1994",
          "1995",
          "1996",
          "1997",
          "1998",
          "1999",
          "2000",
          "2001",
          "2002",
          "2003",
          "2004",
          "2005",
          "2006",
          "2007",
          "2008",
          "2009",
          "2010",
          "2011",
          "2012",
          "2013",
          "2014",
          "2015",
          "2016",
          "2017",
          "2018",
          "2019"
         ],
         "xaxis": "x",
         "y": [
          67.53,
          61.06,
          64.42,
          58.83,
          64.55,
          61.38,
          72.44,
          65.23,
          65.42,
          64.94,
          66.35,
          68.5,
          69.48,
          70.24,
          70.62,
          69.32,
          70.1,
          69.66,
          72.01,
          68.8,
          66.5,
          68.98,
          70.05,
          72.03,
          72.97,
          null,
          64.43,
          73.94,
          72.18,
          68.75,
          null,
          null,
          68.45,
          62,
          63.82,
          null,
          60,
          60.56,
          62,
          null,
          60,
          67.45,
          60,
          60,
          67.53,
          68.86,
          68.36,
          68.25,
          66.31,
          66.98,
          67.1,
          67.87,
          67.63,
          67.92
         ],
         "yaxis": "y"
        },
        {
         "hovertemplate": "Flat Type=4 ROOM<br>Lease Commence Date=%{x}<br>Flat Size=%{y}<extra></extra>",
         "legendgroup": "4 ROOM",
         "line": {
          "color": "#ab63fa",
          "dash": "solid"
         },
         "marker": {
          "symbol": "circle"
         },
         "mode": "lines+markers",
         "name": "4 ROOM",
         "orientation": "v",
         "showlegend": true,
         "type": "scatter",
         "x": [
          "1966",
          "1967",
          "1968",
          "1969",
          "1970",
          "1971",
          "1972",
          "1973",
          "1974",
          "1975",
          "1976",
          "1977",
          "1978",
          "1979",
          "1980",
          "1981",
          "1982",
          "1983",
          "1984",
          "1985",
          "1986",
          "1987",
          "1988",
          "1989",
          "1990",
          "1991",
          "1992",
          "1993",
          "1994",
          "1995",
          "1996",
          "1997",
          "1998",
          "1999",
          "2000",
          "2001",
          "2002",
          "2003",
          "2004",
          "2005",
          "2006",
          "2007",
          "2008",
          "2009",
          "2010",
          "2011",
          "2012",
          "2013",
          "2014",
          "2015",
          "2016",
          "2017",
          "2018",
          "2019"
         ],
         "xaxis": "x",
         "y": [
          null,
          124.48,
          113.97,
          116.1,
          79.95,
          92.71,
          82.2,
          87.2,
          87.29,
          85.29,
          86.01,
          89.75,
          92.55,
          92.39,
          91.9,
          93.14,
          94.66,
          100.92,
          101.55,
          94.89,
          90.83,
          90.84,
          97.83,
          104.19,
          105.38,
          105.21,
          105.24,
          104.42,
          99.45,
          107.48,
          104.88,
          100.34,
          99.96,
          100.46,
          95.46,
          92.06,
          89.78,
          89.75,
          90.43,
          92.49,
          90.35,
          91.41,
          90.58,
          88.95,
          94.03,
          93.78,
          93.22,
          93.61,
          90.81,
          92.21,
          91.93,
          92.68,
          92.72,
          91.18
         ],
         "yaxis": "y"
        },
        {
         "hovertemplate": "Flat Type=5 ROOM<br>Lease Commence Date=%{x}<br>Flat Size=%{y}<extra></extra>",
         "legendgroup": "5 ROOM",
         "line": {
          "color": "#FFA15A",
          "dash": "solid"
         },
         "marker": {
          "symbol": "circle"
         },
         "mode": "lines+markers",
         "name": "5 ROOM",
         "orientation": "v",
         "showlegend": true,
         "type": "scatter",
         "x": [
          "1966",
          "1967",
          "1968",
          "1969",
          "1970",
          "1971",
          "1972",
          "1973",
          "1974",
          "1975",
          "1976",
          "1977",
          "1978",
          "1979",
          "1980",
          "1981",
          "1982",
          "1983",
          "1984",
          "1985",
          "1986",
          "1987",
          "1988",
          "1989",
          "1990",
          "1991",
          "1992",
          "1993",
          "1994",
          "1995",
          "1996",
          "1997",
          "1998",
          "1999",
          "2000",
          "2001",
          "2002",
          "2003",
          "2004",
          "2005",
          "2006",
          "2007",
          "2008",
          "2009",
          "2010",
          "2011",
          "2012",
          "2013",
          "2014",
          "2015",
          "2016",
          "2017",
          "2018",
          "2019"
         ],
         "xaxis": "x",
         "y": [
          null,
          130,
          130,
          136,
          134.39,
          134,
          138.7,
          137,
          119.7,
          120.4,
          119.1,
          119.89,
          120.13,
          118.1,
          120.59,
          119.65,
          121.67,
          127.26,
          132.54,
          126.75,
          122.77,
          121.86,
          123.06,
          123.13,
          122.69,
          122.31,
          125.52,
          126.76,
          128.52,
          127.97,
          126.38,
          120.8,
          121.48,
          120.56,
          114.8,
          111.3,
          110.45,
          110.64,
          111.22,
          111.75,
          111.03,
          115,
          110.22,
          110.21,
          112.42,
          111.97,
          116.36,
          114.45,
          109.77,
          112.25,
          112.35,
          112.74,
          113.15,
          113
         ],
         "yaxis": "y"
        },
        {
         "hovertemplate": "Flat Type=EXECUTIVE<br>Lease Commence Date=%{x}<br>Flat Size=%{y}<extra></extra>",
         "legendgroup": "EXECUTIVE",
         "line": {
          "color": "#19d3f3",
          "dash": "solid"
         },
         "marker": {
          "symbol": "circle"
         },
         "mode": "lines+markers",
         "name": "EXECUTIVE",
         "orientation": "v",
         "showlegend": true,
         "type": "scatter",
         "x": [
          "1966",
          "1967",
          "1968",
          "1969",
          "1970",
          "1971",
          "1972",
          "1973",
          "1974",
          "1975",
          "1976",
          "1977",
          "1978",
          "1979",
          "1980",
          "1981",
          "1982",
          "1983",
          "1984",
          "1985",
          "1986",
          "1987",
          "1988",
          "1989",
          "1990",
          "1991",
          "1992",
          "1993",
          "1994",
          "1995",
          "1996",
          "1997",
          "1998",
          "1999",
          "2000",
          "2001",
          "2002",
          "2003",
          "2004",
          "2005",
          "2006",
          "2007",
          "2008",
          "2009",
          "2010",
          "2011",
          "2012",
          "2013",
          "2014",
          "2015",
          "2016",
          "2017",
          "2018",
          "2019"
         ],
         "xaxis": "x",
         "y": [
          null,
          null,
          null,
          null,
          null,
          null,
          null,
          null,
          null,
          null,
          null,
          159.77,
          162.71,
          164.45,
          162.72,
          161.18,
          155.25,
          155.82,
          150.02,
          149.22,
          147.77,
          146.27,
          146.02,
          147.21,
          154.15,
          147.52,
          148.62,
          147.33,
          163.35,
          155.61,
          145.57,
          142.32,
          142.94,
          140.76,
          133.71,
          131.67,
          127.5,
          127.29,
          128,
          null,
          null,
          null,
          null,
          null,
          null,
          null,
          null,
          null,
          null,
          null,
          null,
          null,
          null,
          null
         ],
         "yaxis": "y"
        },
        {
         "hovertemplate": "Flat Type=MULTI-GENERATION<br>Lease Commence Date=%{x}<br>Flat Size=%{y}<extra></extra>",
         "legendgroup": "MULTI-GENERATION",
         "line": {
          "color": "#FF6692",
          "dash": "solid"
         },
         "marker": {
          "symbol": "circle"
         },
         "mode": "lines+markers",
         "name": "MULTI-GENERATION",
         "orientation": "v",
         "showlegend": true,
         "type": "scatter",
         "x": [
          "1966",
          "1967",
          "1968",
          "1969",
          "1970",
          "1971",
          "1972",
          "1973",
          "1974",
          "1975",
          "1976",
          "1977",
          "1978",
          "1979",
          "1980",
          "1981",
          "1982",
          "1983",
          "1984",
          "1985",
          "1986",
          "1987",
          "1988",
          "1989",
          "1990",
          "1991",
          "1992",
          "1993",
          "1994",
          "1995",
          "1996",
          "1997",
          "1998",
          "1999",
          "2000",
          "2001",
          "2002",
          "2003",
          "2004",
          "2005",
          "2006",
          "2007",
          "2008",
          "2009",
          "2010",
          "2011",
          "2012",
          "2013",
          "2014",
          "2015",
          "2016",
          "2017",
          "2018",
          "2019"
         ],
         "xaxis": "x",
         "y": [
          null,
          null,
          null,
          null,
          null,
          null,
          null,
          null,
          null,
          null,
          null,
          null,
          null,
          null,
          null,
          null,
          null,
          null,
          null,
          null,
          null,
          161.9,
          157.74,
          null,
          null,
          null,
          null,
          null,
          null,
          null,
          null,
          null,
          null,
          null,
          null,
          null,
          null,
          null,
          null,
          null,
          null,
          null,
          null,
          null,
          null,
          null,
          null,
          null,
          null,
          null,
          null,
          null,
          null,
          null
         ],
         "yaxis": "y"
        }
       ],
       "layout": {
        "legend": {
         "title": {
          "text": "Flat Type"
         },
         "tracegroupgap": 0
        },
        "template": {
         "data": {
          "bar": [
           {
            "error_x": {
             "color": "#2a3f5f"
            },
            "error_y": {
             "color": "#2a3f5f"
            },
            "marker": {
             "line": {
              "color": "#E5ECF6",
              "width": 0.5
             },
             "pattern": {
              "fillmode": "overlay",
              "size": 10,
              "solidity": 0.2
             }
            },
            "type": "bar"
           }
          ],
          "barpolar": [
           {
            "marker": {
             "line": {
              "color": "#E5ECF6",
              "width": 0.5
             },
             "pattern": {
              "fillmode": "overlay",
              "size": 10,
              "solidity": 0.2
             }
            },
            "type": "barpolar"
           }
          ],
          "carpet": [
           {
            "aaxis": {
             "endlinecolor": "#2a3f5f",
             "gridcolor": "white",
             "linecolor": "white",
             "minorgridcolor": "white",
             "startlinecolor": "#2a3f5f"
            },
            "baxis": {
             "endlinecolor": "#2a3f5f",
             "gridcolor": "white",
             "linecolor": "white",
             "minorgridcolor": "white",
             "startlinecolor": "#2a3f5f"
            },
            "type": "carpet"
           }
          ],
          "choropleth": [
           {
            "colorbar": {
             "outlinewidth": 0,
             "ticks": ""
            },
            "type": "choropleth"
           }
          ],
          "contour": [
           {
            "colorbar": {
             "outlinewidth": 0,
             "ticks": ""
            },
            "colorscale": [
             [
              0,
              "#0d0887"
             ],
             [
              0.1111111111111111,
              "#46039f"
             ],
             [
              0.2222222222222222,
              "#7201a8"
             ],
             [
              0.3333333333333333,
              "#9c179e"
             ],
             [
              0.4444444444444444,
              "#bd3786"
             ],
             [
              0.5555555555555556,
              "#d8576b"
             ],
             [
              0.6666666666666666,
              "#ed7953"
             ],
             [
              0.7777777777777778,
              "#fb9f3a"
             ],
             [
              0.8888888888888888,
              "#fdca26"
             ],
             [
              1,
              "#f0f921"
             ]
            ],
            "type": "contour"
           }
          ],
          "contourcarpet": [
           {
            "colorbar": {
             "outlinewidth": 0,
             "ticks": ""
            },
            "type": "contourcarpet"
           }
          ],
          "heatmap": [
           {
            "colorbar": {
             "outlinewidth": 0,
             "ticks": ""
            },
            "colorscale": [
             [
              0,
              "#0d0887"
             ],
             [
              0.1111111111111111,
              "#46039f"
             ],
             [
              0.2222222222222222,
              "#7201a8"
             ],
             [
              0.3333333333333333,
              "#9c179e"
             ],
             [
              0.4444444444444444,
              "#bd3786"
             ],
             [
              0.5555555555555556,
              "#d8576b"
             ],
             [
              0.6666666666666666,
              "#ed7953"
             ],
             [
              0.7777777777777778,
              "#fb9f3a"
             ],
             [
              0.8888888888888888,
              "#fdca26"
             ],
             [
              1,
              "#f0f921"
             ]
            ],
            "type": "heatmap"
           }
          ],
          "heatmapgl": [
           {
            "colorbar": {
             "outlinewidth": 0,
             "ticks": ""
            },
            "colorscale": [
             [
              0,
              "#0d0887"
             ],
             [
              0.1111111111111111,
              "#46039f"
             ],
             [
              0.2222222222222222,
              "#7201a8"
             ],
             [
              0.3333333333333333,
              "#9c179e"
             ],
             [
              0.4444444444444444,
              "#bd3786"
             ],
             [
              0.5555555555555556,
              "#d8576b"
             ],
             [
              0.6666666666666666,
              "#ed7953"
             ],
             [
              0.7777777777777778,
              "#fb9f3a"
             ],
             [
              0.8888888888888888,
              "#fdca26"
             ],
             [
              1,
              "#f0f921"
             ]
            ],
            "type": "heatmapgl"
           }
          ],
          "histogram": [
           {
            "marker": {
             "pattern": {
              "fillmode": "overlay",
              "size": 10,
              "solidity": 0.2
             }
            },
            "type": "histogram"
           }
          ],
          "histogram2d": [
           {
            "colorbar": {
             "outlinewidth": 0,
             "ticks": ""
            },
            "colorscale": [
             [
              0,
              "#0d0887"
             ],
             [
              0.1111111111111111,
              "#46039f"
             ],
             [
              0.2222222222222222,
              "#7201a8"
             ],
             [
              0.3333333333333333,
              "#9c179e"
             ],
             [
              0.4444444444444444,
              "#bd3786"
             ],
             [
              0.5555555555555556,
              "#d8576b"
             ],
             [
              0.6666666666666666,
              "#ed7953"
             ],
             [
              0.7777777777777778,
              "#fb9f3a"
             ],
             [
              0.8888888888888888,
              "#fdca26"
             ],
             [
              1,
              "#f0f921"
             ]
            ],
            "type": "histogram2d"
           }
          ],
          "histogram2dcontour": [
           {
            "colorbar": {
             "outlinewidth": 0,
             "ticks": ""
            },
            "colorscale": [
             [
              0,
              "#0d0887"
             ],
             [
              0.1111111111111111,
              "#46039f"
             ],
             [
              0.2222222222222222,
              "#7201a8"
             ],
             [
              0.3333333333333333,
              "#9c179e"
             ],
             [
              0.4444444444444444,
              "#bd3786"
             ],
             [
              0.5555555555555556,
              "#d8576b"
             ],
             [
              0.6666666666666666,
              "#ed7953"
             ],
             [
              0.7777777777777778,
              "#fb9f3a"
             ],
             [
              0.8888888888888888,
              "#fdca26"
             ],
             [
              1,
              "#f0f921"
             ]
            ],
            "type": "histogram2dcontour"
           }
          ],
          "mesh3d": [
           {
            "colorbar": {
             "outlinewidth": 0,
             "ticks": ""
            },
            "type": "mesh3d"
           }
          ],
          "parcoords": [
           {
            "line": {
             "colorbar": {
              "outlinewidth": 0,
              "ticks": ""
             }
            },
            "type": "parcoords"
           }
          ],
          "pie": [
           {
            "automargin": true,
            "type": "pie"
           }
          ],
          "scatter": [
           {
            "fillpattern": {
             "fillmode": "overlay",
             "size": 10,
             "solidity": 0.2
            },
            "type": "scatter"
           }
          ],
          "scatter3d": [
           {
            "line": {
             "colorbar": {
              "outlinewidth": 0,
              "ticks": ""
             }
            },
            "marker": {
             "colorbar": {
              "outlinewidth": 0,
              "ticks": ""
             }
            },
            "type": "scatter3d"
           }
          ],
          "scattercarpet": [
           {
            "marker": {
             "colorbar": {
              "outlinewidth": 0,
              "ticks": ""
             }
            },
            "type": "scattercarpet"
           }
          ],
          "scattergeo": [
           {
            "marker": {
             "colorbar": {
              "outlinewidth": 0,
              "ticks": ""
             }
            },
            "type": "scattergeo"
           }
          ],
          "scattergl": [
           {
            "marker": {
             "colorbar": {
              "outlinewidth": 0,
              "ticks": ""
             }
            },
            "type": "scattergl"
           }
          ],
          "scattermapbox": [
           {
            "marker": {
             "colorbar": {
              "outlinewidth": 0,
              "ticks": ""
             }
            },
            "type": "scattermapbox"
           }
          ],
          "scatterpolar": [
           {
            "marker": {
             "colorbar": {
              "outlinewidth": 0,
              "ticks": ""
             }
            },
            "type": "scatterpolar"
           }
          ],
          "scatterpolargl": [
           {
            "marker": {
             "colorbar": {
              "outlinewidth": 0,
              "ticks": ""
             }
            },
            "type": "scatterpolargl"
           }
          ],
          "scatterternary": [
           {
            "marker": {
             "colorbar": {
              "outlinewidth": 0,
              "ticks": ""
             }
            },
            "type": "scatterternary"
           }
          ],
          "surface": [
           {
            "colorbar": {
             "outlinewidth": 0,
             "ticks": ""
            },
            "colorscale": [
             [
              0,
              "#0d0887"
             ],
             [
              0.1111111111111111,
              "#46039f"
             ],
             [
              0.2222222222222222,
              "#7201a8"
             ],
             [
              0.3333333333333333,
              "#9c179e"
             ],
             [
              0.4444444444444444,
              "#bd3786"
             ],
             [
              0.5555555555555556,
              "#d8576b"
             ],
             [
              0.6666666666666666,
              "#ed7953"
             ],
             [
              0.7777777777777778,
              "#fb9f3a"
             ],
             [
              0.8888888888888888,
              "#fdca26"
             ],
             [
              1,
              "#f0f921"
             ]
            ],
            "type": "surface"
           }
          ],
          "table": [
           {
            "cells": {
             "fill": {
              "color": "#EBF0F8"
             },
             "line": {
              "color": "white"
             }
            },
            "header": {
             "fill": {
              "color": "#C8D4E3"
             },
             "line": {
              "color": "white"
             }
            },
            "type": "table"
           }
          ]
         },
         "layout": {
          "annotationdefaults": {
           "arrowcolor": "#2a3f5f",
           "arrowhead": 0,
           "arrowwidth": 1
          },
          "autotypenumbers": "strict",
          "coloraxis": {
           "colorbar": {
            "outlinewidth": 0,
            "ticks": ""
           }
          },
          "colorscale": {
           "diverging": [
            [
             0,
             "#8e0152"
            ],
            [
             0.1,
             "#c51b7d"
            ],
            [
             0.2,
             "#de77ae"
            ],
            [
             0.3,
             "#f1b6da"
            ],
            [
             0.4,
             "#fde0ef"
            ],
            [
             0.5,
             "#f7f7f7"
            ],
            [
             0.6,
             "#e6f5d0"
            ],
            [
             0.7,
             "#b8e186"
            ],
            [
             0.8,
             "#7fbc41"
            ],
            [
             0.9,
             "#4d9221"
            ],
            [
             1,
             "#276419"
            ]
           ],
           "sequential": [
            [
             0,
             "#0d0887"
            ],
            [
             0.1111111111111111,
             "#46039f"
            ],
            [
             0.2222222222222222,
             "#7201a8"
            ],
            [
             0.3333333333333333,
             "#9c179e"
            ],
            [
             0.4444444444444444,
             "#bd3786"
            ],
            [
             0.5555555555555556,
             "#d8576b"
            ],
            [
             0.6666666666666666,
             "#ed7953"
            ],
            [
             0.7777777777777778,
             "#fb9f3a"
            ],
            [
             0.8888888888888888,
             "#fdca26"
            ],
            [
             1,
             "#f0f921"
            ]
           ],
           "sequentialminus": [
            [
             0,
             "#0d0887"
            ],
            [
             0.1111111111111111,
             "#46039f"
            ],
            [
             0.2222222222222222,
             "#7201a8"
            ],
            [
             0.3333333333333333,
             "#9c179e"
            ],
            [
             0.4444444444444444,
             "#bd3786"
            ],
            [
             0.5555555555555556,
             "#d8576b"
            ],
            [
             0.6666666666666666,
             "#ed7953"
            ],
            [
             0.7777777777777778,
             "#fb9f3a"
            ],
            [
             0.8888888888888888,
             "#fdca26"
            ],
            [
             1,
             "#f0f921"
            ]
           ]
          },
          "colorway": [
           "#636efa",
           "#EF553B",
           "#00cc96",
           "#ab63fa",
           "#FFA15A",
           "#19d3f3",
           "#FF6692",
           "#B6E880",
           "#FF97FF",
           "#FECB52"
          ],
          "font": {
           "color": "#2a3f5f"
          },
          "geo": {
           "bgcolor": "white",
           "lakecolor": "white",
           "landcolor": "#E5ECF6",
           "showlakes": true,
           "showland": true,
           "subunitcolor": "white"
          },
          "hoverlabel": {
           "align": "left"
          },
          "hovermode": "closest",
          "mapbox": {
           "style": "light"
          },
          "paper_bgcolor": "white",
          "plot_bgcolor": "#E5ECF6",
          "polar": {
           "angularaxis": {
            "gridcolor": "white",
            "linecolor": "white",
            "ticks": ""
           },
           "bgcolor": "#E5ECF6",
           "radialaxis": {
            "gridcolor": "white",
            "linecolor": "white",
            "ticks": ""
           }
          },
          "scene": {
           "xaxis": {
            "backgroundcolor": "#E5ECF6",
            "gridcolor": "white",
            "gridwidth": 2,
            "linecolor": "white",
            "showbackground": true,
            "ticks": "",
            "zerolinecolor": "white"
           },
           "yaxis": {
            "backgroundcolor": "#E5ECF6",
            "gridcolor": "white",
            "gridwidth": 2,
            "linecolor": "white",
            "showbackground": true,
            "ticks": "",
            "zerolinecolor": "white"
           },
           "zaxis": {
            "backgroundcolor": "#E5ECF6",
            "gridcolor": "white",
            "gridwidth": 2,
            "linecolor": "white",
            "showbackground": true,
            "ticks": "",
            "zerolinecolor": "white"
           }
          },
          "shapedefaults": {
           "line": {
            "color": "#2a3f5f"
           }
          },
          "ternary": {
           "aaxis": {
            "gridcolor": "white",
            "linecolor": "white",
            "ticks": ""
           },
           "baxis": {
            "gridcolor": "white",
            "linecolor": "white",
            "ticks": ""
           },
           "bgcolor": "#E5ECF6",
           "caxis": {
            "gridcolor": "white",
            "linecolor": "white",
            "ticks": ""
           }
          },
          "title": {
           "x": 0.05
          },
          "xaxis": {
           "automargin": true,
           "gridcolor": "white",
           "linecolor": "white",
           "ticks": "",
           "title": {
            "standoff": 15
           },
           "zerolinecolor": "white",
           "zerolinewidth": 2
          },
          "yaxis": {
           "automargin": true,
           "gridcolor": "white",
           "linecolor": "white",
           "ticks": "",
           "title": {
            "standoff": 15
           },
           "zerolinecolor": "white",
           "zerolinewidth": 2
          }
         }
        },
        "title": {
         "text": "Flat Size over the years"
        },
        "xaxis": {
         "anchor": "y",
         "domain": [
          0,
          1
         ],
         "title": {
          "text": "Lease Commence Date"
         }
        },
        "yaxis": {
         "anchor": "x",
         "domain": [
          0,
          1
         ],
         "title": {
          "text": "Flat Size"
         }
        }
       }
      }
     },
     "metadata": {},
     "output_type": "display_data"
    },
    {
     "data": {
      "text/plain": [
       "<Figure size 1440x720 with 0 Axes>"
      ]
     },
     "metadata": {},
     "output_type": "display_data"
    }
   ],
   "source": [
    "\n",
    "plt.figure(figsize=(20,10))\n",
    "# plt.xticks(rotation=90, fontsize=15)\n",
    "# plt.yticks(fontsize=15)\n",
    "# plt.xlabel('Lease Commence Date', fontsize=20)\n",
    "# plt.ylabel('Floor Area (sqm)', fontsize=20)\n",
    "px.line(x='lease_commence_date', y='floor_area_sqm', color='flat_type', data_frame = initial_parquet_grouped, markers=True,\n",
    "            labels={\n",
    "                                \"lease_commence_date\": \"Lease Commence Date\",\n",
    "                                \"floor_area_sqm\": \"Flat Size\",\n",
    "                                \"flat_type\": \"Flat Type\"\n",
    "                            },\n",
    "                            title=\"Flat Size over the years\")\n"
   ]
  },
  {
   "cell_type": "markdown",
   "metadata": {},
   "source": [
    "1. Huge drop in the flat size area since 1996 (mid-1990s). \n",
    "2. 2009 -> 2010 : there was an increase in the area of the flat size. \n",
    "3. There is no siginicant decline in the flat size since 2012 to 2019. \n",
    "4. 1-room and Multi-generation flats are less common nowadays. "
   ]
  },
  {
   "cell_type": "markdown",
   "metadata": {},
   "source": [
    "### Q2. using DID, check if the emergence of Downtown Railway Line (DTL) from 2007-2015, led to an increase in the prices around the vicinity areas (Bukit Timah, Bukit Panjang and Bukit Batok) of the train line. "
   ]
  },
  {
   "cell_type": "code",
   "execution_count": 155,
   "metadata": {},
   "outputs": [
    {
     "data": {
      "text/html": [
       "<div>\n",
       "<style scoped>\n",
       "    .dataframe tbody tr th:only-of-type {\n",
       "        vertical-align: middle;\n",
       "    }\n",
       "\n",
       "    .dataframe tbody tr th {\n",
       "        vertical-align: top;\n",
       "    }\n",
       "\n",
       "    .dataframe thead th {\n",
       "        text-align: right;\n",
       "    }\n",
       "</style>\n",
       "<table border=\"1\" class=\"dataframe\">\n",
       "  <thead>\n",
       "    <tr style=\"text-align: right;\">\n",
       "      <th></th>\n",
       "      <th>month</th>\n",
       "      <th>town</th>\n",
       "      <th>flat_type</th>\n",
       "      <th>block</th>\n",
       "      <th>street_name</th>\n",
       "      <th>storey_range</th>\n",
       "      <th>floor_area_sqm</th>\n",
       "      <th>flat_model</th>\n",
       "      <th>lease_commence_date</th>\n",
       "      <th>remaining_lease</th>\n",
       "      <th>resale_price</th>\n",
       "      <th>_id</th>\n",
       "      <th>month_year</th>\n",
       "      <th>resale_year</th>\n",
       "      <th>resale_month</th>\n",
       "      <th>dtl_year</th>\n",
       "      <th>dtl_town</th>\n",
       "      <th>dtl_town_year</th>\n",
       "      <th>psf</th>\n",
       "    </tr>\n",
       "  </thead>\n",
       "  <tbody>\n",
       "    <tr>\n",
       "      <th>104</th>\n",
       "      <td>1990-01</td>\n",
       "      <td>ANG MO KIO</td>\n",
       "      <td>4 ROOM</td>\n",
       "      <td>211</td>\n",
       "      <td>ANG MO KIO AVE 3</td>\n",
       "      <td>04 TO 06</td>\n",
       "      <td>81.0</td>\n",
       "      <td>NEW GENERATION</td>\n",
       "      <td>1977</td>\n",
       "      <td>None</td>\n",
       "      <td>80000.0</td>\n",
       "      <td>105.0</td>\n",
       "      <td>1990-01-01</td>\n",
       "      <td>1990</td>\n",
       "      <td>1</td>\n",
       "      <td>0</td>\n",
       "      <td>0</td>\n",
       "      <td>0</td>\n",
       "      <td>987.654321</td>\n",
       "    </tr>\n",
       "    <tr>\n",
       "      <th>105</th>\n",
       "      <td>1990-01</td>\n",
       "      <td>ANG MO KIO</td>\n",
       "      <td>4 ROOM</td>\n",
       "      <td>209</td>\n",
       "      <td>ANG MO KIO AVE 3</td>\n",
       "      <td>07 TO 09</td>\n",
       "      <td>91.0</td>\n",
       "      <td>NEW GENERATION</td>\n",
       "      <td>1977</td>\n",
       "      <td>None</td>\n",
       "      <td>72000.0</td>\n",
       "      <td>106.0</td>\n",
       "      <td>1990-01-01</td>\n",
       "      <td>1990</td>\n",
       "      <td>1</td>\n",
       "      <td>0</td>\n",
       "      <td>0</td>\n",
       "      <td>0</td>\n",
       "      <td>791.208791</td>\n",
       "    </tr>\n",
       "    <tr>\n",
       "      <th>106</th>\n",
       "      <td>1990-01</td>\n",
       "      <td>ANG MO KIO</td>\n",
       "      <td>4 ROOM</td>\n",
       "      <td>231</td>\n",
       "      <td>ANG MO KIO AVE 3</td>\n",
       "      <td>04 TO 06</td>\n",
       "      <td>92.0</td>\n",
       "      <td>NEW GENERATION</td>\n",
       "      <td>1977</td>\n",
       "      <td>None</td>\n",
       "      <td>72000.0</td>\n",
       "      <td>107.0</td>\n",
       "      <td>1990-01-01</td>\n",
       "      <td>1990</td>\n",
       "      <td>1</td>\n",
       "      <td>0</td>\n",
       "      <td>0</td>\n",
       "      <td>0</td>\n",
       "      <td>782.608696</td>\n",
       "    </tr>\n",
       "    <tr>\n",
       "      <th>107</th>\n",
       "      <td>1990-01</td>\n",
       "      <td>ANG MO KIO</td>\n",
       "      <td>4 ROOM</td>\n",
       "      <td>308</td>\n",
       "      <td>ANG MO KIO AVE 1</td>\n",
       "      <td>10 TO 12</td>\n",
       "      <td>92.0</td>\n",
       "      <td>NEW GENERATION</td>\n",
       "      <td>1976</td>\n",
       "      <td>None</td>\n",
       "      <td>86000.0</td>\n",
       "      <td>108.0</td>\n",
       "      <td>1990-01-01</td>\n",
       "      <td>1990</td>\n",
       "      <td>1</td>\n",
       "      <td>0</td>\n",
       "      <td>0</td>\n",
       "      <td>0</td>\n",
       "      <td>934.782609</td>\n",
       "    </tr>\n",
       "    <tr>\n",
       "      <th>108</th>\n",
       "      <td>1990-01</td>\n",
       "      <td>ANG MO KIO</td>\n",
       "      <td>4 ROOM</td>\n",
       "      <td>254</td>\n",
       "      <td>ANG MO KIO AVE 4</td>\n",
       "      <td>10 TO 12</td>\n",
       "      <td>97.0</td>\n",
       "      <td>NEW GENERATION</td>\n",
       "      <td>1977</td>\n",
       "      <td>None</td>\n",
       "      <td>72000.0</td>\n",
       "      <td>109.0</td>\n",
       "      <td>1990-01-01</td>\n",
       "      <td>1990</td>\n",
       "      <td>1</td>\n",
       "      <td>0</td>\n",
       "      <td>0</td>\n",
       "      <td>0</td>\n",
       "      <td>742.268041</td>\n",
       "    </tr>\n",
       "  </tbody>\n",
       "</table>\n",
       "</div>"
      ],
      "text/plain": [
       "       month        town flat_type block       street_name storey_range  \\\n",
       "104  1990-01  ANG MO KIO    4 ROOM   211  ANG MO KIO AVE 3     04 TO 06   \n",
       "105  1990-01  ANG MO KIO    4 ROOM   209  ANG MO KIO AVE 3     07 TO 09   \n",
       "106  1990-01  ANG MO KIO    4 ROOM   231  ANG MO KIO AVE 3     04 TO 06   \n",
       "107  1990-01  ANG MO KIO    4 ROOM   308  ANG MO KIO AVE 1     10 TO 12   \n",
       "108  1990-01  ANG MO KIO    4 ROOM   254  ANG MO KIO AVE 4     10 TO 12   \n",
       "\n",
       "     floor_area_sqm      flat_model lease_commence_date remaining_lease  \\\n",
       "104            81.0  NEW GENERATION                1977            None   \n",
       "105            91.0  NEW GENERATION                1977            None   \n",
       "106            92.0  NEW GENERATION                1977            None   \n",
       "107            92.0  NEW GENERATION                1976            None   \n",
       "108            97.0  NEW GENERATION                1977            None   \n",
       "\n",
       "     resale_price    _id month_year  resale_year  resale_month  dtl_year  \\\n",
       "104       80000.0  105.0 1990-01-01         1990             1         0   \n",
       "105       72000.0  106.0 1990-01-01         1990             1         0   \n",
       "106       72000.0  107.0 1990-01-01         1990             1         0   \n",
       "107       86000.0  108.0 1990-01-01         1990             1         0   \n",
       "108       72000.0  109.0 1990-01-01         1990             1         0   \n",
       "\n",
       "     dtl_town  dtl_town_year         psf  \n",
       "104         0              0  987.654321  \n",
       "105         0              0  791.208791  \n",
       "106         0              0  782.608696  \n",
       "107         0              0  934.782609  \n",
       "108         0              0  742.268041  "
      ]
     },
     "execution_count": 155,
     "metadata": {},
     "output_type": "execute_result"
    }
   ],
   "source": [
    "# DTL Stage 2 stations: Cashew, Hillview, Beauty World, King Albert Park, Sixth Avenie, Tan Kah Kee \n",
    "# DTL Stage 2 areas: Bukit Batok, Bukit Panjang, Bukit Timah. \n",
    "# Filter the 4-room and the 5-room flats in the above areas. \n",
    "\n",
    "def dtl_year(row):\n",
    "    if row['resale_year'] >= 2008 and row['resale_year'] <= 2015:\n",
    "        return 1\n",
    "    else:\n",
    "        return 0 \n",
    "\n",
    "def dtl_town(row):\n",
    "    if row['town'] =='BUKIT PANJANG' or row['town'] =='BUKIT TIMAH' or row['town'] =='BUKIT BATOK':\n",
    "        return 1 \n",
    "    else: \n",
    "        return 0 \n",
    "\n",
    "initial_parquet_copy_test = initial_parquet_copy.copy()\n",
    "\n",
    "initial_parquet_copy_test['dtl_year'] = initial_parquet_copy_test.apply(dtl_year, axis=1)\n",
    "initial_parquet_copy_test['dtl_town'] = initial_parquet_copy_test.apply(dtl_town, axis=1)\n",
    "initial_parquet_copy_test['dtl_town_year'] = initial_parquet_copy_test['dtl_town'] * initial_parquet_copy['dtl_year']\n",
    "\n",
    "initial_parquet_copy_test = initial_parquet_copy_test[(initial_parquet_copy_test['flat_type'] == '4 ROOM') \n",
    "| (initial_parquet_copy_test['flat_type'] == '5 ROOM')]\n",
    "\n",
    "# Dependent Variable: Price per square meter of the flat area.\n",
    "initial_parquet_copy_test['psf'] = initial_parquet_copy_test['resale_price']/initial_parquet_copy_test['floor_area_sqm']\n",
    "initial_parquet_copy_test.head()\n",
    "\n",
    "\n",
    "# calculate the psf for these areas. \n",
    "# dummy variables. \n",
    "# psf of the remaining areas. "
   ]
  },
  {
   "cell_type": "markdown",
   "metadata": {},
   "source": [
    "### Check the plot"
   ]
  },
  {
   "cell_type": "code",
   "execution_count": 154,
   "metadata": {},
   "outputs": [
    {
     "data": {
      "application/vnd.plotly.v1+json": {
       "config": {
        "plotlyServerURL": "https://plot.ly"
       },
       "data": [
        {
         "hovertemplate": "dtl_town=0<br>resale_year=%{x}<br>psf=%{y}<extra></extra>",
         "legendgroup": "0",
         "line": {
          "color": "#636efa",
          "dash": "solid"
         },
         "marker": {
          "symbol": "circle"
         },
         "mode": "lines",
         "name": "0",
         "orientation": "v",
         "showlegend": true,
         "type": "scatter",
         "x": [
          1990,
          1991,
          1992,
          1993,
          1994,
          1995,
          1996,
          1997,
          1998,
          1999,
          2000,
          2001,
          2002,
          2003,
          2004,
          2005,
          2006,
          2007,
          2008,
          2009,
          2010,
          2011,
          2012,
          2013,
          2014,
          2015,
          2016,
          2017,
          2018,
          2019,
          2020,
          2021,
          2022
         ],
         "xaxis": "x",
         "y": [
          903.2258064516129,
          917.8076022338317,
          1016.9491525423729,
          1553.3980582524273,
          1961.3517550410754,
          2388.4892086330933,
          3214.285714285714,
          3278.688524590164,
          2736.842105263158,
          2595.744680851064,
          2714.285714285714,
          2462.4327956989246,
          2350,
          2393.153846153846,
          2444.4444444444443,
          2400,
          2405.940594059406,
          2583.3333333333335,
          3131.868131868132,
          3333.3333333333335,
          3727.2727272727275,
          4200,
          4526.763227513227,
          4695.194508009154,
          4363.636363636364,
          4149.029488615155,
          4178.571428571428,
          4195.865302642796,
          4148.148148148148,
          4172.043010752688,
          4385.08326827999,
          4954.679320679321,
          5286.88524590164
         ],
         "yaxis": "y"
        },
        {
         "hovertemplate": "dtl_town=1<br>resale_year=%{x}<br>psf=%{y}<extra></extra>",
         "legendgroup": "1",
         "line": {
          "color": "#EF553B",
          "dash": "solid"
         },
         "marker": {
          "symbol": "circle"
         },
         "mode": "lines",
         "name": "1",
         "orientation": "v",
         "showlegend": true,
         "type": "scatter",
         "x": [
          1990,
          1991,
          1992,
          1993,
          1994,
          1995,
          1996,
          1997,
          1998,
          1999,
          2000,
          2001,
          2002,
          2003,
          2004,
          2005,
          2006,
          2007,
          2008,
          2009,
          2010,
          2011,
          2012,
          2013,
          2014,
          2015,
          2016,
          2017,
          2018,
          2019,
          2020,
          2021,
          2022
         ],
         "xaxis": "x",
         "y": [
          854.1666666666666,
          852.3489932885906,
          902.9126213592233,
          1456.3106796116506,
          1796.116504854369,
          2115.9447348767735,
          2872.340425531915,
          2888.8888888888887,
          2404.255319148936,
          2270.9306853582557,
          2381.1303960836667,
          2250.4854368932038,
          2163.4615384615386,
          2257.4257425742576,
          2307.6923076923076,
          2349.5145631067962,
          2377.777777777778,
          2500,
          3178.441127694859,
          3298.3926919518963,
          3650.543923265879,
          4072.180614349289,
          4380.55883510429,
          4559.523809523809,
          4251.21359223301,
          4010.8063492063493,
          3989.0056783858886,
          4077.669902912621,
          3953.271028037383,
          3978.8306451612902,
          4338.842975206611,
          4709.677419354839,
          5036.144578313253
         ],
         "yaxis": "y"
        }
       ],
       "layout": {
        "legend": {
         "title": {
          "text": "dtl_town"
         },
         "tracegroupgap": 0
        },
        "margin": {
         "t": 60
        },
        "template": {
         "data": {
          "bar": [
           {
            "error_x": {
             "color": "#2a3f5f"
            },
            "error_y": {
             "color": "#2a3f5f"
            },
            "marker": {
             "line": {
              "color": "#E5ECF6",
              "width": 0.5
             },
             "pattern": {
              "fillmode": "overlay",
              "size": 10,
              "solidity": 0.2
             }
            },
            "type": "bar"
           }
          ],
          "barpolar": [
           {
            "marker": {
             "line": {
              "color": "#E5ECF6",
              "width": 0.5
             },
             "pattern": {
              "fillmode": "overlay",
              "size": 10,
              "solidity": 0.2
             }
            },
            "type": "barpolar"
           }
          ],
          "carpet": [
           {
            "aaxis": {
             "endlinecolor": "#2a3f5f",
             "gridcolor": "white",
             "linecolor": "white",
             "minorgridcolor": "white",
             "startlinecolor": "#2a3f5f"
            },
            "baxis": {
             "endlinecolor": "#2a3f5f",
             "gridcolor": "white",
             "linecolor": "white",
             "minorgridcolor": "white",
             "startlinecolor": "#2a3f5f"
            },
            "type": "carpet"
           }
          ],
          "choropleth": [
           {
            "colorbar": {
             "outlinewidth": 0,
             "ticks": ""
            },
            "type": "choropleth"
           }
          ],
          "contour": [
           {
            "colorbar": {
             "outlinewidth": 0,
             "ticks": ""
            },
            "colorscale": [
             [
              0,
              "#0d0887"
             ],
             [
              0.1111111111111111,
              "#46039f"
             ],
             [
              0.2222222222222222,
              "#7201a8"
             ],
             [
              0.3333333333333333,
              "#9c179e"
             ],
             [
              0.4444444444444444,
              "#bd3786"
             ],
             [
              0.5555555555555556,
              "#d8576b"
             ],
             [
              0.6666666666666666,
              "#ed7953"
             ],
             [
              0.7777777777777778,
              "#fb9f3a"
             ],
             [
              0.8888888888888888,
              "#fdca26"
             ],
             [
              1,
              "#f0f921"
             ]
            ],
            "type": "contour"
           }
          ],
          "contourcarpet": [
           {
            "colorbar": {
             "outlinewidth": 0,
             "ticks": ""
            },
            "type": "contourcarpet"
           }
          ],
          "heatmap": [
           {
            "colorbar": {
             "outlinewidth": 0,
             "ticks": ""
            },
            "colorscale": [
             [
              0,
              "#0d0887"
             ],
             [
              0.1111111111111111,
              "#46039f"
             ],
             [
              0.2222222222222222,
              "#7201a8"
             ],
             [
              0.3333333333333333,
              "#9c179e"
             ],
             [
              0.4444444444444444,
              "#bd3786"
             ],
             [
              0.5555555555555556,
              "#d8576b"
             ],
             [
              0.6666666666666666,
              "#ed7953"
             ],
             [
              0.7777777777777778,
              "#fb9f3a"
             ],
             [
              0.8888888888888888,
              "#fdca26"
             ],
             [
              1,
              "#f0f921"
             ]
            ],
            "type": "heatmap"
           }
          ],
          "heatmapgl": [
           {
            "colorbar": {
             "outlinewidth": 0,
             "ticks": ""
            },
            "colorscale": [
             [
              0,
              "#0d0887"
             ],
             [
              0.1111111111111111,
              "#46039f"
             ],
             [
              0.2222222222222222,
              "#7201a8"
             ],
             [
              0.3333333333333333,
              "#9c179e"
             ],
             [
              0.4444444444444444,
              "#bd3786"
             ],
             [
              0.5555555555555556,
              "#d8576b"
             ],
             [
              0.6666666666666666,
              "#ed7953"
             ],
             [
              0.7777777777777778,
              "#fb9f3a"
             ],
             [
              0.8888888888888888,
              "#fdca26"
             ],
             [
              1,
              "#f0f921"
             ]
            ],
            "type": "heatmapgl"
           }
          ],
          "histogram": [
           {
            "marker": {
             "pattern": {
              "fillmode": "overlay",
              "size": 10,
              "solidity": 0.2
             }
            },
            "type": "histogram"
           }
          ],
          "histogram2d": [
           {
            "colorbar": {
             "outlinewidth": 0,
             "ticks": ""
            },
            "colorscale": [
             [
              0,
              "#0d0887"
             ],
             [
              0.1111111111111111,
              "#46039f"
             ],
             [
              0.2222222222222222,
              "#7201a8"
             ],
             [
              0.3333333333333333,
              "#9c179e"
             ],
             [
              0.4444444444444444,
              "#bd3786"
             ],
             [
              0.5555555555555556,
              "#d8576b"
             ],
             [
              0.6666666666666666,
              "#ed7953"
             ],
             [
              0.7777777777777778,
              "#fb9f3a"
             ],
             [
              0.8888888888888888,
              "#fdca26"
             ],
             [
              1,
              "#f0f921"
             ]
            ],
            "type": "histogram2d"
           }
          ],
          "histogram2dcontour": [
           {
            "colorbar": {
             "outlinewidth": 0,
             "ticks": ""
            },
            "colorscale": [
             [
              0,
              "#0d0887"
             ],
             [
              0.1111111111111111,
              "#46039f"
             ],
             [
              0.2222222222222222,
              "#7201a8"
             ],
             [
              0.3333333333333333,
              "#9c179e"
             ],
             [
              0.4444444444444444,
              "#bd3786"
             ],
             [
              0.5555555555555556,
              "#d8576b"
             ],
             [
              0.6666666666666666,
              "#ed7953"
             ],
             [
              0.7777777777777778,
              "#fb9f3a"
             ],
             [
              0.8888888888888888,
              "#fdca26"
             ],
             [
              1,
              "#f0f921"
             ]
            ],
            "type": "histogram2dcontour"
           }
          ],
          "mesh3d": [
           {
            "colorbar": {
             "outlinewidth": 0,
             "ticks": ""
            },
            "type": "mesh3d"
           }
          ],
          "parcoords": [
           {
            "line": {
             "colorbar": {
              "outlinewidth": 0,
              "ticks": ""
             }
            },
            "type": "parcoords"
           }
          ],
          "pie": [
           {
            "automargin": true,
            "type": "pie"
           }
          ],
          "scatter": [
           {
            "fillpattern": {
             "fillmode": "overlay",
             "size": 10,
             "solidity": 0.2
            },
            "type": "scatter"
           }
          ],
          "scatter3d": [
           {
            "line": {
             "colorbar": {
              "outlinewidth": 0,
              "ticks": ""
             }
            },
            "marker": {
             "colorbar": {
              "outlinewidth": 0,
              "ticks": ""
             }
            },
            "type": "scatter3d"
           }
          ],
          "scattercarpet": [
           {
            "marker": {
             "colorbar": {
              "outlinewidth": 0,
              "ticks": ""
             }
            },
            "type": "scattercarpet"
           }
          ],
          "scattergeo": [
           {
            "marker": {
             "colorbar": {
              "outlinewidth": 0,
              "ticks": ""
             }
            },
            "type": "scattergeo"
           }
          ],
          "scattergl": [
           {
            "marker": {
             "colorbar": {
              "outlinewidth": 0,
              "ticks": ""
             }
            },
            "type": "scattergl"
           }
          ],
          "scattermapbox": [
           {
            "marker": {
             "colorbar": {
              "outlinewidth": 0,
              "ticks": ""
             }
            },
            "type": "scattermapbox"
           }
          ],
          "scatterpolar": [
           {
            "marker": {
             "colorbar": {
              "outlinewidth": 0,
              "ticks": ""
             }
            },
            "type": "scatterpolar"
           }
          ],
          "scatterpolargl": [
           {
            "marker": {
             "colorbar": {
              "outlinewidth": 0,
              "ticks": ""
             }
            },
            "type": "scatterpolargl"
           }
          ],
          "scatterternary": [
           {
            "marker": {
             "colorbar": {
              "outlinewidth": 0,
              "ticks": ""
             }
            },
            "type": "scatterternary"
           }
          ],
          "surface": [
           {
            "colorbar": {
             "outlinewidth": 0,
             "ticks": ""
            },
            "colorscale": [
             [
              0,
              "#0d0887"
             ],
             [
              0.1111111111111111,
              "#46039f"
             ],
             [
              0.2222222222222222,
              "#7201a8"
             ],
             [
              0.3333333333333333,
              "#9c179e"
             ],
             [
              0.4444444444444444,
              "#bd3786"
             ],
             [
              0.5555555555555556,
              "#d8576b"
             ],
             [
              0.6666666666666666,
              "#ed7953"
             ],
             [
              0.7777777777777778,
              "#fb9f3a"
             ],
             [
              0.8888888888888888,
              "#fdca26"
             ],
             [
              1,
              "#f0f921"
             ]
            ],
            "type": "surface"
           }
          ],
          "table": [
           {
            "cells": {
             "fill": {
              "color": "#EBF0F8"
             },
             "line": {
              "color": "white"
             }
            },
            "header": {
             "fill": {
              "color": "#C8D4E3"
             },
             "line": {
              "color": "white"
             }
            },
            "type": "table"
           }
          ]
         },
         "layout": {
          "annotationdefaults": {
           "arrowcolor": "#2a3f5f",
           "arrowhead": 0,
           "arrowwidth": 1
          },
          "autotypenumbers": "strict",
          "coloraxis": {
           "colorbar": {
            "outlinewidth": 0,
            "ticks": ""
           }
          },
          "colorscale": {
           "diverging": [
            [
             0,
             "#8e0152"
            ],
            [
             0.1,
             "#c51b7d"
            ],
            [
             0.2,
             "#de77ae"
            ],
            [
             0.3,
             "#f1b6da"
            ],
            [
             0.4,
             "#fde0ef"
            ],
            [
             0.5,
             "#f7f7f7"
            ],
            [
             0.6,
             "#e6f5d0"
            ],
            [
             0.7,
             "#b8e186"
            ],
            [
             0.8,
             "#7fbc41"
            ],
            [
             0.9,
             "#4d9221"
            ],
            [
             1,
             "#276419"
            ]
           ],
           "sequential": [
            [
             0,
             "#0d0887"
            ],
            [
             0.1111111111111111,
             "#46039f"
            ],
            [
             0.2222222222222222,
             "#7201a8"
            ],
            [
             0.3333333333333333,
             "#9c179e"
            ],
            [
             0.4444444444444444,
             "#bd3786"
            ],
            [
             0.5555555555555556,
             "#d8576b"
            ],
            [
             0.6666666666666666,
             "#ed7953"
            ],
            [
             0.7777777777777778,
             "#fb9f3a"
            ],
            [
             0.8888888888888888,
             "#fdca26"
            ],
            [
             1,
             "#f0f921"
            ]
           ],
           "sequentialminus": [
            [
             0,
             "#0d0887"
            ],
            [
             0.1111111111111111,
             "#46039f"
            ],
            [
             0.2222222222222222,
             "#7201a8"
            ],
            [
             0.3333333333333333,
             "#9c179e"
            ],
            [
             0.4444444444444444,
             "#bd3786"
            ],
            [
             0.5555555555555556,
             "#d8576b"
            ],
            [
             0.6666666666666666,
             "#ed7953"
            ],
            [
             0.7777777777777778,
             "#fb9f3a"
            ],
            [
             0.8888888888888888,
             "#fdca26"
            ],
            [
             1,
             "#f0f921"
            ]
           ]
          },
          "colorway": [
           "#636efa",
           "#EF553B",
           "#00cc96",
           "#ab63fa",
           "#FFA15A",
           "#19d3f3",
           "#FF6692",
           "#B6E880",
           "#FF97FF",
           "#FECB52"
          ],
          "font": {
           "color": "#2a3f5f"
          },
          "geo": {
           "bgcolor": "white",
           "lakecolor": "white",
           "landcolor": "#E5ECF6",
           "showlakes": true,
           "showland": true,
           "subunitcolor": "white"
          },
          "hoverlabel": {
           "align": "left"
          },
          "hovermode": "closest",
          "mapbox": {
           "style": "light"
          },
          "paper_bgcolor": "white",
          "plot_bgcolor": "#E5ECF6",
          "polar": {
           "angularaxis": {
            "gridcolor": "white",
            "linecolor": "white",
            "ticks": ""
           },
           "bgcolor": "#E5ECF6",
           "radialaxis": {
            "gridcolor": "white",
            "linecolor": "white",
            "ticks": ""
           }
          },
          "scene": {
           "xaxis": {
            "backgroundcolor": "#E5ECF6",
            "gridcolor": "white",
            "gridwidth": 2,
            "linecolor": "white",
            "showbackground": true,
            "ticks": "",
            "zerolinecolor": "white"
           },
           "yaxis": {
            "backgroundcolor": "#E5ECF6",
            "gridcolor": "white",
            "gridwidth": 2,
            "linecolor": "white",
            "showbackground": true,
            "ticks": "",
            "zerolinecolor": "white"
           },
           "zaxis": {
            "backgroundcolor": "#E5ECF6",
            "gridcolor": "white",
            "gridwidth": 2,
            "linecolor": "white",
            "showbackground": true,
            "ticks": "",
            "zerolinecolor": "white"
           }
          },
          "shapedefaults": {
           "line": {
            "color": "#2a3f5f"
           }
          },
          "ternary": {
           "aaxis": {
            "gridcolor": "white",
            "linecolor": "white",
            "ticks": ""
           },
           "baxis": {
            "gridcolor": "white",
            "linecolor": "white",
            "ticks": ""
           },
           "bgcolor": "#E5ECF6",
           "caxis": {
            "gridcolor": "white",
            "linecolor": "white",
            "ticks": ""
           }
          },
          "title": {
           "x": 0.05
          },
          "xaxis": {
           "automargin": true,
           "gridcolor": "white",
           "linecolor": "white",
           "ticks": "",
           "title": {
            "standoff": 15
           },
           "zerolinecolor": "white",
           "zerolinewidth": 2
          },
          "yaxis": {
           "automargin": true,
           "gridcolor": "white",
           "linecolor": "white",
           "ticks": "",
           "title": {
            "standoff": 15
           },
           "zerolinecolor": "white",
           "zerolinewidth": 2
          }
         }
        },
        "xaxis": {
         "anchor": "y",
         "domain": [
          0,
          1
         ],
         "title": {
          "text": "resale_year"
         }
        },
        "yaxis": {
         "anchor": "x",
         "domain": [
          0,
          1
         ],
         "title": {
          "text": "psf"
         }
        }
       }
      }
     },
     "metadata": {},
     "output_type": "display_data"
    },
    {
     "data": {
      "text/plain": [
       "<Figure size 1440x720 with 0 Axes>"
      ]
     },
     "metadata": {},
     "output_type": "display_data"
    }
   ],
   "source": [
    "graphed = initial_parquet_copy_test.groupby(['resale_year', 'dtl_town'], as_index=False)['psf'].median()\n",
    "\n",
    "plt.figure(figsize=(20,10))\n",
    "\n",
    "px.line(data_frame=graphed, x='resale_year', y='psf', color='dtl_town')"
   ]
  },
  {
   "cell_type": "markdown",
   "metadata": {},
   "source": [
    "1. Prior to 2007-2015, the difference in the psf for DTL and non-DTL town areas was large. \n",
    "2. During the treatment period, when the DTL line was built, the psf for DTL and non-DTL lines came significantly close"
   ]
  },
  {
   "cell_type": "markdown",
   "metadata": {},
   "source": [
    "### DID Regression Model"
   ]
  },
  {
   "cell_type": "code",
   "execution_count": 151,
   "metadata": {},
   "outputs": [
    {
     "data": {
      "text/plain": [
       "array([ 976.47894579, -317.51710007,   84.96230602])"
      ]
     },
     "execution_count": 151,
     "metadata": {},
     "output_type": "execute_result"
    }
   ],
   "source": [
    "x = initial_parquet_copy_test.iloc[:,-4:-1]\n",
    "y = initial_parquet_copy_test.iloc[:,-1]\n",
    "\n",
    "from sklearn.linear_model import LinearRegression\n",
    "\n",
    "model = LinearRegression().fit(x, y)\n",
    "model.coef_"
   ]
  },
  {
   "cell_type": "code",
   "execution_count": 152,
   "metadata": {},
   "outputs": [
    {
     "name": "stdout",
     "output_type": "stream",
     "text": [
      "                            OLS Regression Results                            \n",
      "==============================================================================\n",
      "Dep. Variable:                    psf   R-squared:                       0.096\n",
      "Model:                            OLS   Adj. R-squared:                  0.096\n",
      "Method:                 Least Squares   F-statistic:                 1.819e+04\n",
      "Date:                Thu, 04 Aug 2022   Prob (F-statistic):               0.00\n",
      "Time:                        20:47:35   Log-Likelihood:            -4.4244e+06\n",
      "No. Observations:              515556   AIC:                         8.849e+06\n",
      "Df Residuals:                  515552   BIC:                         8.849e+06\n",
      "Df Model:                           3                                         \n",
      "Covariance Type:            nonrobust                                         \n",
      "=================================================================================\n",
      "                    coef    std err          t      P>|t|      [0.025      0.975]\n",
      "---------------------------------------------------------------------------------\n",
      "const          3120.4948      2.132   1463.878      0.000    3116.317    3124.673\n",
      "dtl_year        976.4789      4.475    218.212      0.000     967.708     985.250\n",
      "dtl_town       -317.5171      7.553    -42.037      0.000    -332.321    -302.713\n",
      "dtl_town_year    84.9623     15.636      5.434      0.000      54.317     115.608\n",
      "==============================================================================\n",
      "Omnibus:                   170743.166   Durbin-Watson:                   0.179\n",
      "Prob(Omnibus):                  0.000   Jarque-Bera (JB):           655548.880\n",
      "Skew:                           1.631   Prob(JB):                         0.00\n",
      "Kurtosis:                       7.458   Cond. No.                         9.32\n",
      "==============================================================================\n",
      "\n",
      "Notes:\n",
      "[1] Standard Errors assume that the covariance matrix of the errors is correctly specified.\n"
     ]
    }
   ],
   "source": [
    "# Model to get the summary statistics\n",
    "import statsmodels.api as sm\n",
    "\n",
    "X2 = sm.add_constant(x)\n",
    "est = sm.OLS(y, X2)\n",
    "est2 = est.fit()\n",
    "print(est2.summary())"
   ]
  },
  {
   "cell_type": "markdown",
   "metadata": {},
   "source": [
    "1. the coefficient for the interaction term is positive indicating that there is a lift in the prices when the DTL was built and for the vicinity towns near DTL line. \n",
    "2. However, the Adjusted R2 is 0.096 (quite low), variance is the data is not accounted by the model."
   ]
  },
  {
   "cell_type": "code",
   "execution_count": 173,
   "metadata": {},
   "outputs": [
    {
     "name": "stdout",
     "output_type": "stream",
     "text": [
      "[84.96230602]\n"
     ]
    }
   ],
   "source": [
    "# DTL_year, DTL_town, DTL_town_year\n",
    "# Not DTL not 2007-2015\n",
    "\n",
    "# treated = 0 | find the difference across the time\n",
    "X_no_dtl_year_no_dtl_town = [1,0,0,0]\n",
    "X_dtl_year_no_dtl_town = [1,1,0,0]\n",
    "Y_no_dtl_year_no_dtl_town = est2.predict(X_no_dtl_year_no_dtl_town)\n",
    "Y_dtl_year_no_dtl_town = est2.predict(X_dtl_year_no_dtl_town)\n",
    "\n",
    "\n",
    "D1 = Y_dtl_year_no_dtl_town - Y_no_dtl_year_no_dtl_town\n",
    "\n",
    "X_no_dtl_year_dtl_town = [1,0,1,0]\n",
    "X_dtl_year_dtl_town = [1,1,1,1]\n",
    "Y_no_dtl_year_dtl_town = est2.predict(X_no_dtl_year_dtl_town)\n",
    "Y_dtl_year_dtl_town = est2.predict(X_dtl_year_dtl_town)\n",
    "\n",
    "D2 = Y_dtl_year_dtl_town  - Y_no_dtl_year_dtl_town\n",
    "\n",
    "\n",
    "print(D2-D1)"
   ]
  },
  {
   "cell_type": "code",
   "execution_count": null,
   "metadata": {},
   "outputs": [],
   "source": [
    "dtl_town_year has positive coefficient. "
   ]
  }
 ],
 "metadata": {
  "kernelspec": {
   "display_name": "ipy-jupyter-venv3.7",
   "language": "python",
   "name": "myipy_jupter_env3.7"
  },
  "language_info": {
   "codemirror_mode": {
    "name": "ipython",
    "version": 3
   },
   "file_extension": ".py",
   "mimetype": "text/x-python",
   "name": "python",
   "nbconvert_exporter": "python",
   "pygments_lexer": "ipython3",
   "version": "3.7.4"
  },
  "orig_nbformat": 4,
  "vscode": {
   "interpreter": {
    "hash": "aee8b7b246df8f9039afb4144a1f6fd8d2ca17a180786b69acc140d282b71a49"
   }
  }
 },
 "nbformat": 4,
 "nbformat_minor": 2
}
