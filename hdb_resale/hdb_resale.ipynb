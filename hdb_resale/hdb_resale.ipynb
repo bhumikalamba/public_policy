{
 "cells": [
  {
   "cell_type": "code",
   "execution_count": 1,
   "metadata": {},
   "outputs": [],
   "source": [
    "import requests\n",
    "import json\n",
    "\n",
    "import pyarrow\n",
    "\n",
    "import pandas as pd\n",
    "import seaborn as sns\n",
    "import matplotlib.pyplot as plt\n",
    "\n",
    "import plotly.express as px"
   ]
  },
  {
   "cell_type": "markdown",
   "metadata": {},
   "source": [
    "### Read data from public API and concatenate all the years of data."
   ]
  },
  {
   "cell_type": "markdown",
   "metadata": {},
   "source": [
    "Can we have the API without limit ? \n",
    "https://stackoverflow.com/questions/40745338/whats-the-pattern-to-request-for-all-records-using-restful-app"
   ]
  },
  {
   "cell_type": "code",
   "execution_count": 2,
   "metadata": {},
   "outputs": [
    {
     "name": "stdout",
     "output_type": "stream",
     "text": [
      "https://data.gov.sg/api/action/datastore_search?resource_id=adbbddd3-30e2-445f-a123-29bee150a6fe&limit=10000000\n",
      "https://data.gov.sg/api/action/datastore_search?resource_id=8c00bf08-9124-479e-aeca-7cc411d884c4&limit=10000000\n",
      "https://data.gov.sg/api/action/datastore_search?resource_id=83b2fc37-ce8c-4df4-968b-370fd818138b&limit=10000000\n",
      "https://data.gov.sg/api/action/datastore_search?resource_id=1b702208-44bf-4829-b620-4615ee19b57c&limit=10000000\n",
      "https://data.gov.sg/api/action/datastore_search?resource_id=f1765b54-a209-4718-8d38-a39237f502b3&limit=10000000\n"
     ]
    }
   ],
   "source": [
    "# The default limit is 100 rows. \n",
    "# how to know the upper limit \n",
    "# code it such that all the rows are extracted. &limit=50000\n",
    "max_limit = 10000000\n",
    "url_1990_1999 = 'https://data.gov.sg/api/action/datastore_search?resource_id=adbbddd3-30e2-445f-a123-29bee150a6fe&limit={}'.format(max_limit)\n",
    "url_2000_2012 = 'https://data.gov.sg/api/action/datastore_search?resource_id=8c00bf08-9124-479e-aeca-7cc411d884c4&limit={}'.format(max_limit)\n",
    "url_2012_2014 = 'https://data.gov.sg/api/action/datastore_search?resource_id=83b2fc37-ce8c-4df4-968b-370fd818138b&limit={}'.format(max_limit)\n",
    "url_2015_2016 = 'https://data.gov.sg/api/action/datastore_search?resource_id=1b702208-44bf-4829-b620-4615ee19b57c&limit={}'.format(max_limit)\n",
    "url_2017_present = 'https://data.gov.sg/api/action/datastore_search?resource_id=f1765b54-a209-4718-8d38-a39237f502b3&limit={}'.format(max_limit)\n",
    "\n",
    "\n",
    "url_list = [url_1990_1999, url_2000_2012, url_2012_2014, url_2015_2016, url_2017_present]\n",
    "\n",
    "initial_df = pd.DataFrame({'month':[],\n",
    "                            'town':[],\n",
    "                            'flat_type': [], \n",
    "                            'block': [], \n",
    "                            'street_name': [], \n",
    "                            'storey_range': [], \n",
    "                            'floor_area_sqm':[], \n",
    "                            'flat_model': [], \n",
    "                            'lease_commence_date':[], \n",
    "                            'remaining_lease':[], \n",
    "                            'resale_price':[]})\n",
    "\n",
    "for url in url_list: \n",
    "    print(url)\n",
    "    data = requests.get(url).text\n",
    "    final = json.loads(data)['result']['records']\n",
    "    df = pd.DataFrame(final)\n",
    "    initial_df = pd.concat((initial_df,df), axis=0)\n",
    "    # concat the dataframes along the rows. \n",
    "\n",
    "\n",
    "    # Next task is to combine the block number and the street number to get the lat/long coordinates. \n",
    "\n"
   ]
  },
  {
   "cell_type": "code",
   "execution_count": 3,
   "metadata": {},
   "outputs": [
    {
     "data": {
      "text/html": [
       "<div>\n",
       "<style scoped>\n",
       "    .dataframe tbody tr th:only-of-type {\n",
       "        vertical-align: middle;\n",
       "    }\n",
       "\n",
       "    .dataframe tbody tr th {\n",
       "        vertical-align: top;\n",
       "    }\n",
       "\n",
       "    .dataframe thead th {\n",
       "        text-align: right;\n",
       "    }\n",
       "</style>\n",
       "<table border=\"1\" class=\"dataframe\">\n",
       "  <thead>\n",
       "    <tr style=\"text-align: right;\">\n",
       "      <th></th>\n",
       "      <th>month</th>\n",
       "      <th>town</th>\n",
       "      <th>flat_type</th>\n",
       "      <th>block</th>\n",
       "      <th>street_name</th>\n",
       "      <th>storey_range</th>\n",
       "      <th>floor_area_sqm</th>\n",
       "      <th>flat_model</th>\n",
       "      <th>lease_commence_date</th>\n",
       "      <th>remaining_lease</th>\n",
       "      <th>resale_price</th>\n",
       "      <th>_id</th>\n",
       "    </tr>\n",
       "  </thead>\n",
       "  <tbody>\n",
       "    <tr>\n",
       "      <th>130655</th>\n",
       "      <td>2022-08</td>\n",
       "      <td>YISHUN</td>\n",
       "      <td>5 ROOM</td>\n",
       "      <td>299</td>\n",
       "      <td>YISHUN ST 20</td>\n",
       "      <td>07 TO 09</td>\n",
       "      <td>111</td>\n",
       "      <td>Improved</td>\n",
       "      <td>2000</td>\n",
       "      <td>77 years 04 months</td>\n",
       "      <td>580000</td>\n",
       "      <td>130656.0</td>\n",
       "    </tr>\n",
       "    <tr>\n",
       "      <th>130656</th>\n",
       "      <td>2022-08</td>\n",
       "      <td>YISHUN</td>\n",
       "      <td>5 ROOM</td>\n",
       "      <td>292</td>\n",
       "      <td>YISHUN ST 22</td>\n",
       "      <td>04 TO 06</td>\n",
       "      <td>133</td>\n",
       "      <td>Model A</td>\n",
       "      <td>1992</td>\n",
       "      <td>68 years 11 months</td>\n",
       "      <td>575000</td>\n",
       "      <td>130657.0</td>\n",
       "    </tr>\n",
       "    <tr>\n",
       "      <th>130657</th>\n",
       "      <td>2022-08</td>\n",
       "      <td>YISHUN</td>\n",
       "      <td>5 ROOM</td>\n",
       "      <td>334C</td>\n",
       "      <td>YISHUN ST 31</td>\n",
       "      <td>01 TO 03</td>\n",
       "      <td>112</td>\n",
       "      <td>Improved</td>\n",
       "      <td>2015</td>\n",
       "      <td>92 years 04 months</td>\n",
       "      <td>560000</td>\n",
       "      <td>130658.0</td>\n",
       "    </tr>\n",
       "    <tr>\n",
       "      <th>130658</th>\n",
       "      <td>2022-08</td>\n",
       "      <td>YISHUN</td>\n",
       "      <td>5 ROOM</td>\n",
       "      <td>333A</td>\n",
       "      <td>YISHUN ST 31</td>\n",
       "      <td>10 TO 12</td>\n",
       "      <td>112</td>\n",
       "      <td>Improved</td>\n",
       "      <td>2015</td>\n",
       "      <td>92 years 04 months</td>\n",
       "      <td>578000</td>\n",
       "      <td>130659.0</td>\n",
       "    </tr>\n",
       "    <tr>\n",
       "      <th>130659</th>\n",
       "      <td>2022-08</td>\n",
       "      <td>YISHUN</td>\n",
       "      <td>5 ROOM</td>\n",
       "      <td>760</td>\n",
       "      <td>YISHUN ST 72</td>\n",
       "      <td>07 TO 09</td>\n",
       "      <td>122</td>\n",
       "      <td>Improved</td>\n",
       "      <td>1987</td>\n",
       "      <td>63 years 08 months</td>\n",
       "      <td>608000</td>\n",
       "      <td>130660.0</td>\n",
       "    </tr>\n",
       "  </tbody>\n",
       "</table>\n",
       "</div>"
      ],
      "text/plain": [
       "          month    town flat_type block   street_name storey_range  \\\n",
       "130655  2022-08  YISHUN    5 ROOM   299  YISHUN ST 20     07 TO 09   \n",
       "130656  2022-08  YISHUN    5 ROOM   292  YISHUN ST 22     04 TO 06   \n",
       "130657  2022-08  YISHUN    5 ROOM  334C  YISHUN ST 31     01 TO 03   \n",
       "130658  2022-08  YISHUN    5 ROOM  333A  YISHUN ST 31     10 TO 12   \n",
       "130659  2022-08  YISHUN    5 ROOM   760  YISHUN ST 72     07 TO 09   \n",
       "\n",
       "       floor_area_sqm flat_model lease_commence_date     remaining_lease  \\\n",
       "130655            111   Improved                2000  77 years 04 months   \n",
       "130656            133    Model A                1992  68 years 11 months   \n",
       "130657            112   Improved                2015  92 years 04 months   \n",
       "130658            112   Improved                2015  92 years 04 months   \n",
       "130659            122   Improved                1987  63 years 08 months   \n",
       "\n",
       "       resale_price       _id  \n",
       "130655       580000  130656.0  \n",
       "130656       575000  130657.0  \n",
       "130657       560000  130658.0  \n",
       "130658       578000  130659.0  \n",
       "130659       608000  130660.0  "
      ]
     },
     "execution_count": 3,
     "metadata": {},
     "output_type": "execute_result"
    }
   ],
   "source": [
    "initial_df.head()\n",
    "initial_df.tail()"
   ]
  },
  {
   "cell_type": "markdown",
   "metadata": {},
   "source": [
    "Get metadata on the columns here https://data.gov.sg/dataset/resale-flat-prices?resource_id=1b702208-44bf-4829-b620-4615ee19b57c"
   ]
  },
  {
   "cell_type": "markdown",
   "metadata": {},
   "source": [
    "### Convert the CSV into Parquet"
   ]
  },
  {
   "cell_type": "code",
   "execution_count": 4,
   "metadata": {},
   "outputs": [],
   "source": [
    "initial_df.to_parquet('./initial_df.parquet')"
   ]
  },
  {
   "cell_type": "code",
   "execution_count": 5,
   "metadata": {},
   "outputs": [],
   "source": [
    "initial_parquet = pd.read_parquet('./initial_df.parquet')"
   ]
  },
  {
   "cell_type": "code",
   "execution_count": 6,
   "metadata": {},
   "outputs": [
    {
     "data": {
      "text/html": [
       "<div>\n",
       "<style scoped>\n",
       "    .dataframe tbody tr th:only-of-type {\n",
       "        vertical-align: middle;\n",
       "    }\n",
       "\n",
       "    .dataframe tbody tr th {\n",
       "        vertical-align: top;\n",
       "    }\n",
       "\n",
       "    .dataframe thead th {\n",
       "        text-align: right;\n",
       "    }\n",
       "</style>\n",
       "<table border=\"1\" class=\"dataframe\">\n",
       "  <thead>\n",
       "    <tr style=\"text-align: right;\">\n",
       "      <th></th>\n",
       "      <th>month</th>\n",
       "      <th>town</th>\n",
       "      <th>flat_type</th>\n",
       "      <th>block</th>\n",
       "      <th>street_name</th>\n",
       "      <th>storey_range</th>\n",
       "      <th>floor_area_sqm</th>\n",
       "      <th>flat_model</th>\n",
       "      <th>lease_commence_date</th>\n",
       "      <th>remaining_lease</th>\n",
       "      <th>resale_price</th>\n",
       "      <th>_id</th>\n",
       "    </tr>\n",
       "  </thead>\n",
       "  <tbody>\n",
       "    <tr>\n",
       "      <th>130655</th>\n",
       "      <td>2022-08</td>\n",
       "      <td>YISHUN</td>\n",
       "      <td>5 ROOM</td>\n",
       "      <td>299</td>\n",
       "      <td>YISHUN ST 20</td>\n",
       "      <td>07 TO 09</td>\n",
       "      <td>111</td>\n",
       "      <td>Improved</td>\n",
       "      <td>2000</td>\n",
       "      <td>77 years 04 months</td>\n",
       "      <td>580000</td>\n",
       "      <td>130656.0</td>\n",
       "    </tr>\n",
       "    <tr>\n",
       "      <th>130656</th>\n",
       "      <td>2022-08</td>\n",
       "      <td>YISHUN</td>\n",
       "      <td>5 ROOM</td>\n",
       "      <td>292</td>\n",
       "      <td>YISHUN ST 22</td>\n",
       "      <td>04 TO 06</td>\n",
       "      <td>133</td>\n",
       "      <td>Model A</td>\n",
       "      <td>1992</td>\n",
       "      <td>68 years 11 months</td>\n",
       "      <td>575000</td>\n",
       "      <td>130657.0</td>\n",
       "    </tr>\n",
       "    <tr>\n",
       "      <th>130657</th>\n",
       "      <td>2022-08</td>\n",
       "      <td>YISHUN</td>\n",
       "      <td>5 ROOM</td>\n",
       "      <td>334C</td>\n",
       "      <td>YISHUN ST 31</td>\n",
       "      <td>01 TO 03</td>\n",
       "      <td>112</td>\n",
       "      <td>Improved</td>\n",
       "      <td>2015</td>\n",
       "      <td>92 years 04 months</td>\n",
       "      <td>560000</td>\n",
       "      <td>130658.0</td>\n",
       "    </tr>\n",
       "    <tr>\n",
       "      <th>130658</th>\n",
       "      <td>2022-08</td>\n",
       "      <td>YISHUN</td>\n",
       "      <td>5 ROOM</td>\n",
       "      <td>333A</td>\n",
       "      <td>YISHUN ST 31</td>\n",
       "      <td>10 TO 12</td>\n",
       "      <td>112</td>\n",
       "      <td>Improved</td>\n",
       "      <td>2015</td>\n",
       "      <td>92 years 04 months</td>\n",
       "      <td>578000</td>\n",
       "      <td>130659.0</td>\n",
       "    </tr>\n",
       "    <tr>\n",
       "      <th>130659</th>\n",
       "      <td>2022-08</td>\n",
       "      <td>YISHUN</td>\n",
       "      <td>5 ROOM</td>\n",
       "      <td>760</td>\n",
       "      <td>YISHUN ST 72</td>\n",
       "      <td>07 TO 09</td>\n",
       "      <td>122</td>\n",
       "      <td>Improved</td>\n",
       "      <td>1987</td>\n",
       "      <td>63 years 08 months</td>\n",
       "      <td>608000</td>\n",
       "      <td>130660.0</td>\n",
       "    </tr>\n",
       "  </tbody>\n",
       "</table>\n",
       "</div>"
      ],
      "text/plain": [
       "          month    town flat_type block   street_name storey_range  \\\n",
       "130655  2022-08  YISHUN    5 ROOM   299  YISHUN ST 20     07 TO 09   \n",
       "130656  2022-08  YISHUN    5 ROOM   292  YISHUN ST 22     04 TO 06   \n",
       "130657  2022-08  YISHUN    5 ROOM  334C  YISHUN ST 31     01 TO 03   \n",
       "130658  2022-08  YISHUN    5 ROOM  333A  YISHUN ST 31     10 TO 12   \n",
       "130659  2022-08  YISHUN    5 ROOM   760  YISHUN ST 72     07 TO 09   \n",
       "\n",
       "       floor_area_sqm flat_model lease_commence_date     remaining_lease  \\\n",
       "130655            111   Improved                2000  77 years 04 months   \n",
       "130656            133    Model A                1992  68 years 11 months   \n",
       "130657            112   Improved                2015  92 years 04 months   \n",
       "130658            112   Improved                2015  92 years 04 months   \n",
       "130659            122   Improved                1987  63 years 08 months   \n",
       "\n",
       "       resale_price       _id  \n",
       "130655       580000  130656.0  \n",
       "130656       575000  130657.0  \n",
       "130657       560000  130658.0  \n",
       "130658       578000  130659.0  \n",
       "130659       608000  130660.0  "
      ]
     },
     "execution_count": 6,
     "metadata": {},
     "output_type": "execute_result"
    }
   ],
   "source": [
    "initial_parquet.tail()"
   ]
  },
  {
   "cell_type": "code",
   "execution_count": 7,
   "metadata": {},
   "outputs": [
    {
     "name": "stdout",
     "output_type": "stream",
     "text": [
      "<class 'pandas.core.frame.DataFrame'>\n",
      "Int64Index: 876863 entries, 0 to 130659\n",
      "Data columns (total 12 columns):\n",
      " #   Column               Non-Null Count   Dtype  \n",
      "---  ------               --------------   -----  \n",
      " 0   month                876863 non-null  object \n",
      " 1   town                 876863 non-null  object \n",
      " 2   flat_type            876863 non-null  object \n",
      " 3   block                876863 non-null  object \n",
      " 4   street_name          876863 non-null  object \n",
      " 5   storey_range         876863 non-null  object \n",
      " 6   floor_area_sqm       876863 non-null  object \n",
      " 7   flat_model           876863 non-null  object \n",
      " 8   lease_commence_date  876863 non-null  object \n",
      " 9   remaining_lease      167813 non-null  object \n",
      " 10  resale_price         876863 non-null  object \n",
      " 11  _id                  876863 non-null  float64\n",
      "dtypes: float64(1), object(11)\n",
      "memory usage: 87.0+ MB\n"
     ]
    }
   ],
   "source": [
    "initial_parquet.info()\n",
    "# check unique values for town and clean up any consistency errors. \n",
    "# check unique values for story range "
   ]
  },
  {
   "cell_type": "code",
   "execution_count": 8,
   "metadata": {},
   "outputs": [],
   "source": [
    "initial_parquet_copy = initial_parquet.copy()"
   ]
  },
  {
   "cell_type": "code",
   "execution_count": 9,
   "metadata": {},
   "outputs": [
    {
     "name": "stdout",
     "output_type": "stream",
     "text": [
      "['ANG MO KIO', 'BEDOK', 'BISHAN', 'BUKIT BATOK', 'GEYLANG', 'BUKIT MERAH', 'BUKIT TIMAH', 'CENTRAL AREA', 'CHOA CHU KANG', 'CLEMENTI', 'HOUGANG', 'JURONG EAST', 'JURONG WEST', 'KALLANG/WHAMPOA', 'MARINE PARADE', 'QUEENSTOWN', 'SENGKANG', 'SERANGOON', 'TAMPINES', 'TOA PAYOH', 'WOODLANDS', 'YISHUN', 'LIM CHU KANG', 'SEMBAWANG', 'BUKIT PANJANG', 'PASIR RIS', 'PUNGGOL']\n",
      "['1 ROOM', '3 ROOM', '4 ROOM', '5 ROOM', '2 ROOM', 'EXECUTIVE', 'MULTI-GENERATION']\n",
      "['10 TO 12', '04 TO 06', '07 TO 09', '01 TO 03', '13 TO 15', '19 TO 21', '16 TO 18', '25 TO 27', '22 TO 24', '28 TO 30', '31 TO 33', '40 TO 42', '37 TO 39', '34 TO 36', '06 TO 10', '01 TO 05', '11 TO 15', '16 TO 20', '21 TO 25', '26 TO 30', '36 TO 40', '31 TO 35', '46 TO 48', '43 TO 45', '49 TO 51']\n",
      "['IMPROVED', 'NEW GENERATION', 'MODEL A', 'STANDARD', 'SIMPLIFIED', 'MODEL A-MAISONETTE', 'APARTMENT', 'MAISONETTE', 'TERRACE', '2-ROOM', 'IMPROVED-MAISONETTE', 'MULTI-GENERATION', 'PREMIUM APARTMENT', 'ADJOINED FLAT', 'PREMIUM MAISONETTE', 'MODEL A2', 'DBSS', 'TYPE S1', 'TYPE S2', 'PREMIUM APARTMENT LOFT', '3GEN']\n"
     ]
    }
   ],
   "source": [
    "# Convert the month column into datetime\n",
    "initial_parquet_copy['month_year']= pd.to_datetime(initial_parquet_copy['month'], format = '%Y-%m')\n",
    "\n",
    "# Parse month_year into resale year and resale month. \n",
    "initial_parquet_copy['resale_year'] = initial_parquet_copy['month_year'].dt.year\n",
    "initial_parquet_copy['resale_month'] = initial_parquet_copy['month_year'].dt.month\n",
    "\n",
    "# change the data format type\n",
    "initial_parquet_copy['floor_area_sqm'] = initial_parquet_copy['floor_area_sqm'].astype('float')\n",
    "initial_parquet_copy['resale_price'] = initial_parquet_copy['resale_price'].astype('float')\n",
    "# initial_parquet_copy.drop(['_id'], inplace=True)\n",
    "\n",
    "# type of columns \n",
    "float_columns = ['floor_area_sqm', 'resale_price']\n",
    "object_columns = ['town', 'flat_type', 'storey_range', 'flat_model']\n",
    "\n",
    "for col in object_columns: \n",
    "    initial_parquet_copy[col] = initial_parquet_copy[col].astype('category')\n",
    "\n",
    "# in flat_type, replace multi generation with multi-generation. \n",
    "replace_map_flat_type = {'flat_type':{'MULTI GENERATION': 'MULTI-GENERATION'}}\n",
    "initial_parquet_copy.replace(replace_map_flat_type, inplace=True)\n",
    "\n",
    "\n",
    "initial_parquet_copy['flat_model'] = initial_parquet_copy['flat_model'].str.upper()\n",
    "replace_map_flat_model = {'flat_model':{'MULTI GENERATION': 'MULTI-GENERATION'}}\n",
    "initial_parquet_copy.replace(replace_map_flat_model, inplace=True)\n",
    "\n",
    "for col in object_columns: \n",
    "    print(list(initial_parquet_copy[col].unique()))\n",
    "\n",
    "\n",
    "# Have to encode the storey ranges. \n",
    "# \n"
   ]
  },
  {
   "cell_type": "code",
   "execution_count": 10,
   "metadata": {},
   "outputs": [
    {
     "data": {
      "text/html": [
       "<div>\n",
       "<style scoped>\n",
       "    .dataframe tbody tr th:only-of-type {\n",
       "        vertical-align: middle;\n",
       "    }\n",
       "\n",
       "    .dataframe tbody tr th {\n",
       "        vertical-align: top;\n",
       "    }\n",
       "\n",
       "    .dataframe thead th {\n",
       "        text-align: right;\n",
       "    }\n",
       "</style>\n",
       "<table border=\"1\" class=\"dataframe\">\n",
       "  <thead>\n",
       "    <tr style=\"text-align: right;\">\n",
       "      <th></th>\n",
       "      <th>count</th>\n",
       "      <th>unique</th>\n",
       "      <th>top</th>\n",
       "      <th>freq</th>\n",
       "    </tr>\n",
       "  </thead>\n",
       "  <tbody>\n",
       "    <tr>\n",
       "      <th>town</th>\n",
       "      <td>876863</td>\n",
       "      <td>27</td>\n",
       "      <td>TAMPINES</td>\n",
       "      <td>76707</td>\n",
       "    </tr>\n",
       "    <tr>\n",
       "      <th>flat_type</th>\n",
       "      <td>876863</td>\n",
       "      <td>7</td>\n",
       "      <td>4 ROOM</td>\n",
       "      <td>330559</td>\n",
       "    </tr>\n",
       "    <tr>\n",
       "      <th>storey_range</th>\n",
       "      <td>876863</td>\n",
       "      <td>25</td>\n",
       "      <td>04 TO 06</td>\n",
       "      <td>221067</td>\n",
       "    </tr>\n",
       "  </tbody>\n",
       "</table>\n",
       "</div>"
      ],
      "text/plain": [
       "               count unique       top    freq\n",
       "town          876863     27  TAMPINES   76707\n",
       "flat_type     876863      7    4 ROOM  330559\n",
       "storey_range  876863     25  04 TO 06  221067"
      ]
     },
     "execution_count": 10,
     "metadata": {},
     "output_type": "execute_result"
    }
   ],
   "source": [
    "initial_parquet_copy.describe(include='category').transpose()"
   ]
  },
  {
   "cell_type": "code",
   "execution_count": 11,
   "metadata": {},
   "outputs": [
    {
     "data": {
      "text/plain": [
       "<AxesSubplot:>"
      ]
     },
     "execution_count": 11,
     "metadata": {},
     "output_type": "execute_result"
    },
    {
     "data": {
      "image/png": "[encoded data removed]",
      "text/plain": [
       "<Figure size 432x288 with 1 Axes>"
      ]
     },
     "metadata": {
      "needs_background": "light"
     },
     "output_type": "display_data"
    }
   ],
   "source": [
    "sns.heatmap(initial_parquet_copy.isna(), yticklabels=False, cbar=False,cmap = 'tab20c_r')"
   ]
  },
  {
   "cell_type": "markdown",
   "metadata": {},
   "source": [
    "### Q1. Flat sizes have gone smaller over the years. Verify the claim with the use of data."
   ]
  },
  {
   "cell_type": "code",
   "execution_count": 12,
   "metadata": {},
   "outputs": [
    {
     "data": {
      "text/html": [
       "<div>\n",
       "<style scoped>\n",
       "    .dataframe tbody tr th:only-of-type {\n",
       "        vertical-align: middle;\n",
       "    }\n",
       "\n",
       "    .dataframe tbody tr th {\n",
       "        vertical-align: top;\n",
       "    }\n",
       "\n",
       "    .dataframe thead th {\n",
       "        text-align: right;\n",
       "    }\n",
       "</style>\n",
       "<table border=\"1\" class=\"dataframe\">\n",
       "  <thead>\n",
       "    <tr style=\"text-align: right;\">\n",
       "      <th></th>\n",
       "      <th>lease_commence_date</th>\n",
       "      <th>flat_type</th>\n",
       "      <th>floor_area_sqm</th>\n",
       "    </tr>\n",
       "  </thead>\n",
       "  <tbody>\n",
       "    <tr>\n",
       "      <th>0</th>\n",
       "      <td>1966</td>\n",
       "      <td>1 ROOM</td>\n",
       "      <td>NaN</td>\n",
       "    </tr>\n",
       "    <tr>\n",
       "      <th>1</th>\n",
       "      <td>1966</td>\n",
       "      <td>2 ROOM</td>\n",
       "      <td>NaN</td>\n",
       "    </tr>\n",
       "    <tr>\n",
       "      <th>2</th>\n",
       "      <td>1966</td>\n",
       "      <td>3 ROOM</td>\n",
       "      <td>67.55</td>\n",
       "    </tr>\n",
       "    <tr>\n",
       "      <th>3</th>\n",
       "      <td>1966</td>\n",
       "      <td>4 ROOM</td>\n",
       "      <td>NaN</td>\n",
       "    </tr>\n",
       "    <tr>\n",
       "      <th>4</th>\n",
       "      <td>1966</td>\n",
       "      <td>5 ROOM</td>\n",
       "      <td>NaN</td>\n",
       "    </tr>\n",
       "    <tr>\n",
       "      <th>...</th>\n",
       "      <td>...</td>\n",
       "      <td>...</td>\n",
       "      <td>...</td>\n",
       "    </tr>\n",
       "    <tr>\n",
       "      <th>373</th>\n",
       "      <td>2019</td>\n",
       "      <td>3 ROOM</td>\n",
       "      <td>67.92</td>\n",
       "    </tr>\n",
       "    <tr>\n",
       "      <th>374</th>\n",
       "      <td>2019</td>\n",
       "      <td>4 ROOM</td>\n",
       "      <td>91.18</td>\n",
       "    </tr>\n",
       "    <tr>\n",
       "      <th>375</th>\n",
       "      <td>2019</td>\n",
       "      <td>5 ROOM</td>\n",
       "      <td>113.00</td>\n",
       "    </tr>\n",
       "    <tr>\n",
       "      <th>376</th>\n",
       "      <td>2019</td>\n",
       "      <td>EXECUTIVE</td>\n",
       "      <td>NaN</td>\n",
       "    </tr>\n",
       "    <tr>\n",
       "      <th>377</th>\n",
       "      <td>2019</td>\n",
       "      <td>MULTI-GENERATION</td>\n",
       "      <td>NaN</td>\n",
       "    </tr>\n",
       "  </tbody>\n",
       "</table>\n",
       "<p>378 rows × 3 columns</p>\n",
       "</div>"
      ],
      "text/plain": [
       "    lease_commence_date         flat_type  floor_area_sqm\n",
       "0                  1966            1 ROOM             NaN\n",
       "1                  1966            2 ROOM             NaN\n",
       "2                  1966            3 ROOM           67.55\n",
       "3                  1966            4 ROOM             NaN\n",
       "4                  1966            5 ROOM             NaN\n",
       "..                  ...               ...             ...\n",
       "373                2019            3 ROOM           67.92\n",
       "374                2019            4 ROOM           91.18\n",
       "375                2019            5 ROOM          113.00\n",
       "376                2019         EXECUTIVE             NaN\n",
       "377                2019  MULTI-GENERATION             NaN\n",
       "\n",
       "[378 rows x 3 columns]"
      ]
     },
     "execution_count": 12,
     "metadata": {},
     "output_type": "execute_result"
    }
   ],
   "source": [
    "# Plot the distribution for all the flat types, over the years. \n",
    "# check if the mean of the flatsize for each of the flat size has been decreasing ? \n",
    "\n",
    "# group by flat type and for the particular year. \n",
    "initial_parquet_grouped = round(initial_parquet_copy.groupby(['lease_commence_date', 'flat_type'], as_index=False)['floor_area_sqm'].mean(),2)\n",
    "initial_parquet_grouped\n"
   ]
  },
  {
   "cell_type": "code",
   "execution_count": 13,
   "metadata": {},
   "outputs": [
    {
     "data": {
      "application/vnd.plotly.v1+json": {
       "config": {
        "plotlyServerURL": "https://plot.ly"
       },
       "data": [
        {
         "hovertemplate": "Flat Type=1 ROOM<br>Lease Commence Date=%{x}<br>Flat Size=%{y}<extra></extra>",
         "legendgroup": "1 ROOM",
         "line": {
          "color": "#636efa",
          "dash": "solid"
         },
         "marker": {
          "symbol": "circle"
         },
         "mode": "markers+lines",
         "name": "1 ROOM",
         "orientation": "v",
         "showlegend": true,
         "type": "scatter",
         "x": [
          "1966",
          "1967",
          "1968",
          "1969",
          "1970",
          "1971",
          "1972",
          "1973",
          "1974",
          "1975",
          "1976",
          "1977",
          "1978",
          "1979",
          "1980",
          "1981",
          "1982",
          "1983",
          "1984",
          "1985",
          "1986",
          "1987",
          "1988",
          "1989",
          "1990",
          "1991",
          "1992",
          "1993",
          "1994",
          "1995",
          "1996",
          "1997",
          "1998",
          "1999",
          "2000",
          "2001",
          "2002",
          "2003",
          "2004",
          "2005",
          "2006",
          "2007",
          "2008",
          "2009",
          "2010",
          "2011",
          "2012",
          "2013",
          "2014",
          "2015",
          "2016",
          "2017",
          "2018",
          "2019"
         ],
         "xaxis": "x",
         "y": [
          null,
          null,
          null,
          28.93,
          null,
          null,
          null,
          null,
          null,
          31,
          null,
          31,
          null,
          null,
          null,
          null,
          null,
          null,
          null,
          null,
          null,
          null,
          null,
          null,
          null,
          null,
          null,
          null,
          null,
          null,
          null,
          null,
          null,
          null,
          null,
          null,
          null,
          null,
          null,
          null,
          null,
          null,
          null,
          null,
          null,
          null,
          null,
          null,
          null,
          null,
          null,
          null,
          null,
          null
         ],
         "yaxis": "y"
        },
        {
         "hovertemplate": "Flat Type=2 ROOM<br>Lease Commence Date=%{x}<br>Flat Size=%{y}<extra></extra>",
         "legendgroup": "2 ROOM",
         "line": {
          "color": "#EF553B",
          "dash": "solid"
         },
         "marker": {
          "symbol": "circle"
         },
         "mode": "markers+lines",
         "name": "2 ROOM",
         "orientation": "v",
         "showlegend": true,
         "type": "scatter",
         "x": [
          "1966",
          "1967",
          "1968",
          "1969",
          "1970",
          "1971",
          "1972",
          "1973",
          "1974",
          "1975",
          "1976",
          "1977",
          "1978",
          "1979",
          "1980",
          "1981",
          "1982",
          "1983",
          "1984",
          "1985",
          "1986",
          "1987",
          "1988",
          "1989",
          "1990",
          "1991",
          "1992",
          "1993",
          "1994",
          "1995",
          "1996",
          "1997",
          "1998",
          "1999",
          "2000",
          "2001",
          "2002",
          "2003",
          "2004",
          "2005",
          "2006",
          "2007",
          "2008",
          "2009",
          "2010",
          "2011",
          "2012",
          "2013",
          "2014",
          "2015",
          "2016",
          "2017",
          "2018",
          "2019"
         ],
         "xaxis": "x",
         "y": [
          null,
          45.76,
          44.95,
          43.27,
          46.85,
          44.99,
          40.61,
          46.51,
          39.55,
          42.3,
          45.27,
          44.47,
          44.18,
          44.18,
          44,
          44,
          54.6,
          47.1,
          45,
          45,
          45.18,
          null,
          null,
          null,
          null,
          null,
          null,
          null,
          55.36,
          null,
          null,
          null,
          null,
          null,
          40,
          null,
          null,
          null,
          null,
          null,
          null,
          44.4,
          51.68,
          null,
          null,
          43.3,
          47.92,
          47.61,
          46,
          46.6,
          47,
          47,
          43.41,
          47
         ],
         "yaxis": "y"
        },
        {
         "hovertemplate": "Flat Type=3 ROOM<br>Lease Commence Date=%{x}<br>Flat Size=%{y}<extra></extra>",
         "legendgroup": "3 ROOM",
         "line": {
          "color": "#00cc96",
          "dash": "solid"
         },
         "marker": {
          "symbol": "circle"
         },
         "mode": "markers+lines",
         "name": "3 ROOM",
         "orientation": "v",
         "showlegend": true,
         "type": "scatter",
         "x": [
          "1966",
          "1967",
          "1968",
          "1969",
          "1970",
          "1971",
          "1972",
          "1973",
          "1974",
          "1975",
          "1976",
          "1977",
          "1978",
          "1979",
          "1980",
          "1981",
          "1982",
          "1983",
          "1984",
          "1985",
          "1986",
          "1987",
          "1988",
          "1989",
          "1990",
          "1991",
          "1992",
          "1993",
          "1994",
          "1995",
          "1996",
          "1997",
          "1998",
          "1999",
          "2000",
          "2001",
          "2002",
          "2003",
          "2004",
          "2005",
          "2006",
          "2007",
          "2008",
          "2009",
          "2010",
          "2011",
          "2012",
          "2013",
          "2014",
          "2015",
          "2016",
          "2017",
          "2018",
          "2019"
         ],
         "xaxis": "x",
         "y": [
          67.55,
          61.06,
          64.41,
          58.83,
          64.55,
          61.38,
          72.45,
          65.22,
          65.42,
          64.94,
          66.36,
          68.5,
          69.48,
          70.24,
          70.62,
          69.32,
          70.1,
          69.67,
          72.01,
          68.8,
          66.51,
          68.98,
          70.05,
          72.03,
          72.97,
          null,
          64.44,
          73.93,
          72.18,
          68.75,
          null,
          null,
          68.48,
          62.14,
          63.82,
          null,
          60,
          60.57,
          62,
          null,
          60,
          67.57,
          60,
          60,
          67.51,
          68.86,
          68.37,
          68.25,
          66.31,
          66.98,
          67.1,
          67.87,
          67.63,
          67.92
         ],
         "yaxis": "y"
        },
        {
         "hovertemplate": "Flat Type=4 ROOM<br>Lease Commence Date=%{x}<br>Flat Size=%{y}<extra></extra>",
         "legendgroup": "4 ROOM",
         "line": {
          "color": "#ab63fa",
          "dash": "solid"
         },
         "marker": {
          "symbol": "circle"
         },
         "mode": "markers+lines",
         "name": "4 ROOM",
         "orientation": "v",
         "showlegend": true,
         "type": "scatter",
         "x": [
          "1966",
          "1967",
          "1968",
          "1969",
          "1970",
          "1971",
          "1972",
          "1973",
          "1974",
          "1975",
          "1976",
          "1977",
          "1978",
          "1979",
          "1980",
          "1981",
          "1982",
          "1983",
          "1984",
          "1985",
          "1986",
          "1987",
          "1988",
          "1989",
          "1990",
          "1991",
          "1992",
          "1993",
          "1994",
          "1995",
          "1996",
          "1997",
          "1998",
          "1999",
          "2000",
          "2001",
          "2002",
          "2003",
          "2004",
          "2005",
          "2006",
          "2007",
          "2008",
          "2009",
          "2010",
          "2011",
          "2012",
          "2013",
          "2014",
          "2015",
          "2016",
          "2017",
          "2018",
          "2019"
         ],
         "xaxis": "x",
         "y": [
          null,
          124.48,
          113.97,
          116.1,
          79.96,
          92.71,
          82.2,
          87.2,
          87.29,
          85.29,
          86,
          89.75,
          92.55,
          92.38,
          91.9,
          93.14,
          94.65,
          100.92,
          101.55,
          94.89,
          90.83,
          90.84,
          97.83,
          104.19,
          105.38,
          105.22,
          105.24,
          104.42,
          99.45,
          107.48,
          104.88,
          100.34,
          99.96,
          100.46,
          95.46,
          92.07,
          89.78,
          89.76,
          90.42,
          92.48,
          90.35,
          91.42,
          90.58,
          88.94,
          94.03,
          93.78,
          93.21,
          93.6,
          90.81,
          92.21,
          91.93,
          92.68,
          92.72,
          91.18
         ],
         "yaxis": "y"
        },
        {
         "hovertemplate": "Flat Type=5 ROOM<br>Lease Commence Date=%{x}<br>Flat Size=%{y}<extra></extra>",
         "legendgroup": "5 ROOM",
         "line": {
          "color": "#FFA15A",
          "dash": "solid"
         },
         "marker": {
          "symbol": "circle"
         },
         "mode": "markers+lines",
         "name": "5 ROOM",
         "orientation": "v",
         "showlegend": true,
         "type": "scatter",
         "x": [
          "1966",
          "1967",
          "1968",
          "1969",
          "1970",
          "1971",
          "1972",
          "1973",
          "1974",
          "1975",
          "1976",
          "1977",
          "1978",
          "1979",
          "1980",
          "1981",
          "1982",
          "1983",
          "1984",
          "1985",
          "1986",
          "1987",
          "1988",
          "1989",
          "1990",
          "1991",
          "1992",
          "1993",
          "1994",
          "1995",
          "1996",
          "1997",
          "1998",
          "1999",
          "2000",
          "2001",
          "2002",
          "2003",
          "2004",
          "2005",
          "2006",
          "2007",
          "2008",
          "2009",
          "2010",
          "2011",
          "2012",
          "2013",
          "2014",
          "2015",
          "2016",
          "2017",
          "2018",
          "2019"
         ],
         "xaxis": "x",
         "y": [
          null,
          130,
          130,
          136,
          134.39,
          134,
          138.97,
          137,
          119.68,
          120.4,
          119.1,
          119.9,
          120.14,
          118.1,
          120.59,
          119.65,
          121.67,
          127.27,
          132.54,
          126.75,
          122.76,
          121.86,
          123.06,
          123.13,
          122.69,
          122.31,
          125.52,
          126.76,
          128.51,
          127.97,
          126.38,
          120.8,
          121.48,
          120.56,
          114.79,
          111.3,
          110.45,
          110.64,
          111.22,
          111.75,
          111.03,
          115,
          110.21,
          110.21,
          112.43,
          111.93,
          116.34,
          114.44,
          109.77,
          112.25,
          112.35,
          112.74,
          113.15,
          113
         ],
         "yaxis": "y"
        },
        {
         "hovertemplate": "Flat Type=EXECUTIVE<br>Lease Commence Date=%{x}<br>Flat Size=%{y}<extra></extra>",
         "legendgroup": "EXECUTIVE",
         "line": {
          "color": "#19d3f3",
          "dash": "solid"
         },
         "marker": {
          "symbol": "circle"
         },
         "mode": "markers+lines",
         "name": "EXECUTIVE",
         "orientation": "v",
         "showlegend": true,
         "type": "scatter",
         "x": [
          "1966",
          "1967",
          "1968",
          "1969",
          "1970",
          "1971",
          "1972",
          "1973",
          "1974",
          "1975",
          "1976",
          "1977",
          "1978",
          "1979",
          "1980",
          "1981",
          "1982",
          "1983",
          "1984",
          "1985",
          "1986",
          "1987",
          "1988",
          "1989",
          "1990",
          "1991",
          "1992",
          "1993",
          "1994",
          "1995",
          "1996",
          "1997",
          "1998",
          "1999",
          "2000",
          "2001",
          "2002",
          "2003",
          "2004",
          "2005",
          "2006",
          "2007",
          "2008",
          "2009",
          "2010",
          "2011",
          "2012",
          "2013",
          "2014",
          "2015",
          "2016",
          "2017",
          "2018",
          "2019"
         ],
         "xaxis": "x",
         "y": [
          null,
          null,
          null,
          null,
          null,
          null,
          null,
          null,
          null,
          null,
          null,
          159.77,
          162.71,
          164.45,
          162.72,
          161.18,
          155.25,
          155.82,
          150.01,
          149.22,
          147.77,
          146.28,
          146.02,
          147.21,
          154.15,
          147.53,
          148.62,
          147.33,
          163.37,
          155.62,
          145.58,
          142.32,
          142.94,
          140.76,
          133.72,
          131.66,
          127.51,
          127.3,
          128,
          null,
          null,
          null,
          null,
          null,
          null,
          null,
          null,
          null,
          null,
          null,
          null,
          null,
          null,
          null
         ],
         "yaxis": "y"
        },
        {
         "hovertemplate": "Flat Type=MULTI-GENERATION<br>Lease Commence Date=%{x}<br>Flat Size=%{y}<extra></extra>",
         "legendgroup": "MULTI-GENERATION",
         "line": {
          "color": "#FF6692",
          "dash": "solid"
         },
         "marker": {
          "symbol": "circle"
         },
         "mode": "markers+lines",
         "name": "MULTI-GENERATION",
         "orientation": "v",
         "showlegend": true,
         "type": "scatter",
         "x": [
          "1966",
          "1967",
          "1968",
          "1969",
          "1970",
          "1971",
          "1972",
          "1973",
          "1974",
          "1975",
          "1976",
          "1977",
          "1978",
          "1979",
          "1980",
          "1981",
          "1982",
          "1983",
          "1984",
          "1985",
          "1986",
          "1987",
          "1988",
          "1989",
          "1990",
          "1991",
          "1992",
          "1993",
          "1994",
          "1995",
          "1996",
          "1997",
          "1998",
          "1999",
          "2000",
          "2001",
          "2002",
          "2003",
          "2004",
          "2005",
          "2006",
          "2007",
          "2008",
          "2009",
          "2010",
          "2011",
          "2012",
          "2013",
          "2014",
          "2015",
          "2016",
          "2017",
          "2018",
          "2019"
         ],
         "xaxis": "x",
         "y": [
          null,
          null,
          null,
          null,
          null,
          null,
          null,
          null,
          null,
          null,
          null,
          null,
          null,
          null,
          null,
          null,
          null,
          null,
          null,
          null,
          null,
          161.9,
          157.74,
          null,
          null,
          null,
          null,
          null,
          null,
          null,
          null,
          null,
          null,
          null,
          null,
          null,
          null,
          null,
          null,
          null,
          null,
          null,
          null,
          null,
          null,
          null,
          null,
          null,
          null,
          null,
          null,
          null,
          null,
          null
         ],
         "yaxis": "y"
        }
       ],
       "layout": {
        "legend": {
         "title": {
          "text": "Flat Type"
         },
         "tracegroupgap": 0
        },
        "template": {
         "data": {
          "bar": [
           {
            "error_x": {
             "color": "#2a3f5f"
            },
            "error_y": {
             "color": "#2a3f5f"
            },
            "marker": {
             "line": {
              "color": "#E5ECF6",
              "width": 0.5
             },
             "pattern": {
              "fillmode": "overlay",
              "size": 10,
              "solidity": 0.2
             }
            },
            "type": "bar"
           }
          ],
          "barpolar": [
           {
            "marker": {
             "line": {
              "color": "#E5ECF6",
              "width": 0.5
             },
             "pattern": {
              "fillmode": "overlay",
              "size": 10,
              "solidity": 0.2
             }
            },
            "type": "barpolar"
           }
          ],
          "carpet": [
           {
            "aaxis": {
             "endlinecolor": "#2a3f5f",
             "gridcolor": "white",
             "linecolor": "white",
             "minorgridcolor": "white",
             "startlinecolor": "#2a3f5f"
            },
            "baxis": {
             "endlinecolor": "#2a3f5f",
             "gridcolor": "white",
             "linecolor": "white",
             "minorgridcolor": "white",
             "startlinecolor": "#2a3f5f"
            },
            "type": "carpet"
           }
          ],
          "choropleth": [
           {
            "colorbar": {
             "outlinewidth": 0,
             "ticks": ""
            },
            "type": "choropleth"
           }
          ],
          "contour": [
           {
            "colorbar": {
             "outlinewidth": 0,
             "ticks": ""
            },
            "colorscale": [
             [
              0,
              "#0d0887"
             ],
             [
              0.1111111111111111,
              "#46039f"
             ],
             [
              0.2222222222222222,
              "#7201a8"
             ],
             [
              0.3333333333333333,
              "#9c179e"
             ],
             [
              0.4444444444444444,
              "#bd3786"
             ],
             [
              0.5555555555555556,
              "#d8576b"
             ],
             [
              0.6666666666666666,
              "#ed7953"
             ],
             [
              0.7777777777777778,
              "#fb9f3a"
             ],
             [
              0.8888888888888888,
              "#fdca26"
             ],
             [
              1,
              "#f0f921"
             ]
            ],
            "type": "contour"
           }
          ],
          "contourcarpet": [
           {
            "colorbar": {
             "outlinewidth": 0,
             "ticks": ""
            },
            "type": "contourcarpet"
           }
          ],
          "heatmap": [
           {
            "colorbar": {
             "outlinewidth": 0,
             "ticks": ""
            },
            "colorscale": [
             [
              0,
              "#0d0887"
             ],
             [
              0.1111111111111111,
              "#46039f"
             ],
             [
              0.2222222222222222,
              "#7201a8"
             ],
             [
              0.3333333333333333,
              "#9c179e"
             ],
             [
              0.4444444444444444,
              "#bd3786"
             ],
             [
              0.5555555555555556,
              "#d8576b"
             ],
             [
              0.6666666666666666,
              "#ed7953"
             ],
             [
              0.7777777777777778,
              "#fb9f3a"
             ],
             [
              0.8888888888888888,
              "#fdca26"
             ],
             [
              1,
              "#f0f921"
             ]
            ],
            "type": "heatmap"
           }
          ],
          "heatmapgl": [
           {
            "colorbar": {
             "outlinewidth": 0,
             "ticks": ""
            },
            "colorscale": [
             [
              0,
              "#0d0887"
             ],
             [
              0.1111111111111111,
              "#46039f"
             ],
             [
              0.2222222222222222,
              "#7201a8"
             ],
             [
              0.3333333333333333,
              "#9c179e"
             ],
             [
              0.4444444444444444,
              "#bd3786"
             ],
             [
              0.5555555555555556,
              "#d8576b"
             ],
             [
              0.6666666666666666,
              "#ed7953"
             ],
             [
              0.7777777777777778,
              "#fb9f3a"
             ],
             [
              0.8888888888888888,
              "#fdca26"
             ],
             [
              1,
              "#f0f921"
             ]
            ],
            "type": "heatmapgl"
           }
          ],
          "histogram": [
           {
            "marker": {
             "pattern": {
              "fillmode": "overlay",
              "size": 10,
              "solidity": 0.2
             }
            },
            "type": "histogram"
           }
          ],
          "histogram2d": [
           {
            "colorbar": {
             "outlinewidth": 0,
             "ticks": ""
            },
            "colorscale": [
             [
              0,
              "#0d0887"
             ],
             [
              0.1111111111111111,
              "#46039f"
             ],
             [
              0.2222222222222222,
              "#7201a8"
             ],
             [
              0.3333333333333333,
              "#9c179e"
             ],
             [
              0.4444444444444444,
              "#bd3786"
             ],
             [
              0.5555555555555556,
              "#d8576b"
             ],
             [
              0.6666666666666666,
              "#ed7953"
             ],
             [
              0.7777777777777778,
              "#fb9f3a"
             ],
             [
              0.8888888888888888,
              "#fdca26"
             ],
             [
              1,
              "#f0f921"
             ]
            ],
            "type": "histogram2d"
           }
          ],
          "histogram2dcontour": [
           {
            "colorbar": {
             "outlinewidth": 0,
             "ticks": ""
            },
            "colorscale": [
             [
              0,
              "#0d0887"
             ],
             [
              0.1111111111111111,
              "#46039f"
             ],
             [
              0.2222222222222222,
              "#7201a8"
             ],
             [
              0.3333333333333333,
              "#9c179e"
             ],
             [
              0.4444444444444444,
              "#bd3786"
             ],
             [
              0.5555555555555556,
              "#d8576b"
             ],
             [
              0.6666666666666666,
              "#ed7953"
             ],
             [
              0.7777777777777778,
              "#fb9f3a"
             ],
             [
              0.8888888888888888,
              "#fdca26"
             ],
             [
              1,
              "#f0f921"
             ]
            ],
            "type": "histogram2dcontour"
           }
          ],
          "mesh3d": [
           {
            "colorbar": {
             "outlinewidth": 0,
             "ticks": ""
            },
            "type": "mesh3d"
           }
          ],
          "parcoords": [
           {
            "line": {
             "colorbar": {
              "outlinewidth": 0,
              "ticks": ""
             }
            },
            "type": "parcoords"
           }
          ],
          "pie": [
           {
            "automargin": true,
            "type": "pie"
           }
          ],
          "scatter": [
           {
            "fillpattern": {
             "fillmode": "overlay",
             "size": 10,
             "solidity": 0.2
            },
            "type": "scatter"
           }
          ],
          "scatter3d": [
           {
            "line": {
             "colorbar": {
              "outlinewidth": 0,
              "ticks": ""
             }
            },
            "marker": {
             "colorbar": {
              "outlinewidth": 0,
              "ticks": ""
             }
            },
            "type": "scatter3d"
           }
          ],
          "scattercarpet": [
           {
            "marker": {
             "colorbar": {
              "outlinewidth": 0,
              "ticks": ""
             }
            },
            "type": "scattercarpet"
           }
          ],
          "scattergeo": [
           {
            "marker": {
             "colorbar": {
              "outlinewidth": 0,
              "ticks": ""
             }
            },
            "type": "scattergeo"
           }
          ],
          "scattergl": [
           {
            "marker": {
             "colorbar": {
              "outlinewidth": 0,
              "ticks": ""
             }
            },
            "type": "scattergl"
           }
          ],
          "scattermapbox": [
           {
            "marker": {
             "colorbar": {
              "outlinewidth": 0,
              "ticks": ""
             }
            },
            "type": "scattermapbox"
           }
          ],
          "scatterpolar": [
           {
            "marker": {
             "colorbar": {
              "outlinewidth": 0,
              "ticks": ""
             }
            },
            "type": "scatterpolar"
           }
          ],
          "scatterpolargl": [
           {
            "marker": {
             "colorbar": {
              "outlinewidth": 0,
              "ticks": ""
             }
            },
            "type": "scatterpolargl"
           }
          ],
          "scatterternary": [
           {
            "marker": {
             "colorbar": {
              "outlinewidth": 0,
              "ticks": ""
             }
            },
            "type": "scatterternary"
           }
          ],
          "surface": [
           {
            "colorbar": {
             "outlinewidth": 0,
             "ticks": ""
            },
            "colorscale": [
             [
              0,
              "#0d0887"
             ],
             [
              0.1111111111111111,
              "#46039f"
             ],
             [
              0.2222222222222222,
              "#7201a8"
             ],
             [
              0.3333333333333333,
              "#9c179e"
             ],
             [
              0.4444444444444444,
              "#bd3786"
             ],
             [
              0.5555555555555556,
              "#d8576b"
             ],
             [
              0.6666666666666666,
              "#ed7953"
             ],
             [
              0.7777777777777778,
              "#fb9f3a"
             ],
             [
              0.8888888888888888,
              "#fdca26"
             ],
             [
              1,
              "#f0f921"
             ]
            ],
            "type": "surface"
           }
          ],
          "table": [
           {
            "cells": {
             "fill": {
              "color": "#EBF0F8"
             },
             "line": {
              "color": "white"
             }
            },
            "header": {
             "fill": {
              "color": "#C8D4E3"
             },
             "line": {
              "color": "white"
             }
            },
            "type": "table"
           }
          ]
         },
         "layout": {
          "annotationdefaults": {
           "arrowcolor": "#2a3f5f",
           "arrowhead": 0,
           "arrowwidth": 1
          },
          "autotypenumbers": "strict",
          "coloraxis": {
           "colorbar": {
            "outlinewidth": 0,
            "ticks": ""
           }
          },
          "colorscale": {
           "diverging": [
            [
             0,
             "#8e0152"
            ],
            [
             0.1,
             "#c51b7d"
            ],
            [
             0.2,
             "#de77ae"
            ],
            [
             0.3,
             "#f1b6da"
            ],
            [
             0.4,
             "#fde0ef"
            ],
            [
             0.5,
             "#f7f7f7"
            ],
            [
             0.6,
             "#e6f5d0"
            ],
            [
             0.7,
             "#b8e186"
            ],
            [
             0.8,
             "#7fbc41"
            ],
            [
             0.9,
             "#4d9221"
            ],
            [
             1,
             "#276419"
            ]
           ],
           "sequential": [
            [
             0,
             "#0d0887"
            ],
            [
             0.1111111111111111,
             "#46039f"
            ],
            [
             0.2222222222222222,
             "#7201a8"
            ],
            [
             0.3333333333333333,
             "#9c179e"
            ],
            [
             0.4444444444444444,
             "#bd3786"
            ],
            [
             0.5555555555555556,
             "#d8576b"
            ],
            [
             0.6666666666666666,
             "#ed7953"
            ],
            [
             0.7777777777777778,
             "#fb9f3a"
            ],
            [
             0.8888888888888888,
             "#fdca26"
            ],
            [
             1,
             "#f0f921"
            ]
           ],
           "sequentialminus": [
            [
             0,
             "#0d0887"
            ],
            [
             0.1111111111111111,
             "#46039f"
            ],
            [
             0.2222222222222222,
             "#7201a8"
            ],
            [
             0.3333333333333333,
             "#9c179e"
            ],
            [
             0.4444444444444444,
             "#bd3786"
            ],
            [
             0.5555555555555556,
             "#d8576b"
            ],
            [
             0.6666666666666666,
             "#ed7953"
            ],
            [
             0.7777777777777778,
             "#fb9f3a"
            ],
            [
             0.8888888888888888,
             "#fdca26"
            ],
            [
             1,
             "#f0f921"
            ]
           ]
          },
          "colorway": [
           "#636efa",
           "#EF553B",
           "#00cc96",
           "#ab63fa",
           "#FFA15A",
           "#19d3f3",
           "#FF6692",
           "#B6E880",
           "#FF97FF",
           "#FECB52"
          ],
          "font": {
           "color": "#2a3f5f"
          },
          "geo": {
           "bgcolor": "white",
           "lakecolor": "white",
           "landcolor": "#E5ECF6",
           "showlakes": true,
           "showland": true,
           "subunitcolor": "white"
          },
          "hoverlabel": {
           "align": "left"
          },
          "hovermode": "closest",
          "mapbox": {
           "style": "light"
          },
          "paper_bgcolor": "white",
          "plot_bgcolor": "#E5ECF6",
          "polar": {
           "angularaxis": {
            "gridcolor": "white",
            "linecolor": "white",
            "ticks": ""
           },
           "bgcolor": "#E5ECF6",
           "radialaxis": {
            "gridcolor": "white",
            "linecolor": "white",
            "ticks": ""
           }
          },
          "scene": {
           "xaxis": {
            "backgroundcolor": "#E5ECF6",
            "gridcolor": "white",
            "gridwidth": 2,
            "linecolor": "white",
            "showbackground": true,
            "ticks": "",
            "zerolinecolor": "white"
           },
           "yaxis": {
            "backgroundcolor": "#E5ECF6",
            "gridcolor": "white",
            "gridwidth": 2,
            "linecolor": "white",
            "showbackground": true,
            "ticks": "",
            "zerolinecolor": "white"
           },
           "zaxis": {
            "backgroundcolor": "#E5ECF6",
            "gridcolor": "white",
            "gridwidth": 2,
            "linecolor": "white",
            "showbackground": true,
            "ticks": "",
            "zerolinecolor": "white"
           }
          },
          "shapedefaults": {
           "line": {
            "color": "#2a3f5f"
           }
          },
          "ternary": {
           "aaxis": {
            "gridcolor": "white",
            "linecolor": "white",
            "ticks": ""
           },
           "baxis": {
            "gridcolor": "white",
            "linecolor": "white",
            "ticks": ""
           },
           "bgcolor": "#E5ECF6",
           "caxis": {
            "gridcolor": "white",
            "linecolor": "white",
            "ticks": ""
           }
          },
          "title": {
           "x": 0.05
          },
          "xaxis": {
           "automargin": true,
           "gridcolor": "white",
           "linecolor": "white",
           "ticks": "",
           "title": {
            "standoff": 15
           },
           "zerolinecolor": "white",
           "zerolinewidth": 2
          },
          "yaxis": {
           "automargin": true,
           "gridcolor": "white",
           "linecolor": "white",
           "ticks": "",
           "title": {
            "standoff": 15
           },
           "zerolinecolor": "white",
           "zerolinewidth": 2
          }
         }
        },
        "title": {
         "text": "Flat Size over the years"
        },
        "xaxis": {
         "anchor": "y",
         "domain": [
          0,
          1
         ],
         "title": {
          "text": "Lease Commence Date"
         }
        },
        "yaxis": {
         "anchor": "x",
         "domain": [
          0,
          1
         ],
         "title": {
          "text": "Flat Size"
         }
        }
       }
      }
     },
     "metadata": {},
     "output_type": "display_data"
    },
    {
     "data": {
      "text/plain": [
       "<Figure size 1440x720 with 0 Axes>"
      ]
     },
     "metadata": {},
     "output_type": "display_data"
    }
   ],
   "source": [
    "\n",
    "plt.figure(figsize=(20,10))\n",
    "# plt.xticks(rotation=90, fontsize=15)\n",
    "# plt.yticks(fontsize=15)\n",
    "# plt.xlabel('Lease Commence Date', fontsize=20)\n",
    "# plt.ylabel('Floor Area (sqm)', fontsize=20)\n",
    "px.line(x='lease_commence_date', y='floor_area_sqm', color='flat_type', data_frame = initial_parquet_grouped, markers=True,\n",
    "            labels={\n",
    "                                \"lease_commence_date\": \"Lease Commence Date\",\n",
    "                                \"floor_area_sqm\": \"Flat Size\",\n",
    "                                \"flat_type\": \"Flat Type\"\n",
    "                            },\n",
    "                            title=\"Flat Size over the years\")\n"
   ]
  },
  {
   "cell_type": "markdown",
   "metadata": {},
   "source": [
    "1. Huge drop in the flat size area since 1996 (mid-1990s). \n",
    "2. 2009 -> 2010 : there was an increase in the area of the flat size. \n",
    "3. There is no siginicant decline in the flat size since 2012 to 2019. \n",
    "4. 1-room and Multi-generation flats are less common nowadays. "
   ]
  },
  {
   "cell_type": "markdown",
   "metadata": {},
   "source": [
    "### Q2. using DID, check if the emergence of Downtown Railway Line (DTL) from 2007-2015, led to an increase in the prices around the vicinity areas (Bukit Timah, Bukit Panjang and Bukit Batok) of the train line. "
   ]
  },
  {
   "cell_type": "code",
   "execution_count": 51,
   "metadata": {},
   "outputs": [
    {
     "data": {
      "text/html": [
       "<div>\n",
       "<style scoped>\n",
       "    .dataframe tbody tr th:only-of-type {\n",
       "        vertical-align: middle;\n",
       "    }\n",
       "\n",
       "    .dataframe tbody tr th {\n",
       "        vertical-align: top;\n",
       "    }\n",
       "\n",
       "    .dataframe thead th {\n",
       "        text-align: right;\n",
       "    }\n",
       "</style>\n",
       "<table border=\"1\" class=\"dataframe\">\n",
       "  <thead>\n",
       "    <tr style=\"text-align: right;\">\n",
       "      <th></th>\n",
       "      <th>month</th>\n",
       "      <th>town</th>\n",
       "      <th>flat_type</th>\n",
       "      <th>block</th>\n",
       "      <th>street_name</th>\n",
       "      <th>storey_range</th>\n",
       "      <th>floor_area_sqm</th>\n",
       "      <th>flat_model</th>\n",
       "      <th>lease_commence_date</th>\n",
       "      <th>remaining_lease</th>\n",
       "      <th>resale_price</th>\n",
       "      <th>_id</th>\n",
       "      <th>month_year</th>\n",
       "      <th>resale_year</th>\n",
       "      <th>resale_month</th>\n",
       "      <th>dtl_year</th>\n",
       "      <th>dtl_town</th>\n",
       "      <th>dtl_town_year</th>\n",
       "      <th>psf</th>\n",
       "    </tr>\n",
       "  </thead>\n",
       "  <tbody>\n",
       "    <tr>\n",
       "      <th>104</th>\n",
       "      <td>1990-01</td>\n",
       "      <td>ANG MO KIO</td>\n",
       "      <td>4 ROOM</td>\n",
       "      <td>211</td>\n",
       "      <td>ANG MO KIO AVE 3</td>\n",
       "      <td>04 TO 06</td>\n",
       "      <td>81.0</td>\n",
       "      <td>NEW GENERATION</td>\n",
       "      <td>1977</td>\n",
       "      <td>None</td>\n",
       "      <td>80000.0</td>\n",
       "      <td>105.0</td>\n",
       "      <td>1990-01-01</td>\n",
       "      <td>1990</td>\n",
       "      <td>1</td>\n",
       "      <td>0</td>\n",
       "      <td>0</td>\n",
       "      <td>0</td>\n",
       "      <td>987.654321</td>\n",
       "    </tr>\n",
       "    <tr>\n",
       "      <th>105</th>\n",
       "      <td>1990-01</td>\n",
       "      <td>ANG MO KIO</td>\n",
       "      <td>4 ROOM</td>\n",
       "      <td>209</td>\n",
       "      <td>ANG MO KIO AVE 3</td>\n",
       "      <td>07 TO 09</td>\n",
       "      <td>91.0</td>\n",
       "      <td>NEW GENERATION</td>\n",
       "      <td>1977</td>\n",
       "      <td>None</td>\n",
       "      <td>72000.0</td>\n",
       "      <td>106.0</td>\n",
       "      <td>1990-01-01</td>\n",
       "      <td>1990</td>\n",
       "      <td>1</td>\n",
       "      <td>0</td>\n",
       "      <td>0</td>\n",
       "      <td>0</td>\n",
       "      <td>791.208791</td>\n",
       "    </tr>\n",
       "    <tr>\n",
       "      <th>106</th>\n",
       "      <td>1990-01</td>\n",
       "      <td>ANG MO KIO</td>\n",
       "      <td>4 ROOM</td>\n",
       "      <td>231</td>\n",
       "      <td>ANG MO KIO AVE 3</td>\n",
       "      <td>04 TO 06</td>\n",
       "      <td>92.0</td>\n",
       "      <td>NEW GENERATION</td>\n",
       "      <td>1977</td>\n",
       "      <td>None</td>\n",
       "      <td>72000.0</td>\n",
       "      <td>107.0</td>\n",
       "      <td>1990-01-01</td>\n",
       "      <td>1990</td>\n",
       "      <td>1</td>\n",
       "      <td>0</td>\n",
       "      <td>0</td>\n",
       "      <td>0</td>\n",
       "      <td>782.608696</td>\n",
       "    </tr>\n",
       "    <tr>\n",
       "      <th>107</th>\n",
       "      <td>1990-01</td>\n",
       "      <td>ANG MO KIO</td>\n",
       "      <td>4 ROOM</td>\n",
       "      <td>308</td>\n",
       "      <td>ANG MO KIO AVE 1</td>\n",
       "      <td>10 TO 12</td>\n",
       "      <td>92.0</td>\n",
       "      <td>NEW GENERATION</td>\n",
       "      <td>1976</td>\n",
       "      <td>None</td>\n",
       "      <td>86000.0</td>\n",
       "      <td>108.0</td>\n",
       "      <td>1990-01-01</td>\n",
       "      <td>1990</td>\n",
       "      <td>1</td>\n",
       "      <td>0</td>\n",
       "      <td>0</td>\n",
       "      <td>0</td>\n",
       "      <td>934.782609</td>\n",
       "    </tr>\n",
       "    <tr>\n",
       "      <th>108</th>\n",
       "      <td>1990-01</td>\n",
       "      <td>ANG MO KIO</td>\n",
       "      <td>4 ROOM</td>\n",
       "      <td>254</td>\n",
       "      <td>ANG MO KIO AVE 4</td>\n",
       "      <td>10 TO 12</td>\n",
       "      <td>97.0</td>\n",
       "      <td>NEW GENERATION</td>\n",
       "      <td>1977</td>\n",
       "      <td>None</td>\n",
       "      <td>72000.0</td>\n",
       "      <td>109.0</td>\n",
       "      <td>1990-01-01</td>\n",
       "      <td>1990</td>\n",
       "      <td>1</td>\n",
       "      <td>0</td>\n",
       "      <td>0</td>\n",
       "      <td>0</td>\n",
       "      <td>742.268041</td>\n",
       "    </tr>\n",
       "  </tbody>\n",
       "</table>\n",
       "</div>"
      ],
      "text/plain": [
       "       month        town flat_type block       street_name storey_range  \\\n",
       "104  1990-01  ANG MO KIO    4 ROOM   211  ANG MO KIO AVE 3     04 TO 06   \n",
       "105  1990-01  ANG MO KIO    4 ROOM   209  ANG MO KIO AVE 3     07 TO 09   \n",
       "106  1990-01  ANG MO KIO    4 ROOM   231  ANG MO KIO AVE 3     04 TO 06   \n",
       "107  1990-01  ANG MO KIO    4 ROOM   308  ANG MO KIO AVE 1     10 TO 12   \n",
       "108  1990-01  ANG MO KIO    4 ROOM   254  ANG MO KIO AVE 4     10 TO 12   \n",
       "\n",
       "     floor_area_sqm      flat_model lease_commence_date remaining_lease  \\\n",
       "104            81.0  NEW GENERATION                1977            None   \n",
       "105            91.0  NEW GENERATION                1977            None   \n",
       "106            92.0  NEW GENERATION                1977            None   \n",
       "107            92.0  NEW GENERATION                1976            None   \n",
       "108            97.0  NEW GENERATION                1977            None   \n",
       "\n",
       "     resale_price    _id month_year  resale_year  resale_month  dtl_year  \\\n",
       "104       80000.0  105.0 1990-01-01         1990             1         0   \n",
       "105       72000.0  106.0 1990-01-01         1990             1         0   \n",
       "106       72000.0  107.0 1990-01-01         1990             1         0   \n",
       "107       86000.0  108.0 1990-01-01         1990             1         0   \n",
       "108       72000.0  109.0 1990-01-01         1990             1         0   \n",
       "\n",
       "     dtl_town  dtl_town_year         psf  \n",
       "104         0              0  987.654321  \n",
       "105         0              0  791.208791  \n",
       "106         0              0  782.608696  \n",
       "107         0              0  934.782609  \n",
       "108         0              0  742.268041  "
      ]
     },
     "execution_count": 51,
     "metadata": {},
     "output_type": "execute_result"
    }
   ],
   "source": [
    "# DTL Stage 2 stations: Cashew, Hillview, Beauty World, King Albert Park, Sixth Avenie, Tan Kah Kee \n",
    "# DTL Stage 2 areas: Bukit Batok, Bukit Panjang, Bukit Timah. \n",
    "\n",
    "def dtl_year(row):\n",
    "    if row['resale_year'] >= 2008 and row['resale_year'] <= 2015:\n",
    "        return 1\n",
    "    else:\n",
    "        return 0 \n",
    "\n",
    "def dtl_town(row):\n",
    "    if row['town'] =='BUKIT PANJANG' or row['town'] =='BUKIT TIMAH' or row['town'] =='BUKIT BATOK':\n",
    "        return 1 \n",
    "    else: \n",
    "        return 0 \n",
    "\n",
    "    \n",
    "initial_parquet_copy_test = initial_parquet_copy.copy()\n",
    "\n",
    "# Features for DID Regression\n",
    "initial_parquet_copy_test['dtl_year'] = initial_parquet_copy_test.apply(dtl_year, axis=1)\n",
    "initial_parquet_copy_test['dtl_town'] = initial_parquet_copy_test.apply(dtl_town, axis=1)\n",
    "initial_parquet_copy_test['dtl_town_year'] = initial_parquet_copy_test['dtl_town'] * initial_parquet_copy_test['dtl_year']\n",
    "\n",
    "# Filter the 4-room and the 5-room flats in the above areas. \n",
    "initial_parquet_copy_test = initial_parquet_copy_test[(initial_parquet_copy_test['flat_type'] == '4 ROOM') \n",
    "| (initial_parquet_copy_test['flat_type'] == '5 ROOM')]\n",
    "\n",
    "# Dependent Variable: Price per square meter of the flat area.\n",
    "initial_parquet_copy_test['psf'] = initial_parquet_copy_test['resale_price']/initial_parquet_copy_test['floor_area_sqm']\n",
    "initial_parquet_copy_test.head()\n"
   ]
  },
  {
   "cell_type": "markdown",
   "metadata": {},
   "source": [
    "### Method 1: DID Regression Model for Resale Price"
   ]
  },
  {
   "cell_type": "code",
   "execution_count": 61,
   "metadata": {},
   "outputs": [
    {
     "data": {
      "text/plain": [
       "array([ 980.81730239, -316.76887177,   84.21407772])"
      ]
     },
     "execution_count": 61,
     "metadata": {},
     "output_type": "execute_result"
    }
   ],
   "source": [
    "x = initial_parquet_copy_test.iloc[:,-4:-1]\n",
    "y = initial_parquet_copy_test.iloc[:,-1]\n",
    "initial_parquet_copy_test =  initial_parquet_copy_test[initial_parquet_copy_test['resale_year'] <=2015]\n",
    "\n",
    "from sklearn.linear_model import LinearRegression\n",
    "\n",
    "model = LinearRegression().fit(x, y)\n",
    "model.coef_"
   ]
  },
  {
   "cell_type": "code",
   "execution_count": 62,
   "metadata": {},
   "outputs": [
    {
     "data": {
      "text/html": [
       "<div>\n",
       "<style scoped>\n",
       "    .dataframe tbody tr th:only-of-type {\n",
       "        vertical-align: middle;\n",
       "    }\n",
       "\n",
       "    .dataframe tbody tr th {\n",
       "        vertical-align: top;\n",
       "    }\n",
       "\n",
       "    .dataframe thead th {\n",
       "        text-align: right;\n",
       "    }\n",
       "</style>\n",
       "<table border=\"1\" class=\"dataframe\">\n",
       "  <thead>\n",
       "    <tr style=\"text-align: right;\">\n",
       "      <th></th>\n",
       "      <th>month</th>\n",
       "      <th>town</th>\n",
       "      <th>flat_type</th>\n",
       "      <th>block</th>\n",
       "      <th>street_name</th>\n",
       "      <th>storey_range</th>\n",
       "      <th>floor_area_sqm</th>\n",
       "      <th>flat_model</th>\n",
       "      <th>lease_commence_date</th>\n",
       "      <th>remaining_lease</th>\n",
       "      <th>resale_price</th>\n",
       "      <th>_id</th>\n",
       "      <th>month_year</th>\n",
       "      <th>resale_year</th>\n",
       "      <th>resale_month</th>\n",
       "      <th>dtl_year</th>\n",
       "      <th>dtl_town</th>\n",
       "      <th>dtl_town_year</th>\n",
       "      <th>psf</th>\n",
       "    </tr>\n",
       "  </thead>\n",
       "  <tbody>\n",
       "    <tr>\n",
       "      <th>17777</th>\n",
       "      <td>2015-12</td>\n",
       "      <td>YISHUN</td>\n",
       "      <td>5 ROOM</td>\n",
       "      <td>798</td>\n",
       "      <td>YISHUN RING RD</td>\n",
       "      <td>07 TO 09</td>\n",
       "      <td>123.0</td>\n",
       "      <td>IMPROVED</td>\n",
       "      <td>1986</td>\n",
       "      <td>69</td>\n",
       "      <td>560000.0</td>\n",
       "      <td>17770.0</td>\n",
       "      <td>2015-12-01</td>\n",
       "      <td>2015</td>\n",
       "      <td>12</td>\n",
       "      <td>1</td>\n",
       "      <td>0</td>\n",
       "      <td>0</td>\n",
       "      <td>4552.845528</td>\n",
       "    </tr>\n",
       "    <tr>\n",
       "      <th>17778</th>\n",
       "      <td>2015-12</td>\n",
       "      <td>YISHUN</td>\n",
       "      <td>5 ROOM</td>\n",
       "      <td>357</td>\n",
       "      <td>YISHUN RING RD</td>\n",
       "      <td>07 TO 09</td>\n",
       "      <td>122.0</td>\n",
       "      <td>IMPROVED</td>\n",
       "      <td>1988</td>\n",
       "      <td>71</td>\n",
       "      <td>440000.0</td>\n",
       "      <td>17771.0</td>\n",
       "      <td>2015-12-01</td>\n",
       "      <td>2015</td>\n",
       "      <td>12</td>\n",
       "      <td>1</td>\n",
       "      <td>0</td>\n",
       "      <td>0</td>\n",
       "      <td>3606.557377</td>\n",
       "    </tr>\n",
       "    <tr>\n",
       "      <th>17779</th>\n",
       "      <td>2015-12</td>\n",
       "      <td>YISHUN</td>\n",
       "      <td>5 ROOM</td>\n",
       "      <td>229</td>\n",
       "      <td>YISHUN ST 21</td>\n",
       "      <td>01 TO 03</td>\n",
       "      <td>121.0</td>\n",
       "      <td>IMPROVED</td>\n",
       "      <td>1985</td>\n",
       "      <td>68</td>\n",
       "      <td>450000.0</td>\n",
       "      <td>17772.0</td>\n",
       "      <td>2015-12-01</td>\n",
       "      <td>2015</td>\n",
       "      <td>12</td>\n",
       "      <td>1</td>\n",
       "      <td>0</td>\n",
       "      <td>0</td>\n",
       "      <td>3719.008264</td>\n",
       "    </tr>\n",
       "    <tr>\n",
       "      <th>17780</th>\n",
       "      <td>2015-12</td>\n",
       "      <td>YISHUN</td>\n",
       "      <td>5 ROOM</td>\n",
       "      <td>626</td>\n",
       "      <td>YISHUN ST 61</td>\n",
       "      <td>01 TO 03</td>\n",
       "      <td>121.0</td>\n",
       "      <td>IMPROVED</td>\n",
       "      <td>1987</td>\n",
       "      <td>70</td>\n",
       "      <td>430000.0</td>\n",
       "      <td>17773.0</td>\n",
       "      <td>2015-12-01</td>\n",
       "      <td>2015</td>\n",
       "      <td>12</td>\n",
       "      <td>1</td>\n",
       "      <td>0</td>\n",
       "      <td>0</td>\n",
       "      <td>3553.719008</td>\n",
       "    </tr>\n",
       "    <tr>\n",
       "      <th>17781</th>\n",
       "      <td>2015-12</td>\n",
       "      <td>YISHUN</td>\n",
       "      <td>5 ROOM</td>\n",
       "      <td>872</td>\n",
       "      <td>YISHUN ST 81</td>\n",
       "      <td>10 TO 12</td>\n",
       "      <td>127.0</td>\n",
       "      <td>IMPROVED</td>\n",
       "      <td>1988</td>\n",
       "      <td>71</td>\n",
       "      <td>460000.0</td>\n",
       "      <td>17774.0</td>\n",
       "      <td>2015-12-01</td>\n",
       "      <td>2015</td>\n",
       "      <td>12</td>\n",
       "      <td>1</td>\n",
       "      <td>0</td>\n",
       "      <td>0</td>\n",
       "      <td>3622.047244</td>\n",
       "    </tr>\n",
       "  </tbody>\n",
       "</table>\n",
       "</div>"
      ],
      "text/plain": [
       "         month    town flat_type block     street_name storey_range  \\\n",
       "17777  2015-12  YISHUN    5 ROOM   798  YISHUN RING RD     07 TO 09   \n",
       "17778  2015-12  YISHUN    5 ROOM   357  YISHUN RING RD     07 TO 09   \n",
       "17779  2015-12  YISHUN    5 ROOM   229    YISHUN ST 21     01 TO 03   \n",
       "17780  2015-12  YISHUN    5 ROOM   626    YISHUN ST 61     01 TO 03   \n",
       "17781  2015-12  YISHUN    5 ROOM   872    YISHUN ST 81     10 TO 12   \n",
       "\n",
       "       floor_area_sqm flat_model lease_commence_date remaining_lease  \\\n",
       "17777           123.0   IMPROVED                1986              69   \n",
       "17778           122.0   IMPROVED                1988              71   \n",
       "17779           121.0   IMPROVED                1985              68   \n",
       "17780           121.0   IMPROVED                1987              70   \n",
       "17781           127.0   IMPROVED                1988              71   \n",
       "\n",
       "       resale_price      _id month_year  resale_year  resale_month  dtl_year  \\\n",
       "17777      560000.0  17770.0 2015-12-01         2015            12         1   \n",
       "17778      440000.0  17771.0 2015-12-01         2015            12         1   \n",
       "17779      450000.0  17772.0 2015-12-01         2015            12         1   \n",
       "17780      430000.0  17773.0 2015-12-01         2015            12         1   \n",
       "17781      460000.0  17774.0 2015-12-01         2015            12         1   \n",
       "\n",
       "       dtl_town  dtl_town_year          psf  \n",
       "17777         0              0  4552.845528  \n",
       "17778         0              0  3606.557377  \n",
       "17779         0              0  3719.008264  \n",
       "17780         0              0  3553.719008  \n",
       "17781         0              0  3622.047244  "
      ]
     },
     "execution_count": 62,
     "metadata": {},
     "output_type": "execute_result"
    }
   ],
   "source": [
    "initial_parquet_copy_test.tail()"
   ]
  },
  {
   "cell_type": "code",
   "execution_count": 63,
   "metadata": {},
   "outputs": [
    {
     "name": "stdout",
     "output_type": "stream",
     "text": [
      "                            OLS Regression Results                            \n",
      "==============================================================================\n",
      "Dep. Variable:                    psf   R-squared:                       0.097\n",
      "Model:                            OLS   Adj. R-squared:                  0.097\n",
      "Method:                 Least Squares   F-statistic:                 1.837e+04\n",
      "Date:                Fri, 05 Aug 2022   Prob (F-statistic):               0.00\n",
      "Time:                        20:07:04   Log-Likelihood:            -4.4134e+06\n",
      "No. Observations:              514351   AIC:                         8.827e+06\n",
      "Df Residuals:                  514347   BIC:                         8.827e+06\n",
      "Df Model:                           3                                         \n",
      "Covariance Type:            nonrobust                                         \n",
      "=================================================================================\n",
      "                    coef    std err          t      P>|t|      [0.025      0.975]\n",
      "---------------------------------------------------------------------------------\n",
      "const          3116.1564      2.132   1461.435      0.000    3111.977    3120.336\n",
      "dtl_year        980.8173      4.471    219.378      0.000     972.054     989.580\n",
      "dtl_town       -316.7689      7.555    -41.929      0.000    -331.576    -301.962\n",
      "dtl_town_year    84.2141     15.622      5.391      0.000      53.596     114.832\n",
      "==============================================================================\n",
      "Omnibus:                   171157.475   Durbin-Watson:                   0.179\n",
      "Prob(Omnibus):                  0.000   Jarque-Bera (JB):           661850.293\n",
      "Skew:                           1.637   Prob(JB):                         0.00\n",
      "Kurtosis:                       7.491   Cond. No.                         9.31\n",
      "==============================================================================\n",
      "\n",
      "Notes:\n",
      "[1] Standard Errors assume that the covariance matrix of the errors is correctly specified.\n"
     ]
    }
   ],
   "source": [
    "# Model to get the summary statistics\n",
    "import statsmodels.api as sm\n",
    "\n",
    "X2 = sm.add_constant(x)\n",
    "est = sm.OLS(y, X2)\n",
    "est2 = est.fit()\n",
    "print(est2.summary())"
   ]
  },
  {
   "cell_type": "markdown",
   "metadata": {},
   "source": [
    "1. the coefficient for the interaction term is positive indicating that there is a lift in the prices when the DTL was built and for the vicinity towns near DTL line. \n",
    "2. However, the Adjusted R2 is 0.096 (quite low), variance is the data is not accounted by the model."
   ]
  },
  {
   "cell_type": "markdown",
   "metadata": {},
   "source": [
    "### Check the plot"
   ]
  },
  {
   "cell_type": "code",
   "execution_count": 64,
   "metadata": {},
   "outputs": [
    {
     "data": {
      "application/vnd.plotly.v1+json": {
       "config": {
        "plotlyServerURL": "https://plot.ly"
       },
       "data": [
        {
         "hovertemplate": "dtl_town=0<br>month_year=%{x}<br>psf=%{y}<extra></extra>",
         "legendgroup": "0",
         "line": {
          "color": "#636efa",
          "dash": "solid"
         },
         "marker": {
          "symbol": "circle"
         },
         "mode": "lines",
         "name": "0",
         "orientation": "v",
         "showlegend": true,
         "type": "scatter",
         "x": [
          "1990-01-01T00:00:00",
          "1990-02-01T00:00:00",
          "1990-03-01T00:00:00",
          "1990-04-01T00:00:00",
          "1990-05-01T00:00:00",
          "1990-06-01T00:00:00",
          "1990-07-01T00:00:00",
          "1990-08-01T00:00:00",
          "1990-09-01T00:00:00",
          "1990-10-01T00:00:00",
          "1990-11-01T00:00:00",
          "1990-12-01T00:00:00",
          "1991-01-01T00:00:00",
          "1991-02-01T00:00:00",
          "1991-03-01T00:00:00",
          "1991-04-01T00:00:00",
          "1991-05-01T00:00:00",
          "1991-06-01T00:00:00",
          "1991-07-01T00:00:00",
          "1991-08-01T00:00:00",
          "1991-09-01T00:00:00",
          "1991-10-01T00:00:00",
          "1991-11-01T00:00:00",
          "1991-12-01T00:00:00",
          "1992-01-01T00:00:00",
          "1992-02-01T00:00:00",
          "1992-03-01T00:00:00",
          "1992-04-01T00:00:00",
          "1992-05-01T00:00:00",
          "1992-06-01T00:00:00",
          "1992-07-01T00:00:00",
          "1992-08-01T00:00:00",
          "1992-09-01T00:00:00",
          "1992-10-01T00:00:00",
          "1992-11-01T00:00:00",
          "1992-12-01T00:00:00",
          "1993-01-01T00:00:00",
          "1993-02-01T00:00:00",
          "1993-03-01T00:00:00",
          "1993-04-01T00:00:00",
          "1993-05-01T00:00:00",
          "1993-06-01T00:00:00",
          "1993-07-01T00:00:00",
          "1993-08-01T00:00:00",
          "1993-09-01T00:00:00",
          "1993-10-01T00:00:00",
          "1993-11-01T00:00:00",
          "1993-12-01T00:00:00",
          "1994-01-01T00:00:00",
          "1994-02-01T00:00:00",
          "1994-03-01T00:00:00",
          "1994-04-01T00:00:00",
          "1994-05-01T00:00:00",
          "1994-06-01T00:00:00",
          "1994-07-01T00:00:00",
          "1994-08-01T00:00:00",
          "1994-09-01T00:00:00",
          "1994-10-01T00:00:00",
          "1994-11-01T00:00:00",
          "1994-12-01T00:00:00",
          "1995-01-01T00:00:00",
          "1995-02-01T00:00:00",
          "1995-03-01T00:00:00",
          "1995-04-01T00:00:00",
          "1995-05-01T00:00:00",
          "1995-06-01T00:00:00",
          "1995-07-01T00:00:00",
          "1995-08-01T00:00:00",
          "1995-09-01T00:00:00",
          "1995-10-01T00:00:00",
          "1995-11-01T00:00:00",
          "1995-12-01T00:00:00",
          "1996-01-01T00:00:00",
          "1996-02-01T00:00:00",
          "1996-03-01T00:00:00",
          "1996-04-01T00:00:00",
          "1996-05-01T00:00:00",
          "1996-06-01T00:00:00",
          "1996-07-01T00:00:00",
          "1996-08-01T00:00:00",
          "1996-09-01T00:00:00",
          "1996-10-01T00:00:00",
          "1996-11-01T00:00:00",
          "1996-12-01T00:00:00",
          "1997-01-01T00:00:00",
          "1997-02-01T00:00:00",
          "1997-03-01T00:00:00",
          "1997-04-01T00:00:00",
          "1997-05-01T00:00:00",
          "1997-06-01T00:00:00",
          "1997-07-01T00:00:00",
          "1997-08-01T00:00:00",
          "1997-09-01T00:00:00",
          "1997-10-01T00:00:00",
          "1997-11-01T00:00:00",
          "1997-12-01T00:00:00",
          "1998-01-01T00:00:00",
          "1998-02-01T00:00:00",
          "1998-03-01T00:00:00",
          "1998-04-01T00:00:00",
          "1998-05-01T00:00:00",
          "1998-06-01T00:00:00",
          "1998-07-01T00:00:00",
          "1998-08-01T00:00:00",
          "1998-09-01T00:00:00",
          "1998-10-01T00:00:00",
          "1998-11-01T00:00:00",
          "1998-12-01T00:00:00",
          "1999-01-01T00:00:00",
          "1999-02-01T00:00:00",
          "1999-03-01T00:00:00",
          "1999-04-01T00:00:00",
          "1999-05-01T00:00:00",
          "1999-06-01T00:00:00",
          "1999-07-01T00:00:00",
          "1999-08-01T00:00:00",
          "1999-09-01T00:00:00",
          "1999-10-01T00:00:00",
          "1999-11-01T00:00:00",
          "1999-12-01T00:00:00",
          "2000-01-01T00:00:00",
          "2000-02-01T00:00:00",
          "2000-03-01T00:00:00",
          "2000-04-01T00:00:00",
          "2000-05-01T00:00:00",
          "2000-06-01T00:00:00",
          "2000-07-01T00:00:00",
          "2000-08-01T00:00:00",
          "2000-09-01T00:00:00",
          "2000-10-01T00:00:00",
          "2000-11-01T00:00:00",
          "2000-12-01T00:00:00",
          "2001-01-01T00:00:00",
          "2001-02-01T00:00:00",
          "2001-03-01T00:00:00",
          "2001-04-01T00:00:00",
          "2001-05-01T00:00:00",
          "2001-06-01T00:00:00",
          "2001-07-01T00:00:00",
          "2001-08-01T00:00:00",
          "2001-09-01T00:00:00",
          "2001-10-01T00:00:00",
          "2001-11-01T00:00:00",
          "2001-12-01T00:00:00",
          "2002-01-01T00:00:00",
          "2002-02-01T00:00:00",
          "2002-03-01T00:00:00",
          "2002-04-01T00:00:00",
          "2002-05-01T00:00:00",
          "2002-06-01T00:00:00",
          "2002-07-01T00:00:00",
          "2002-08-01T00:00:00",
          "2002-09-01T00:00:00",
          "2002-10-01T00:00:00",
          "2002-11-01T00:00:00",
          "2002-12-01T00:00:00",
          "2003-01-01T00:00:00",
          "2003-02-01T00:00:00",
          "2003-03-01T00:00:00",
          "2003-04-01T00:00:00",
          "2003-05-01T00:00:00",
          "2003-06-01T00:00:00",
          "2003-07-01T00:00:00",
          "2003-08-01T00:00:00",
          "2003-09-01T00:00:00",
          "2003-10-01T00:00:00",
          "2003-11-01T00:00:00",
          "2003-12-01T00:00:00",
          "2004-01-01T00:00:00",
          "2004-02-01T00:00:00",
          "2004-03-01T00:00:00",
          "2004-04-01T00:00:00",
          "2004-05-01T00:00:00",
          "2004-06-01T00:00:00",
          "2004-07-01T00:00:00",
          "2004-08-01T00:00:00",
          "2004-09-01T00:00:00",
          "2004-10-01T00:00:00",
          "2004-11-01T00:00:00",
          "2004-12-01T00:00:00",
          "2005-01-01T00:00:00",
          "2005-02-01T00:00:00",
          "2005-03-01T00:00:00",
          "2005-04-01T00:00:00",
          "2005-05-01T00:00:00",
          "2005-06-01T00:00:00",
          "2005-07-01T00:00:00",
          "2005-08-01T00:00:00",
          "2005-09-01T00:00:00",
          "2005-10-01T00:00:00",
          "2005-11-01T00:00:00",
          "2005-12-01T00:00:00",
          "2006-01-01T00:00:00",
          "2006-02-01T00:00:00",
          "2006-03-01T00:00:00",
          "2006-04-01T00:00:00",
          "2006-05-01T00:00:00",
          "2006-06-01T00:00:00",
          "2006-07-01T00:00:00",
          "2006-08-01T00:00:00",
          "2006-09-01T00:00:00",
          "2006-10-01T00:00:00",
          "2006-11-01T00:00:00",
          "2006-12-01T00:00:00",
          "2007-01-01T00:00:00",
          "2007-02-01T00:00:00",
          "2007-03-01T00:00:00",
          "2007-04-01T00:00:00",
          "2007-05-01T00:00:00",
          "2007-06-01T00:00:00",
          "2007-07-01T00:00:00",
          "2007-08-01T00:00:00",
          "2007-09-01T00:00:00",
          "2007-10-01T00:00:00",
          "2007-11-01T00:00:00",
          "2007-12-01T00:00:00",
          "2008-01-01T00:00:00",
          "2008-02-01T00:00:00",
          "2008-03-01T00:00:00",
          "2008-04-01T00:00:00",
          "2008-05-01T00:00:00",
          "2008-06-01T00:00:00",
          "2008-07-01T00:00:00",
          "2008-08-01T00:00:00",
          "2008-09-01T00:00:00",
          "2008-10-01T00:00:00",
          "2008-11-01T00:00:00",
          "2008-12-01T00:00:00",
          "2009-01-01T00:00:00",
          "2009-02-01T00:00:00",
          "2009-03-01T00:00:00",
          "2009-04-01T00:00:00",
          "2009-05-01T00:00:00",
          "2009-06-01T00:00:00",
          "2009-07-01T00:00:00",
          "2009-08-01T00:00:00",
          "2009-09-01T00:00:00",
          "2009-10-01T00:00:00",
          "2009-11-01T00:00:00",
          "2009-12-01T00:00:00",
          "2010-01-01T00:00:00",
          "2010-02-01T00:00:00",
          "2010-03-01T00:00:00",
          "2010-04-01T00:00:00",
          "2010-05-01T00:00:00",
          "2010-06-01T00:00:00",
          "2010-07-01T00:00:00",
          "2010-08-01T00:00:00",
          "2010-09-01T00:00:00",
          "2010-10-01T00:00:00",
          "2010-11-01T00:00:00",
          "2010-12-01T00:00:00",
          "2011-01-01T00:00:00",
          "2011-02-01T00:00:00",
          "2011-03-01T00:00:00",
          "2011-04-01T00:00:00",
          "2011-05-01T00:00:00",
          "2011-06-01T00:00:00",
          "2011-07-01T00:00:00",
          "2011-08-01T00:00:00",
          "2011-09-01T00:00:00",
          "2011-10-01T00:00:00",
          "2011-11-01T00:00:00",
          "2011-12-01T00:00:00",
          "2012-01-01T00:00:00",
          "2012-02-01T00:00:00",
          "2012-03-01T00:00:00",
          "2012-04-01T00:00:00",
          "2012-05-01T00:00:00",
          "2012-06-01T00:00:00",
          "2012-07-01T00:00:00",
          "2012-08-01T00:00:00",
          "2012-09-01T00:00:00",
          "2012-10-01T00:00:00",
          "2012-11-01T00:00:00",
          "2012-12-01T00:00:00",
          "2013-01-01T00:00:00",
          "2013-02-01T00:00:00",
          "2013-03-01T00:00:00",
          "2013-04-01T00:00:00",
          "2013-05-01T00:00:00",
          "2013-06-01T00:00:00",
          "2013-07-01T00:00:00",
          "2013-08-01T00:00:00",
          "2013-09-01T00:00:00",
          "2013-10-01T00:00:00",
          "2013-11-01T00:00:00",
          "2013-12-01T00:00:00",
          "2014-01-01T00:00:00",
          "2014-02-01T00:00:00",
          "2014-03-01T00:00:00",
          "2014-04-01T00:00:00",
          "2014-05-01T00:00:00",
          "2014-06-01T00:00:00",
          "2014-07-01T00:00:00",
          "2014-08-01T00:00:00",
          "2014-09-01T00:00:00",
          "2014-10-01T00:00:00",
          "2014-11-01T00:00:00",
          "2014-12-01T00:00:00",
          "2015-01-01T00:00:00",
          "2015-02-01T00:00:00",
          "2015-03-01T00:00:00",
          "2015-04-01T00:00:00",
          "2015-05-01T00:00:00",
          "2015-06-01T00:00:00",
          "2015-07-01T00:00:00",
          "2015-08-01T00:00:00",
          "2015-09-01T00:00:00",
          "2015-10-01T00:00:00",
          "2015-11-01T00:00:00",
          "2015-12-01T00:00:00"
         ],
         "xaxis": "x",
         "y": [
          873.7864077669902,
          896.551724137931,
          897.4358974358975,
          907.1428571428571,
          910.9472049689441,
          924.3697478991596,
          917.5824175824176,
          903.2258064516129,
          908.1312709030101,
          916.6666666666666,
          909.0909090909091,
          909.0909090909091,
          918.3673469387755,
          892.5619834710744,
          897.5514097943608,
          879.6296296296297,
          900.8264462809917,
          945.780711825488,
          923.9130434782609,
          914.357887874837,
          940.4761904761905,
          956.5011820330969,
          925.772880318335,
          900.8264462809917,
          928.5714285714286,
          906.0999606454152,
          956.7554932211314,
          978.2608695652174,
          983.6065573770492,
          989.6511255734556,
          1033.0578512396694,
          1075.268817204301,
          1080.9402146142054,
          1071.4285714285713,
          1081.9397993311036,
          1071.4285714285713,
          1116.504854368932,
          1130.952380952381,
          1143.543956043956,
          1181.5934065934066,
          1298.4637488947833,
          1380.952380952381,
          1507.4626865671642,
          1609.3565525383706,
          1666.6666666666667,
          1785.7142857142858,
          1826.923076923077,
          1844.2622950819673,
          1847.8260869565217,
          1858.3234946871312,
          1883.495145631068,
          1940.4761904761904,
          1967.2131147540983,
          1971.1538461538462,
          1983.4710743801652,
          2023.8095238095239,
          2004.0983606557377,
          2062.0204603580564,
          2041.0693202900995,
          2049.1803278688526,
          2073.170731707317,
          2111.1111111111113,
          2122.4230315139403,
          2193.877551020408,
          2264.4628099173556,
          2307.6923076923076,
          2362.6373626373625,
          2417.5824175824177,
          2447.11049468331,
          2476.190476190476,
          2560.9756097560976,
          2608.695652173913,
          2707.7523906854517,
          2768.9129052765416,
          2857.1428571428573,
          2991.0714285714284,
          3066.0377358490564,
          3242.4242424242425,
          3365.3846153846152,
          3439.2523364485983,
          3468.4684684684685,
          3476.190476190476,
          3442.3076923076924,
          3432.6923076923076,
          3423.913043478261,
          3383.0991412958624,
          3368.734335839599,
          3365.3846153846152,
          3347.1074380165287,
          3307.6923076923076,
          3291.6666666666665,
          3269.230769230769,
          3200,
          3169.3548387096776,
          3118.2795698924733,
          3047.6190476190477,
          2990.740740740741,
          2951.8072289156626,
          2857.1428571428573,
          2827.8688524590166,
          2790.842490842491,
          2759.437321937322,
          2714.285714285714,
          2695.6521739130435,
          2673.076923076923,
          2663.0434782608695,
          2619.5652173913045,
          2575.757575757576,
          2561.9834710743803,
          2547.169811320755,
          2533.653846153846,
          2534.090909090909,
          2521.7391304347825,
          2526.8817204301076,
          2567.3076923076924,
          2631.1475409836066,
          2688.9998168162665,
          2750,
          2788.4615384615386,
          2788.4615384615386,
          2788.4615384615386,
          2794.2597915918072,
          2783.0188679245284,
          2769.230769230769,
          2755.7305336832897,
          2725.2747252747254,
          2716.538789428815,
          2666.6666666666665,
          2673.590185105467,
          2653.1942633637545,
          2627.541650268923,
          2604.901960784314,
          2578.3132530120483,
          2546.7330538085253,
          2554.3478260869565,
          2521.7391304347825,
          2500,
          2472,
          2439.0243902439024,
          2444.4444444444443,
          2417.5824175824177,
          2397.8494623655915,
          2375,
          2361.904761904762,
          2342.1113421113423,
          2350.630866287121,
          2330.508474576271,
          2366.260162601626,
          2369.5652173913045,
          2380.9523809523807,
          2330.097087378641,
          2338.289581624282,
          2362.920544022906,
          2341.4634146341464,
          2343.6997749919637,
          2329.876343751942,
          2300,
          2329.682690030784,
          2352.9411764705883,
          2376.237623762376,
          2377.703635526921,
          2409.6385542168673,
          2405.6603773584907,
          2396.551724137931,
          2407.766990291262,
          2433.6283185840707,
          2417.4757281553398,
          2433.284543325527,
          2411.764705882353,
          2423.076923076923,
          2440.4761904761904,
          2487.8048780487807,
          2460.9375,
          2448.3009708737864,
          2461.5384615384614,
          2425.7425742574255,
          2450,
          2435.6435643564355,
          2459.3044263775973,
          2444.4444444444443,
          2445.7176532215817,
          2451.923076923077,
          2450.9803921568628,
          2422.222222222222,
          2408.7027722540647,
          2392.41452991453,
          2369.747899159664,
          2366.990291262136,
          2362.4210435234054,
          2373.7373737373737,
          2380.9523809523807,
          2388.886295743092,
          2379.171301446051,
          2355.371900826446,
          2393.44262295082,
          2400,
          2396.694214876033,
          2406.5040650406504,
          2422.7272727272725,
          2419.0476190476193,
          2441.1508282476025,
          2413.793103448276,
          2415.7303370786517,
          2447.0588235294117,
          2458.8106722942416,
          2475.9593157651407,
          2480.0540368722186,
          2487.8048780487807,
          2505.083701345384,
          2530.486725663717,
          2559.5238095238096,
          2598.1725634178906,
          2688.4256441468856,
          2711.439333862014,
          2765.4915785350568,
          2819.347319347319,
          2912.087912087912,
          2911.599511599512,
          2954.5454545454545,
          3033.3333333333335,
          3049.1803278688526,
          3118.181818181818,
          3186.081300813008,
          3174.1555002808313,
          3245.1474430757744,
          3267.5919377652053,
          3293.3556717881656,
          3264.4628099173556,
          3245.098039215686,
          3262.983571807101,
          3200,
          3239.66133424098,
          3273.809523809524,
          3263.157894736842,
          3327.2727272727275,
          3363.6363636363635,
          3369.306418219462,
          3403.2146160962075,
          3428.5714285714284,
          3497.967479674797,
          3500,
          3504.10525607376,
          3532.213438735178,
          3587.292693859256,
          3673.172124904798,
          3703.8220551378445,
          3777.777777777778,
          3800,
          3901.754385964912,
          3902.4725274725274,
          3912.8324187420853,
          3970.2380952380954,
          3975.6567252617024,
          4040.9836065573772,
          4034.5015345015345,
          4087.2692307692305,
          4112.903225806452,
          4169.94750656168,
          4239.9355877616745,
          4294.642857142857,
          4399.074074074074,
          4383.177570093458,
          4376.237623762377,
          4415.821678321678,
          4415.540540540541,
          4395.604395604396,
          4430.8943089430895,
          4463.1578947368425,
          4553.256302521008,
          4476.190476190476,
          4518.181818181818,
          4577.444914794312,
          4607.843137254902,
          4650.485436893204,
          4636.363636363636,
          4603.27868852459,
          4625,
          4683.516483516483,
          4727.272727272727,
          4773.809523809524,
          4803.571428571428,
          4752.272727272728,
          4727.272727272727,
          4680,
          4681.818181818182,
          4591.106719367589,
          4567.307692307692,
          4631.578947368421,
          4560.838095238095,
          4500,
          4536.585365853659,
          4457.142857142857,
          4500,
          4395.604395604396,
          4328.461538461539,
          4310.3448275862065,
          4222.222222222223,
          4227.272727272727,
          4205.555555555556,
          4240.444338270425,
          4227.272727272727,
          4175.290728688787,
          4134.615384615385,
          4181.818181818182,
          4126.21359223301,
          4179.144385026738,
          4093.0885509839,
          4130.952380952381,
          4107.142857142857,
          4109.090909090909,
          4173.553719008264,
          4153.846153846154
         ],
         "yaxis": "y"
        },
        {
         "hovertemplate": "dtl_town=1<br>month_year=%{x}<br>psf=%{y}<extra></extra>",
         "legendgroup": "1",
         "line": {
          "color": "#EF553B",
          "dash": "solid"
         },
         "marker": {
          "symbol": "circle"
         },
         "mode": "lines",
         "name": "1",
         "orientation": "v",
         "showlegend": true,
         "type": "scatter",
         "x": [
          "1990-01-01T00:00:00",
          "1990-02-01T00:00:00",
          "1990-03-01T00:00:00",
          "1990-04-01T00:00:00",
          "1990-05-01T00:00:00",
          "1990-06-01T00:00:00",
          "1990-07-01T00:00:00",
          "1990-08-01T00:00:00",
          "1990-09-01T00:00:00",
          "1990-10-01T00:00:00",
          "1990-11-01T00:00:00",
          "1990-12-01T00:00:00",
          "1991-01-01T00:00:00",
          "1991-02-01T00:00:00",
          "1991-03-01T00:00:00",
          "1991-04-01T00:00:00",
          "1991-05-01T00:00:00",
          "1991-06-01T00:00:00",
          "1991-07-01T00:00:00",
          "1991-08-01T00:00:00",
          "1991-09-01T00:00:00",
          "1991-10-01T00:00:00",
          "1991-11-01T00:00:00",
          "1991-12-01T00:00:00",
          "1992-01-01T00:00:00",
          "1992-02-01T00:00:00",
          "1992-03-01T00:00:00",
          "1992-04-01T00:00:00",
          "1992-05-01T00:00:00",
          "1992-06-01T00:00:00",
          "1992-07-01T00:00:00",
          "1992-08-01T00:00:00",
          "1992-09-01T00:00:00",
          "1992-10-01T00:00:00",
          "1992-11-01T00:00:00",
          "1992-12-01T00:00:00",
          "1993-01-01T00:00:00",
          "1993-02-01T00:00:00",
          "1993-03-01T00:00:00",
          "1993-04-01T00:00:00",
          "1993-05-01T00:00:00",
          "1993-06-01T00:00:00",
          "1993-07-01T00:00:00",
          "1993-08-01T00:00:00",
          "1993-09-01T00:00:00",
          "1993-10-01T00:00:00",
          "1993-11-01T00:00:00",
          "1993-12-01T00:00:00",
          "1994-01-01T00:00:00",
          "1994-02-01T00:00:00",
          "1994-03-01T00:00:00",
          "1994-04-01T00:00:00",
          "1994-05-01T00:00:00",
          "1994-06-01T00:00:00",
          "1994-07-01T00:00:00",
          "1994-08-01T00:00:00",
          "1994-09-01T00:00:00",
          "1994-10-01T00:00:00",
          "1994-11-01T00:00:00",
          "1994-12-01T00:00:00",
          "1995-01-01T00:00:00",
          "1995-02-01T00:00:00",
          "1995-03-01T00:00:00",
          "1995-04-01T00:00:00",
          "1995-05-01T00:00:00",
          "1995-06-01T00:00:00",
          "1995-07-01T00:00:00",
          "1995-08-01T00:00:00",
          "1995-09-01T00:00:00",
          "1995-10-01T00:00:00",
          "1995-11-01T00:00:00",
          "1995-12-01T00:00:00",
          "1996-01-01T00:00:00",
          "1996-02-01T00:00:00",
          "1996-03-01T00:00:00",
          "1996-04-01T00:00:00",
          "1996-05-01T00:00:00",
          "1996-06-01T00:00:00",
          "1996-07-01T00:00:00",
          "1996-08-01T00:00:00",
          "1996-09-01T00:00:00",
          "1996-10-01T00:00:00",
          "1996-11-01T00:00:00",
          "1996-12-01T00:00:00",
          "1997-01-01T00:00:00",
          "1997-02-01T00:00:00",
          "1997-03-01T00:00:00",
          "1997-04-01T00:00:00",
          "1997-05-01T00:00:00",
          "1997-06-01T00:00:00",
          "1997-07-01T00:00:00",
          "1997-08-01T00:00:00",
          "1997-09-01T00:00:00",
          "1997-10-01T00:00:00",
          "1997-11-01T00:00:00",
          "1997-12-01T00:00:00",
          "1998-01-01T00:00:00",
          "1998-02-01T00:00:00",
          "1998-03-01T00:00:00",
          "1998-04-01T00:00:00",
          "1998-05-01T00:00:00",
          "1998-06-01T00:00:00",
          "1998-07-01T00:00:00",
          "1998-08-01T00:00:00",
          "1998-09-01T00:00:00",
          "1998-10-01T00:00:00",
          "1998-11-01T00:00:00",
          "1998-12-01T00:00:00",
          "1999-01-01T00:00:00",
          "1999-02-01T00:00:00",
          "1999-03-01T00:00:00",
          "1999-04-01T00:00:00",
          "1999-05-01T00:00:00",
          "1999-06-01T00:00:00",
          "1999-07-01T00:00:00",
          "1999-08-01T00:00:00",
          "1999-09-01T00:00:00",
          "1999-10-01T00:00:00",
          "1999-11-01T00:00:00",
          "1999-12-01T00:00:00",
          "2000-01-01T00:00:00",
          "2000-02-01T00:00:00",
          "2000-03-01T00:00:00",
          "2000-04-01T00:00:00",
          "2000-05-01T00:00:00",
          "2000-06-01T00:00:00",
          "2000-07-01T00:00:00",
          "2000-08-01T00:00:00",
          "2000-09-01T00:00:00",
          "2000-10-01T00:00:00",
          "2000-11-01T00:00:00",
          "2000-12-01T00:00:00",
          "2001-01-01T00:00:00",
          "2001-02-01T00:00:00",
          "2001-03-01T00:00:00",
          "2001-04-01T00:00:00",
          "2001-05-01T00:00:00",
          "2001-06-01T00:00:00",
          "2001-07-01T00:00:00",
          "2001-08-01T00:00:00",
          "2001-09-01T00:00:00",
          "2001-10-01T00:00:00",
          "2001-11-01T00:00:00",
          "2001-12-01T00:00:00",
          "2002-01-01T00:00:00",
          "2002-02-01T00:00:00",
          "2002-03-01T00:00:00",
          "2002-04-01T00:00:00",
          "2002-05-01T00:00:00",
          "2002-06-01T00:00:00",
          "2002-07-01T00:00:00",
          "2002-08-01T00:00:00",
          "2002-09-01T00:00:00",
          "2002-10-01T00:00:00",
          "2002-11-01T00:00:00",
          "2002-12-01T00:00:00",
          "2003-01-01T00:00:00",
          "2003-02-01T00:00:00",
          "2003-03-01T00:00:00",
          "2003-04-01T00:00:00",
          "2003-05-01T00:00:00",
          "2003-06-01T00:00:00",
          "2003-07-01T00:00:00",
          "2003-08-01T00:00:00",
          "2003-09-01T00:00:00",
          "2003-10-01T00:00:00",
          "2003-11-01T00:00:00",
          "2003-12-01T00:00:00",
          "2004-01-01T00:00:00",
          "2004-02-01T00:00:00",
          "2004-03-01T00:00:00",
          "2004-04-01T00:00:00",
          "2004-05-01T00:00:00",
          "2004-06-01T00:00:00",
          "2004-07-01T00:00:00",
          "2004-08-01T00:00:00",
          "2004-09-01T00:00:00",
          "2004-10-01T00:00:00",
          "2004-11-01T00:00:00",
          "2004-12-01T00:00:00",
          "2005-01-01T00:00:00",
          "2005-02-01T00:00:00",
          "2005-03-01T00:00:00",
          "2005-04-01T00:00:00",
          "2005-05-01T00:00:00",
          "2005-06-01T00:00:00",
          "2005-07-01T00:00:00",
          "2005-08-01T00:00:00",
          "2005-09-01T00:00:00",
          "2005-10-01T00:00:00",
          "2005-11-01T00:00:00",
          "2005-12-01T00:00:00",
          "2006-01-01T00:00:00",
          "2006-02-01T00:00:00",
          "2006-03-01T00:00:00",
          "2006-04-01T00:00:00",
          "2006-05-01T00:00:00",
          "2006-06-01T00:00:00",
          "2006-07-01T00:00:00",
          "2006-08-01T00:00:00",
          "2006-09-01T00:00:00",
          "2006-10-01T00:00:00",
          "2006-11-01T00:00:00",
          "2006-12-01T00:00:00",
          "2007-01-01T00:00:00",
          "2007-02-01T00:00:00",
          "2007-03-01T00:00:00",
          "2007-04-01T00:00:00",
          "2007-05-01T00:00:00",
          "2007-06-01T00:00:00",
          "2007-07-01T00:00:00",
          "2007-08-01T00:00:00",
          "2007-09-01T00:00:00",
          "2007-10-01T00:00:00",
          "2007-11-01T00:00:00",
          "2007-12-01T00:00:00",
          "2008-01-01T00:00:00",
          "2008-02-01T00:00:00",
          "2008-03-01T00:00:00",
          "2008-04-01T00:00:00",
          "2008-05-01T00:00:00",
          "2008-06-01T00:00:00",
          "2008-07-01T00:00:00",
          "2008-08-01T00:00:00",
          "2008-09-01T00:00:00",
          "2008-10-01T00:00:00",
          "2008-11-01T00:00:00",
          "2008-12-01T00:00:00",
          "2009-01-01T00:00:00",
          "2009-02-01T00:00:00",
          "2009-03-01T00:00:00",
          "2009-04-01T00:00:00",
          "2009-05-01T00:00:00",
          "2009-06-01T00:00:00",
          "2009-07-01T00:00:00",
          "2009-08-01T00:00:00",
          "2009-09-01T00:00:00",
          "2009-10-01T00:00:00",
          "2009-11-01T00:00:00",
          "2009-12-01T00:00:00",
          "2010-01-01T00:00:00",
          "2010-02-01T00:00:00",
          "2010-03-01T00:00:00",
          "2010-04-01T00:00:00",
          "2010-05-01T00:00:00",
          "2010-06-01T00:00:00",
          "2010-07-01T00:00:00",
          "2010-08-01T00:00:00",
          "2010-09-01T00:00:00",
          "2010-10-01T00:00:00",
          "2010-11-01T00:00:00",
          "2010-12-01T00:00:00",
          "2011-01-01T00:00:00",
          "2011-02-01T00:00:00",
          "2011-03-01T00:00:00",
          "2011-04-01T00:00:00",
          "2011-05-01T00:00:00",
          "2011-06-01T00:00:00",
          "2011-07-01T00:00:00",
          "2011-08-01T00:00:00",
          "2011-09-01T00:00:00",
          "2011-10-01T00:00:00",
          "2011-11-01T00:00:00",
          "2011-12-01T00:00:00",
          "2012-01-01T00:00:00",
          "2012-02-01T00:00:00",
          "2012-03-01T00:00:00",
          "2012-04-01T00:00:00",
          "2012-05-01T00:00:00",
          "2012-06-01T00:00:00",
          "2012-07-01T00:00:00",
          "2012-08-01T00:00:00",
          "2012-09-01T00:00:00",
          "2012-10-01T00:00:00",
          "2012-11-01T00:00:00",
          "2012-12-01T00:00:00",
          "2013-01-01T00:00:00",
          "2013-02-01T00:00:00",
          "2013-03-01T00:00:00",
          "2013-04-01T00:00:00",
          "2013-05-01T00:00:00",
          "2013-06-01T00:00:00",
          "2013-07-01T00:00:00",
          "2013-08-01T00:00:00",
          "2013-09-01T00:00:00",
          "2013-10-01T00:00:00",
          "2013-11-01T00:00:00",
          "2013-12-01T00:00:00",
          "2014-01-01T00:00:00",
          "2014-02-01T00:00:00",
          "2014-03-01T00:00:00",
          "2014-04-01T00:00:00",
          "2014-05-01T00:00:00",
          "2014-06-01T00:00:00",
          "2014-07-01T00:00:00",
          "2014-08-01T00:00:00",
          "2014-09-01T00:00:00",
          "2014-10-01T00:00:00",
          "2014-11-01T00:00:00",
          "2014-12-01T00:00:00",
          "2015-01-01T00:00:00",
          "2015-02-01T00:00:00",
          "2015-03-01T00:00:00",
          "2015-04-01T00:00:00",
          "2015-05-01T00:00:00",
          "2015-06-01T00:00:00",
          "2015-07-01T00:00:00",
          "2015-08-01T00:00:00",
          "2015-09-01T00:00:00",
          "2015-10-01T00:00:00",
          "2015-11-01T00:00:00",
          "2015-12-01T00:00:00"
         ],
         "xaxis": "x",
         "y": [
          786.8131868131868,
          850.9615384615385,
          797.2527472527472,
          856.6949838187702,
          867.0007307652156,
          842.1052631578947,
          894.2307692307693,
          860.2150537634409,
          818.8511326860842,
          855.8558558558559,
          902.9126213592233,
          852.68857356236,
          806.4516129032259,
          850.5177993527508,
          810.1407000686343,
          797.8723404255319,
          893.2038834951456,
          784.6153846153846,
          851.2396694214876,
          871.5220949263503,
          868.9320388349514,
          906.0017652250663,
          909.0909090909091,
          810.7112571549713,
          901.639344262295,
          830.8905899925318,
          831.439393939394,
          864.731142643764,
          962.1212121212121,
          892.0937450262613,
          1034.7911497105047,
          1053.6912751677853,
          898.5716952949963,
          1125.8797653958945,
          1057.6923076923076,
          1010.6382978723404,
          1139.784946236559,
          906.0402684563759,
          1071.8569065343258,
          1021.4162984781542,
          1212.121212121212,
          1368.9320388349515,
          1356.5891472868218,
          1481.1253561253561,
          1489.3617021276596,
          1778.8461538461538,
          1590.8882783882782,
          1666.6666666666667,
          1680.8983926521241,
          1671.1538461538462,
          1718.75,
          1778.688524590164,
          1830.128205128205,
          1857.7749683944376,
          1791.0471369819677,
          1913.978494623656,
          1871.3272543059777,
          1857.142857142857,
          1885.2459016393443,
          1786.4077669902913,
          1893.9205955334987,
          1861.7021276595744,
          1876.0688009544642,
          2021.505376344086,
          2048.076923076923,
          2047.6190476190477,
          2130.9523809523807,
          2155.339805825243,
          2193.877551020408,
          2256.636424731183,
          2265.9574468085107,
          2371.9262295081967,
          2379.8076923076924,
          2427.1844660194174,
          2461.5384615384614,
          2575.757575757576,
          2850.467289719626,
          2880.2541544477026,
          3010.4723464601284,
          3119.877049180328,
          3156.25,
          3058.252427184466,
          3106.7961165048546,
          3035.714285714286,
          3058.252427184466,
          3009.7087378640776,
          3009.259259259259,
          2961.1650485436894,
          3009.9564097483653,
          2945.054945054945,
          2836.5384615384614,
          2857.1428571428573,
          2805.8252427184466,
          2795.0819672131147,
          2718.4466019417478,
          2644.230769230769,
          2644.230769230769,
          2568.136604774536,
          2500,
          2475.7281553398057,
          2434.792755787901,
          2406.0846560846558,
          2380.9523809523807,
          2378.640776699029,
          2330.097087378641,
          2311.2537843198666,
          2290.7923582837457,
          2258.064516129032,
          2254.521707800396,
          2238.095238095238,
          2222.7517106549367,
          2231.7307692307695,
          2211.5384615384614,
          2194.1747572815534,
          2270.4918032786886,
          2261.904761904762,
          2336.302017654477,
          2415.7303370786517,
          2454.5454545454545,
          2473.1182795698924,
          2479.166666666667,
          2540.9836065573772,
          2494.6236559139784,
          2501.6129032258063,
          2380.9523809523807,
          2430.5710048201704,
          2321.4285714285716,
          2371.2792062306626,
          2285.714285714286,
          2279.569892473118,
          2310.6796116504856,
          2320.3883495145633,
          2227.7227722772277,
          2296.703296703297,
          2233.009708737864,
          2257.4257425742576,
          2212.962962962963,
          2207.7109783420465,
          2197.802197802198,
          2252.2918987744706,
          2277.5535939470365,
          2287.087912087912,
          2316.6666666666665,
          2243.4455445544554,
          2289.3976897689768,
          2158.101702219349,
          2198.3021918792674,
          2207.920792079208,
          2157.7311577311575,
          2129.4035577258455,
          2115.1831202537733,
          2114.703126331033,
          2169.902912621359,
          2189.3203883495144,
          2134.2262252895075,
          2073.4487734487734,
          2202.0851339671563,
          2187.5,
          2231.404958677686,
          2137.2549019607845,
          2239.1304347826085,
          2238.095238095238,
          2300,
          2242.9906542056074,
          2320.2900995108785,
          2350.0243072435587,
          2311.4695340501794,
          2293.5148514851485,
          2219.4055944055945,
          2240.4068423485896,
          2326.530612244898,
          2323.2323232323233,
          2278.871937124364,
          2365.5913978494623,
          2365.8536585365855,
          2250,
          2340.425531914894,
          2279.569892473118,
          2340.6518345042937,
          2355.371900826446,
          2365.3846153846152,
          2368.3802954922357,
          2407.766990291262,
          2280,
          2283.633841886269,
          2296.19622801441,
          2330.097087378641,
          2331.635567402894,
          2389.423076923077,
          2304.952440033085,
          2360.1804699365675,
          2392.1188630490956,
          2388.349514563107,
          2333.3333333333335,
          2310.6796116504856,
          2401.6393442622953,
          2445.054945054945,
          2380,
          2325.2427184466023,
          2394.67571367443,
          2391.0233866713556,
          2423.2323232323233,
          2417.5084175084176,
          2284.2307692307695,
          2428.4994400895857,
          2365.5913978494623,
          2491.1551862771375,
          2446.2303422756704,
          2363.856163179181,
          2395.8333333333335,
          2383.4951456310678,
          2526.8817204301076,
          2545.4545454545455,
          2666.6666666666665,
          2528.9256198347107,
          2900,
          3016.528925619835,
          2974.27398989899,
          2949.640287769784,
          3154.195804195804,
          3197.7357320099254,
          3263.157894736842,
          3159.90990990991,
          3303.267973856209,
          3317.3076923076924,
          3333.3333333333335,
          3262.9129129129133,
          3333.3333333333335,
          3130.9523809523807,
          3272.7272727272725,
          3154.7619047619046,
          3223.2207333707775,
          3317.424242424242,
          3218.253968253968,
          3320.7491433297882,
          3311.8279569892475,
          3299.9526515151515,
          3494.6236559139784,
          3333.3333333333335,
          3291.6666666666665,
          3510.6382978723404,
          3421.448087431694,
          3523.1086028065893,
          3473.1182795698924,
          3615.8008658008657,
          3690,
          3761.818181818182,
          3773.809523809524,
          3799.2805755395684,
          3724.206349206349,
          3883.4951456310678,
          3857.1428571428573,
          3989.239926739927,
          4040.0641025641025,
          3868.686868686869,
          3956.834532374101,
          3990.2912621359224,
          4049.3536305424673,
          4136.230907457322,
          4297.520661157025,
          4144.144144144144,
          4155.339805825242,
          4143.345323741007,
          4216.666666666667,
          4207.004470938897,
          4220.238095238095,
          4395.833333333333,
          4357.747223691169,
          4427.819720887668,
          4349.59349593496,
          4297.619047619048,
          4570.267131242741,
          4417.47572815534,
          4464.285714285715,
          4612.715298885512,
          4307.692307692308,
          4463.636363636364,
          4700,
          4463.695652173913,
          4636.035313001605,
          4708.138173302108,
          4575.357455500438,
          4611.111111111111,
          4565.7202380952385,
          4909.79097909791,
          4417.529072868879,
          4501.055170334639,
          4408.156237701693,
          4250,
          4465.152565880721,
          4412.304866850322,
          4281.411359724612,
          4232.5017325017325,
          4255.31914893617,
          4285.714285714285,
          4115.217391304348,
          4126.21359223301,
          4236.751152073733,
          4242.424242424242,
          3966.537634408602,
          4166.666666666667,
          3956.043956043956,
          4020.879120879121,
          4039.6194959301756,
          3929.1020521868327,
          3970.7918050941307,
          3914.8936170212764,
          4107.142857142857,
          4139.784946236559,
          3960.780544073825,
          3954.081632653061,
          3964.625077463334
         ],
         "yaxis": "y"
        }
       ],
       "layout": {
        "legend": {
         "title": {
          "text": "dtl_town"
         },
         "tracegroupgap": 0
        },
        "margin": {
         "t": 60
        },
        "template": {
         "data": {
          "bar": [
           {
            "error_x": {
             "color": "#2a3f5f"
            },
            "error_y": {
             "color": "#2a3f5f"
            },
            "marker": {
             "line": {
              "color": "#E5ECF6",
              "width": 0.5
             },
             "pattern": {
              "fillmode": "overlay",
              "size": 10,
              "solidity": 0.2
             }
            },
            "type": "bar"
           }
          ],
          "barpolar": [
           {
            "marker": {
             "line": {
              "color": "#E5ECF6",
              "width": 0.5
             },
             "pattern": {
              "fillmode": "overlay",
              "size": 10,
              "solidity": 0.2
             }
            },
            "type": "barpolar"
           }
          ],
          "carpet": [
           {
            "aaxis": {
             "endlinecolor": "#2a3f5f",
             "gridcolor": "white",
             "linecolor": "white",
             "minorgridcolor": "white",
             "startlinecolor": "#2a3f5f"
            },
            "baxis": {
             "endlinecolor": "#2a3f5f",
             "gridcolor": "white",
             "linecolor": "white",
             "minorgridcolor": "white",
             "startlinecolor": "#2a3f5f"
            },
            "type": "carpet"
           }
          ],
          "choropleth": [
           {
            "colorbar": {
             "outlinewidth": 0,
             "ticks": ""
            },
            "type": "choropleth"
           }
          ],
          "contour": [
           {
            "colorbar": {
             "outlinewidth": 0,
             "ticks": ""
            },
            "colorscale": [
             [
              0,
              "#0d0887"
             ],
             [
              0.1111111111111111,
              "#46039f"
             ],
             [
              0.2222222222222222,
              "#7201a8"
             ],
             [
              0.3333333333333333,
              "#9c179e"
             ],
             [
              0.4444444444444444,
              "#bd3786"
             ],
             [
              0.5555555555555556,
              "#d8576b"
             ],
             [
              0.6666666666666666,
              "#ed7953"
             ],
             [
              0.7777777777777778,
              "#fb9f3a"
             ],
             [
              0.8888888888888888,
              "#fdca26"
             ],
             [
              1,
              "#f0f921"
             ]
            ],
            "type": "contour"
           }
          ],
          "contourcarpet": [
           {
            "colorbar": {
             "outlinewidth": 0,
             "ticks": ""
            },
            "type": "contourcarpet"
           }
          ],
          "heatmap": [
           {
            "colorbar": {
             "outlinewidth": 0,
             "ticks": ""
            },
            "colorscale": [
             [
              0,
              "#0d0887"
             ],
             [
              0.1111111111111111,
              "#46039f"
             ],
             [
              0.2222222222222222,
              "#7201a8"
             ],
             [
              0.3333333333333333,
              "#9c179e"
             ],
             [
              0.4444444444444444,
              "#bd3786"
             ],
             [
              0.5555555555555556,
              "#d8576b"
             ],
             [
              0.6666666666666666,
              "#ed7953"
             ],
             [
              0.7777777777777778,
              "#fb9f3a"
             ],
             [
              0.8888888888888888,
              "#fdca26"
             ],
             [
              1,
              "#f0f921"
             ]
            ],
            "type": "heatmap"
           }
          ],
          "heatmapgl": [
           {
            "colorbar": {
             "outlinewidth": 0,
             "ticks": ""
            },
            "colorscale": [
             [
              0,
              "#0d0887"
             ],
             [
              0.1111111111111111,
              "#46039f"
             ],
             [
              0.2222222222222222,
              "#7201a8"
             ],
             [
              0.3333333333333333,
              "#9c179e"
             ],
             [
              0.4444444444444444,
              "#bd3786"
             ],
             [
              0.5555555555555556,
              "#d8576b"
             ],
             [
              0.6666666666666666,
              "#ed7953"
             ],
             [
              0.7777777777777778,
              "#fb9f3a"
             ],
             [
              0.8888888888888888,
              "#fdca26"
             ],
             [
              1,
              "#f0f921"
             ]
            ],
            "type": "heatmapgl"
           }
          ],
          "histogram": [
           {
            "marker": {
             "pattern": {
              "fillmode": "overlay",
              "size": 10,
              "solidity": 0.2
             }
            },
            "type": "histogram"
           }
          ],
          "histogram2d": [
           {
            "colorbar": {
             "outlinewidth": 0,
             "ticks": ""
            },
            "colorscale": [
             [
              0,
              "#0d0887"
             ],
             [
              0.1111111111111111,
              "#46039f"
             ],
             [
              0.2222222222222222,
              "#7201a8"
             ],
             [
              0.3333333333333333,
              "#9c179e"
             ],
             [
              0.4444444444444444,
              "#bd3786"
             ],
             [
              0.5555555555555556,
              "#d8576b"
             ],
             [
              0.6666666666666666,
              "#ed7953"
             ],
             [
              0.7777777777777778,
              "#fb9f3a"
             ],
             [
              0.8888888888888888,
              "#fdca26"
             ],
             [
              1,
              "#f0f921"
             ]
            ],
            "type": "histogram2d"
           }
          ],
          "histogram2dcontour": [
           {
            "colorbar": {
             "outlinewidth": 0,
             "ticks": ""
            },
            "colorscale": [
             [
              0,
              "#0d0887"
             ],
             [
              0.1111111111111111,
              "#46039f"
             ],
             [
              0.2222222222222222,
              "#7201a8"
             ],
             [
              0.3333333333333333,
              "#9c179e"
             ],
             [
              0.4444444444444444,
              "#bd3786"
             ],
             [
              0.5555555555555556,
              "#d8576b"
             ],
             [
              0.6666666666666666,
              "#ed7953"
             ],
             [
              0.7777777777777778,
              "#fb9f3a"
             ],
             [
              0.8888888888888888,
              "#fdca26"
             ],
             [
              1,
              "#f0f921"
             ]
            ],
            "type": "histogram2dcontour"
           }
          ],
          "mesh3d": [
           {
            "colorbar": {
             "outlinewidth": 0,
             "ticks": ""
            },
            "type": "mesh3d"
           }
          ],
          "parcoords": [
           {
            "line": {
             "colorbar": {
              "outlinewidth": 0,
              "ticks": ""
             }
            },
            "type": "parcoords"
           }
          ],
          "pie": [
           {
            "automargin": true,
            "type": "pie"
           }
          ],
          "scatter": [
           {
            "fillpattern": {
             "fillmode": "overlay",
             "size": 10,
             "solidity": 0.2
            },
            "type": "scatter"
           }
          ],
          "scatter3d": [
           {
            "line": {
             "colorbar": {
              "outlinewidth": 0,
              "ticks": ""
             }
            },
            "marker": {
             "colorbar": {
              "outlinewidth": 0,
              "ticks": ""
             }
            },
            "type": "scatter3d"
           }
          ],
          "scattercarpet": [
           {
            "marker": {
             "colorbar": {
              "outlinewidth": 0,
              "ticks": ""
             }
            },
            "type": "scattercarpet"
           }
          ],
          "scattergeo": [
           {
            "marker": {
             "colorbar": {
              "outlinewidth": 0,
              "ticks": ""
             }
            },
            "type": "scattergeo"
           }
          ],
          "scattergl": [
           {
            "marker": {
             "colorbar": {
              "outlinewidth": 0,
              "ticks": ""
             }
            },
            "type": "scattergl"
           }
          ],
          "scattermapbox": [
           {
            "marker": {
             "colorbar": {
              "outlinewidth": 0,
              "ticks": ""
             }
            },
            "type": "scattermapbox"
           }
          ],
          "scatterpolar": [
           {
            "marker": {
             "colorbar": {
              "outlinewidth": 0,
              "ticks": ""
             }
            },
            "type": "scatterpolar"
           }
          ],
          "scatterpolargl": [
           {
            "marker": {
             "colorbar": {
              "outlinewidth": 0,
              "ticks": ""
             }
            },
            "type": "scatterpolargl"
           }
          ],
          "scatterternary": [
           {
            "marker": {
             "colorbar": {
              "outlinewidth": 0,
              "ticks": ""
             }
            },
            "type": "scatterternary"
           }
          ],
          "surface": [
           {
            "colorbar": {
             "outlinewidth": 0,
             "ticks": ""
            },
            "colorscale": [
             [
              0,
              "#0d0887"
             ],
             [
              0.1111111111111111,
              "#46039f"
             ],
             [
              0.2222222222222222,
              "#7201a8"
             ],
             [
              0.3333333333333333,
              "#9c179e"
             ],
             [
              0.4444444444444444,
              "#bd3786"
             ],
             [
              0.5555555555555556,
              "#d8576b"
             ],
             [
              0.6666666666666666,
              "#ed7953"
             ],
             [
              0.7777777777777778,
              "#fb9f3a"
             ],
             [
              0.8888888888888888,
              "#fdca26"
             ],
             [
              1,
              "#f0f921"
             ]
            ],
            "type": "surface"
           }
          ],
          "table": [
           {
            "cells": {
             "fill": {
              "color": "#EBF0F8"
             },
             "line": {
              "color": "white"
             }
            },
            "header": {
             "fill": {
              "color": "#C8D4E3"
             },
             "line": {
              "color": "white"
             }
            },
            "type": "table"
           }
          ]
         },
         "layout": {
          "annotationdefaults": {
           "arrowcolor": "#2a3f5f",
           "arrowhead": 0,
           "arrowwidth": 1
          },
          "autotypenumbers": "strict",
          "coloraxis": {
           "colorbar": {
            "outlinewidth": 0,
            "ticks": ""
           }
          },
          "colorscale": {
           "diverging": [
            [
             0,
             "#8e0152"
            ],
            [
             0.1,
             "#c51b7d"
            ],
            [
             0.2,
             "#de77ae"
            ],
            [
             0.3,
             "#f1b6da"
            ],
            [
             0.4,
             "#fde0ef"
            ],
            [
             0.5,
             "#f7f7f7"
            ],
            [
             0.6,
             "#e6f5d0"
            ],
            [
             0.7,
             "#b8e186"
            ],
            [
             0.8,
             "#7fbc41"
            ],
            [
             0.9,
             "#4d9221"
            ],
            [
             1,
             "#276419"
            ]
           ],
           "sequential": [
            [
             0,
             "#0d0887"
            ],
            [
             0.1111111111111111,
             "#46039f"
            ],
            [
             0.2222222222222222,
             "#7201a8"
            ],
            [
             0.3333333333333333,
             "#9c179e"
            ],
            [
             0.4444444444444444,
             "#bd3786"
            ],
            [
             0.5555555555555556,
             "#d8576b"
            ],
            [
             0.6666666666666666,
             "#ed7953"
            ],
            [
             0.7777777777777778,
             "#fb9f3a"
            ],
            [
             0.8888888888888888,
             "#fdca26"
            ],
            [
             1,
             "#f0f921"
            ]
           ],
           "sequentialminus": [
            [
             0,
             "#0d0887"
            ],
            [
             0.1111111111111111,
             "#46039f"
            ],
            [
             0.2222222222222222,
             "#7201a8"
            ],
            [
             0.3333333333333333,
             "#9c179e"
            ],
            [
             0.4444444444444444,
             "#bd3786"
            ],
            [
             0.5555555555555556,
             "#d8576b"
            ],
            [
             0.6666666666666666,
             "#ed7953"
            ],
            [
             0.7777777777777778,
             "#fb9f3a"
            ],
            [
             0.8888888888888888,
             "#fdca26"
            ],
            [
             1,
             "#f0f921"
            ]
           ]
          },
          "colorway": [
           "#636efa",
           "#EF553B",
           "#00cc96",
           "#ab63fa",
           "#FFA15A",
           "#19d3f3",
           "#FF6692",
           "#B6E880",
           "#FF97FF",
           "#FECB52"
          ],
          "font": {
           "color": "#2a3f5f"
          },
          "geo": {
           "bgcolor": "white",
           "lakecolor": "white",
           "landcolor": "#E5ECF6",
           "showlakes": true,
           "showland": true,
           "subunitcolor": "white"
          },
          "hoverlabel": {
           "align": "left"
          },
          "hovermode": "closest",
          "mapbox": {
           "style": "light"
          },
          "paper_bgcolor": "white",
          "plot_bgcolor": "#E5ECF6",
          "polar": {
           "angularaxis": {
            "gridcolor": "white",
            "linecolor": "white",
            "ticks": ""
           },
           "bgcolor": "#E5ECF6",
           "radialaxis": {
            "gridcolor": "white",
            "linecolor": "white",
            "ticks": ""
           }
          },
          "scene": {
           "xaxis": {
            "backgroundcolor": "#E5ECF6",
            "gridcolor": "white",
            "gridwidth": 2,
            "linecolor": "white",
            "showbackground": true,
            "ticks": "",
            "zerolinecolor": "white"
           },
           "yaxis": {
            "backgroundcolor": "#E5ECF6",
            "gridcolor": "white",
            "gridwidth": 2,
            "linecolor": "white",
            "showbackground": true,
            "ticks": "",
            "zerolinecolor": "white"
           },
           "zaxis": {
            "backgroundcolor": "#E5ECF6",
            "gridcolor": "white",
            "gridwidth": 2,
            "linecolor": "white",
            "showbackground": true,
            "ticks": "",
            "zerolinecolor": "white"
           }
          },
          "shapedefaults": {
           "line": {
            "color": "#2a3f5f"
           }
          },
          "ternary": {
           "aaxis": {
            "gridcolor": "white",
            "linecolor": "white",
            "ticks": ""
           },
           "baxis": {
            "gridcolor": "white",
            "linecolor": "white",
            "ticks": ""
           },
           "bgcolor": "#E5ECF6",
           "caxis": {
            "gridcolor": "white",
            "linecolor": "white",
            "ticks": ""
           }
          },
          "title": {
           "x": 0.05
          },
          "xaxis": {
           "automargin": true,
           "gridcolor": "white",
           "linecolor": "white",
           "ticks": "",
           "title": {
            "standoff": 15
           },
           "zerolinecolor": "white",
           "zerolinewidth": 2
          },
          "yaxis": {
           "automargin": true,
           "gridcolor": "white",
           "linecolor": "white",
           "ticks": "",
           "title": {
            "standoff": 15
           },
           "zerolinecolor": "white",
           "zerolinewidth": 2
          }
         }
        },
        "xaxis": {
         "anchor": "y",
         "domain": [
          0,
          1
         ],
         "title": {
          "text": "month_year"
         }
        },
        "yaxis": {
         "anchor": "x",
         "domain": [
          0,
          1
         ],
         "title": {
          "text": "psf"
         }
        }
       }
      }
     },
     "metadata": {},
     "output_type": "display_data"
    },
    {
     "data": {
      "text/plain": [
       "<Figure size 1440x720 with 0 Axes>"
      ]
     },
     "metadata": {},
     "output_type": "display_data"
    }
   ],
   "source": [
    "graphed = initial_parquet_copy_test.groupby(['month_year', 'dtl_town'], as_index=False)['psf'].median()\n",
    "\n",
    "plt.figure(figsize=(20,10))\n",
    "px.line(data_frame=graphed, x='month_year', y='psf', color='dtl_town')"
   ]
  },
  {
   "cell_type": "markdown",
   "metadata": {},
   "source": [
    "1. Prior to 2007-2015, the difference in the psf for DTL and non-DTL town areas was large. \n",
    "2. During the treatment period, when the DTL line was built, the psf for DTL and non-DTL lines came significantly close"
   ]
  },
  {
   "cell_type": "markdown",
   "metadata": {},
   "source": [
    "### Calculate the difference in the resale price"
   ]
  },
  {
   "cell_type": "code",
   "execution_count": 65,
   "metadata": {},
   "outputs": [
    {
     "name": "stdout",
     "output_type": "stream",
     "text": [
      "[84.21407772]\n"
     ]
    }
   ],
   "source": [
    "# DTL_year, DTL_town, DTL_town_year\n",
    "# Not DTL not 2007-2015\n",
    "\n",
    "# treated = 0 | find the difference across the time\n",
    "X_no_dtl_year_no_dtl_town = [1,0,0,0]\n",
    "X_dtl_year_no_dtl_town = [1,1,0,0]\n",
    "Y_no_dtl_year_no_dtl_town = est2.predict(X_no_dtl_year_no_dtl_town)\n",
    "Y_dtl_year_no_dtl_town = est2.predict(X_dtl_year_no_dtl_town)\n",
    "\n",
    "\n",
    "D1 = Y_dtl_year_no_dtl_town - Y_no_dtl_year_no_dtl_town\n",
    "\n",
    "X_no_dtl_year_dtl_town = [1,0,1,0]\n",
    "X_dtl_year_dtl_town = [1,1,1,1]\n",
    "Y_no_dtl_year_dtl_town = est2.predict(X_no_dtl_year_dtl_town)\n",
    "Y_dtl_year_dtl_town = est2.predict(X_dtl_year_dtl_town)\n",
    "\n",
    "D2 = Y_dtl_year_dtl_town  - Y_no_dtl_year_dtl_town\n",
    "\n",
    "\n",
    "print(D2-D1)"
   ]
  },
  {
   "cell_type": "markdown",
   "metadata": {},
   "source": [
    "### Method 2: DID Regression Model for month-over-month change in Resale Price for DTL/non-DTL towns"
   ]
  },
  {
   "cell_type": "code",
   "execution_count": 30,
   "metadata": {},
   "outputs": [
    {
     "name": "stderr",
     "output_type": "stream",
     "text": [
      "/Users/bhumikalamba/ipy-jupyter-venv3.7/lib/python3.7/site-packages/ipykernel_launcher.py:3: SettingWithCopyWarning:\n",
      "\n",
      "\n",
      "A value is trying to be set on a copy of a slice from a DataFrame.\n",
      "Try using .loc[row_indexer,col_indexer] = value instead\n",
      "\n",
      "See the caveats in the documentation: https://pandas.pydata.org/pandas-docs/stable/user_guide/indexing.html#returning-a-view-versus-a-copy\n",
      "\n",
      "/Users/bhumikalamba/ipy-jupyter-venv3.7/lib/python3.7/site-packages/ipykernel_launcher.py:7: SettingWithCopyWarning:\n",
      "\n",
      "\n",
      "A value is trying to be set on a copy of a slice from a DataFrame.\n",
      "Try using .loc[row_indexer,col_indexer] = value instead\n",
      "\n",
      "See the caveats in the documentation: https://pandas.pydata.org/pandas-docs/stable/user_guide/indexing.html#returning-a-view-versus-a-copy\n",
      "\n"
     ]
    },
    {
     "data": {
      "text/html": [
       "<div>\n",
       "<style scoped>\n",
       "    .dataframe tbody tr th:only-of-type {\n",
       "        vertical-align: middle;\n",
       "    }\n",
       "\n",
       "    .dataframe tbody tr th {\n",
       "        vertical-align: top;\n",
       "    }\n",
       "\n",
       "    .dataframe thead th {\n",
       "        text-align: right;\n",
       "    }\n",
       "</style>\n",
       "<table border=\"1\" class=\"dataframe\">\n",
       "  <thead>\n",
       "    <tr style=\"text-align: right;\">\n",
       "      <th></th>\n",
       "      <th>month_year</th>\n",
       "      <th>dtl_town</th>\n",
       "      <th>psf</th>\n",
       "      <th>mom_resale_price</th>\n",
       "      <th>resale_year</th>\n",
       "      <th>dtl_year</th>\n",
       "      <th>dtl_town_year</th>\n",
       "    </tr>\n",
       "  </thead>\n",
       "  <tbody>\n",
       "    <tr>\n",
       "      <th>0</th>\n",
       "      <td>1990-01-01</td>\n",
       "      <td>0</td>\n",
       "      <td>873.786408</td>\n",
       "      <td>NaN</td>\n",
       "      <td>1990</td>\n",
       "      <td>0</td>\n",
       "      <td>0</td>\n",
       "    </tr>\n",
       "    <tr>\n",
       "      <th>2</th>\n",
       "      <td>1990-02-01</td>\n",
       "      <td>0</td>\n",
       "      <td>896.551724</td>\n",
       "      <td>2.605364</td>\n",
       "      <td>1990</td>\n",
       "      <td>0</td>\n",
       "      <td>0</td>\n",
       "    </tr>\n",
       "    <tr>\n",
       "      <th>4</th>\n",
       "      <td>1990-03-01</td>\n",
       "      <td>0</td>\n",
       "      <td>897.435897</td>\n",
       "      <td>0.098619</td>\n",
       "      <td>1990</td>\n",
       "      <td>0</td>\n",
       "      <td>0</td>\n",
       "    </tr>\n",
       "    <tr>\n",
       "      <th>6</th>\n",
       "      <td>1990-04-01</td>\n",
       "      <td>0</td>\n",
       "      <td>907.142857</td>\n",
       "      <td>1.081633</td>\n",
       "      <td>1990</td>\n",
       "      <td>0</td>\n",
       "      <td>0</td>\n",
       "    </tr>\n",
       "    <tr>\n",
       "      <th>8</th>\n",
       "      <td>1990-05-01</td>\n",
       "      <td>0</td>\n",
       "      <td>910.947205</td>\n",
       "      <td>0.419377</td>\n",
       "      <td>1990</td>\n",
       "      <td>0</td>\n",
       "      <td>0</td>\n",
       "    </tr>\n",
       "  </tbody>\n",
       "</table>\n",
       "</div>"
      ],
      "text/plain": [
       "  month_year  dtl_town         psf  mom_resale_price  resale_year  dtl_year  \\\n",
       "0 1990-01-01         0  873.786408               NaN         1990         0   \n",
       "2 1990-02-01         0  896.551724          2.605364         1990         0   \n",
       "4 1990-03-01         0  897.435897          0.098619         1990         0   \n",
       "6 1990-04-01         0  907.142857          1.081633         1990         0   \n",
       "8 1990-05-01         0  910.947205          0.419377         1990         0   \n",
       "\n",
       "   dtl_town_year  \n",
       "0              0  \n",
       "2              0  \n",
       "4              0  \n",
       "6              0  \n",
       "8              0  "
      ]
     },
     "execution_count": 30,
     "metadata": {},
     "output_type": "execute_result"
    }
   ],
   "source": [
    "# Calculate mom resale price for NON-DTL Towns. \n",
    "graphed_0 = graphed[graphed['dtl_town'] == 0]\n",
    "graphed_0['mom_resale_price'] = graphed_0['psf'].pct_change() * 100\n",
    "\n",
    "# Calculate mom resale price for DTL Towns. \n",
    "graphed_1 = graphed[graphed['dtl_town'] == 1]\n",
    "graphed_1['mom_resale_price'] = graphed_1['psf'].pct_change() * 100\n",
    "\n",
    "# concat both\n",
    "graphed_combo = pd.concat([graphed_0, graphed_1], axis=0)\n",
    "\n",
    "# extract features for DID regression. \n",
    "graphed_combo['resale_year'] = graphed_combo['month_year'].dt.year\n",
    "graphed_combo['dtl_year']= graphed_combo.apply(dtl_year, axis=1)\n",
    "graphed_combo['dtl_town_year'] = graphed_combo['dtl_town'] * graphed_combo['dtl_year']\n",
    "\n",
    "# Drop the na due to mom calculations\n",
    "graphed_combo.dropna(inplace=True)\n",
    "graphed_combo[graphed_combo['resale_year'] <=2015]\n",
    "graphed_combo.tail()"
   ]
  },
  {
   "cell_type": "markdown",
   "metadata": {},
   "source": [
    "### DID Regression Model"
   ]
  },
  {
   "cell_type": "code",
   "execution_count": 47,
   "metadata": {},
   "outputs": [
    {
     "data": {
      "text/plain": [
       "array([-0.20783838, -0.1535744 ,  0.1776116 ])"
      ]
     },
     "execution_count": 47,
     "metadata": {},
     "output_type": "execute_result"
    }
   ],
   "source": [
    "x = graphed_combo[['dtl_town_year', 'dtl_year', 'dtl_town']]\n",
    "y = graphed_combo['mom_resale_price']\n",
    "\n",
    "from sklearn.linear_model import LinearRegression\n",
    "\n",
    "model = LinearRegression().fit(x, y)\n",
    "model.coef_"
   ]
  },
  {
   "cell_type": "code",
   "execution_count": 48,
   "metadata": {},
   "outputs": [
    {
     "name": "stdout",
     "output_type": "stream",
     "text": [
      "                            OLS Regression Results                            \n",
      "==============================================================================\n",
      "Dep. Variable:       mom_resale_price   R-squared:                       0.002\n",
      "Model:                            OLS   Adj. R-squared:                 -0.003\n",
      "Method:                 Least Squares   F-statistic:                    0.3153\n",
      "Date:                Fri, 05 Aug 2022   Prob (F-statistic):              0.814\n",
      "Time:                        19:52:17   Log-Likelihood:                -1676.7\n",
      "No. Observations:                 622   AIC:                             3361.\n",
      "Df Residuals:                     618   BIC:                             3379.\n",
      "Df Model:                           3                                         \n",
      "Covariance Type:            nonrobust                                         \n",
      "=================================================================================\n",
      "                    coef    std err          t      P>|t|      [0.025      0.975]\n",
      "---------------------------------------------------------------------------------\n",
      "const             0.5655      0.245      2.305      0.021       0.084       1.047\n",
      "dtl_town_year    -0.2078      0.624     -0.333      0.739      -1.434       1.018\n",
      "dtl_year         -0.1536      0.441     -0.348      0.728      -1.021       0.713\n",
      "dtl_town          0.1776      0.347      0.512      0.609      -0.504       0.859\n",
      "==============================================================================\n",
      "Omnibus:                      192.529   Durbin-Watson:                   2.637\n",
      "Prob(Omnibus):                  0.000   Jarque-Bera (JB):             2583.999\n",
      "Skew:                           0.976   Prob(JB):                         0.00\n",
      "Kurtosis:                      12.792   Cond. No.                         6.33\n",
      "==============================================================================\n",
      "\n",
      "Notes:\n",
      "[1] Standard Errors assume that the covariance matrix of the errors is correctly specified.\n"
     ]
    }
   ],
   "source": [
    "# Model to get the summary statistics\n",
    "import statsmodels.api as sm\n",
    "\n",
    "X2 = sm.add_constant(x)\n",
    "est = sm.OLS(y, X2)\n",
    "est2 = est.fit()\n",
    "print(est2.summary())"
   ]
  },
  {
   "cell_type": "markdown",
   "metadata": {},
   "source": [
    "1. the coefficient for the interaction term is positive indicating that there is a lift in the prices when the DTL was built and for the vicinity towns near DTL line. \n",
    "2. However, the Adjusted R2 is worse (-0.003) in comparison to previous model. \n",
    "3. Also, p-value of the coefficients is > 0.05 \n",
    "4. Method 1 is better than the Method 2. "
   ]
  },
  {
   "cell_type": "markdown",
   "metadata": {},
   "source": []
  }
 ],
 "metadata": {
  "kernelspec": {
   "display_name": "ipy-jupyter-venv3.7",
   "language": "python",
   "name": "myipy_jupter_env3.7"
  },
  "language_info": {
   "codemirror_mode": {
    "name": "ipython",
    "version": 3
   },
   "file_extension": ".py",
   "mimetype": "text/x-python",
   "name": "python",
   "nbconvert_exporter": "python",
   "pygments_lexer": "ipython3",
   "version": "3.7.4"
  },
  "orig_nbformat": 4,
  "vscode": {
   "interpreter": {
    "hash": "aee8b7b246df8f9039afb4144a1f6fd8d2ca17a180786b69acc140d282b71a49"
   }
  }
 },
 "nbformat": 4,
 "nbformat_minor": 2
}
